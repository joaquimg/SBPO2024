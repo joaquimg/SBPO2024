{
 "cells": [
  {
   "cell_type": "markdown",
   "metadata": {},
   "source": [
    "# JuMP - Julia for Mathematial Programming\n",
    "# @ SBPO (Brazilian Operations Research Society Meeting)\n",
    "### Fortaleza, Ceara, Brazil\n",
    "### November 4 to 5, 2024"
   ]
  },
  {
   "cell_type": "markdown",
   "metadata": {},
   "source": [
    "Open http://colab.research.google.com/ and import the `notebook_sbpo.ipynb` by providing the link to the GitHub repository:\n",
    "\n",
    "https://github.com/joaquimg/SBPO2024\n",
    "Install Julia\n",
    "Click \"Connect\" in the top-right corner.\n",
    "\n",
    "You will get a warning that the kernel julia-1.9 is not recognized, defaulting to python3. This is because Julia is not officially supported by Google Colab.\n",
    "\n",
    "To install Julia, create a new code cell at the top of the notebook,"
   ]
  },
  {
   "cell_type": "markdown",
   "metadata": {},
   "source": [
    "Run this cell once"
   ]
  },
  {
   "cell_type": "code",
   "execution_count": 1,
   "metadata": {},
   "outputs": [],
   "source": [
    "%%shell\n",
    "set -e\n",
    "wget -nv https://raw.githubusercontent.com/joaquimg/SBPO2024/main/install_colab.sh -O /tmp/install_colab.sh\n",
    "bash /tmp/install_colab.sh  # Takes ~ 2 minutes"
   ]
  },
  {
   "cell_type": "markdown",
   "metadata": {},
   "source": [
    "Then refresh the page... and run this cell once"
   ]
  },
  {
   "cell_type": "code",
   "execution_count": 2,
   "metadata": {},
   "outputs": [],
   "source": [
    "import Downloads, Pkg\n",
    "Downloads.download(\"https://raw.githubusercontent.com/joaquimg/SBPO2024/main/Project.toml\", \"/tmp/Project.toml\")\n",
    "Pkg.activate(\"/tmp/Project.toml\")\n",
    "Pkg.instantiate()  # Can take ~ 7 minutes"
   ]
  },
  {
   "cell_type": "markdown",
   "metadata": {},
   "source": [
    "If you have cloned the repo and is running locally, you can do:"
   ]
  },
  {
   "cell_type": "code",
   "execution_count": 3,
   "metadata": {},
   "outputs": [],
   "source": [
    "# cd(@__DIR__)\n",
    "# using Pkg\n",
    "# Pkg.activate(\".\")"
   ]
  },
  {
   "cell_type": "markdown",
   "metadata": {},
   "source": [
    "### **Note**\n",
    "\n",
    "This notebook was based on https://github.com/odow/SESO2023/"
   ]
  },
  {
   "cell_type": "markdown",
   "metadata": {},
   "source": [
    "---"
   ]
  },
  {
   "cell_type": "markdown",
   "metadata": {},
   "source": [
    "# Getting started with Julia"
   ]
  },
  {
   "cell_type": "markdown",
   "metadata": {},
   "source": [
    "Because JuMP is embedded in Julia, knowing some basic Julia is important\n",
    "before you start learning JuMP."
   ]
  },
  {
   "cell_type": "markdown",
   "metadata": {},
   "source": [
    "**Tip**\n",
    "    This tutorial is designed to provide a minimalist crash course in the\n",
    "    basics of Julia. You can find resources that provide a more comprehensive\n",
    "    introduction to Julia [here](https://julialang.org/learning/)."
   ]
  },
  {
   "cell_type": "markdown",
   "metadata": {},
   "source": [
    "More material can be found at:\n",
    "* Julia workflows: https://modernjuliaworkflows.org/\n",
    "* Advanced Scientific Computing in Julia: https://www.youtube.com/watch?v=x4oi0IKf52w&list=PL-G47MxHVTewUm5ywggLvmbUCNOD2RbKA&ab_channel=TimHoly\n",
    "* Julia tutorials by Abel: https://www.youtube.com/watch?v=o6H-J0Vu2uo&list=PLOOY0eChA1uwYXUGnF0FZBuiYQjgQffPu&ab_channel=AbelSiqueira\n",
    "* Julia and JuMP tutorials by Abel [in portuguese]: https://www.youtube.com/watch?v=v1hJsmMqpvw&list=PLOOY0eChA1uyjKRQDeR4-LfsObNqslIUh&index=10&ab_channel=AbelSiqueira"
   ]
  },
  {
   "cell_type": "markdown",
   "metadata": {},
   "source": [
    "## Installing Julia"
   ]
  },
  {
   "cell_type": "markdown",
   "metadata": {},
   "source": [
    "To install Julia, [download the latest stable release](https://julialang.org/downloads/),\n",
    "then follow the [platform specific install instructions](https://julialang.org/downloads/platform/)."
   ]
  },
  {
   "cell_type": "markdown",
   "metadata": {},
   "source": [
    "Alternatively, consider using the command line tool: [juliaup](https://github.com/JuliaLang/juliaup)\n",
    "\n",
    "*Windows*:\n",
    "`winget install julia -s msstore`\n",
    "\n",
    "*Mac / Linux*:\n",
    "`curl -fsSL https://install.julialang.org | sh`"
   ]
  },
  {
   "cell_type": "markdown",
   "metadata": {},
   "source": [
    "**Tip**\n",
    "    Unless you know otherwise, you probably want the 64-bit version."
   ]
  },
  {
   "cell_type": "markdown",
   "metadata": {},
   "source": [
    "## IDEs"
   ]
  },
  {
   "cell_type": "markdown",
   "metadata": {},
   "source": [
    "Next, you need an IDE to develop in. VS Code is a popular choice, so follow\n",
    "[these install instructions](https://www.julia-vscode.org/docs/stable/gettingstarted/)."
   ]
  },
  {
   "cell_type": "markdown",
   "metadata": {},
   "source": [
    "Julia can also be used with [Jupyter notebooks](https://github.com/JuliaLang/IJulia.jl)\n",
    "or the reactive notebooks of [Pluto.jl](https://github.com/fonsp/Pluto.jl)."
   ]
  },
  {
   "cell_type": "markdown",
   "metadata": {},
   "source": [
    "## The Julia REPL"
   ]
  },
  {
   "cell_type": "markdown",
   "metadata": {},
   "source": [
    "The main way of interacting with Julia is via its REPL (Read Evaluate Print\n",
    "Loop). To access the REPL, start the Julia executable to arrive at the\n",
    "`julia>` prompt, and then start coding:"
   ]
  },
  {
   "cell_type": "code",
   "execution_count": null,
   "metadata": {},
   "outputs": [],
   "source": [
    "1 + 1"
   ]
  },
  {
   "cell_type": "markdown",
   "metadata": {},
   "source": [
    "As your programs become larger, write a script as a text file, and then run\n",
    "that file using:\n",
    "```julia\n",
    "julia> include(\"path/to/file.jl\")\n",
    "```"
   ]
  },
  {
   "cell_type": "markdown",
   "metadata": {},
   "source": [
    "**Warning**\n",
    "    Because of Julia's startup latency, running scripts from the command line\n",
    "    like the following is slow:\n",
    "    ```\n",
    "    $ julia path/to/file.jl\n",
    "    ```\n",
    "    Use the REPL or a notebook instead, and read The \"time-to-first-solve\" issue\n",
    "    for more information."
   ]
  },
  {
   "cell_type": "markdown",
   "metadata": {},
   "source": [
    "### Code blocks in this documentation"
   ]
  },
  {
   "cell_type": "markdown",
   "metadata": {},
   "source": [
    "In this documentation you'll see a mix of code examples with and without the\n",
    "`julia>`."
   ]
  },
  {
   "cell_type": "markdown",
   "metadata": {},
   "source": [
    "The Julia prompt is mostly used to demonstrate short code snippets, and the\n",
    "output is exactly what you will see if run from the REPL."
   ]
  },
  {
   "cell_type": "markdown",
   "metadata": {},
   "source": [
    "Blocks without the `julia>` can be copy-pasted into the REPL, but they are\n",
    "used because they enable richer output like plots or LaTeX to be displayed in\n",
    "the online and [PDF](https://jump.dev/JuMP.jl/stable/JuMP.pdf) versions of the\n",
    "documentation. If you run them from the REPL you may see different output."
   ]
  },
  {
   "cell_type": "markdown",
   "metadata": {},
   "source": [
    "## Where to get help"
   ]
  },
  {
   "cell_type": "markdown",
   "metadata": {},
   "source": [
    " * Read the documentation\n",
    "   * JuMP [https://jump.dev/JuMP.jl/stable/](https://jump.dev/JuMP.jl/stable/)\n",
    "   * Julia [https://docs.julialang.org/en/v1/](https://docs.julialang.org/en/v1/)\n",
    " * Ask (or browse) the Julia community forum: [https://discourse.julialang.org](https://discourse.julialang.org)\n",
    "   * If the question is JuMP-related, ask in the [Optimization (Mathematical)](https://discourse.julialang.org/c/domain/opt/13)\n",
    "     section, or tag your question with \"jump\""
   ]
  },
  {
   "cell_type": "markdown",
   "metadata": {},
   "source": [
    "To access the built-in help at the REPL, type `?` to enter help-mode, followed\n",
    "by the name of the function to lookup:\n",
    "```julia\n",
    "help?> print\n",
    "search: print println printstyled sprint isprint prevind parentindices precision escape_string\n",
    "\n",
    "  print([io::IO], xs...)\n",
    "\n",
    "  Write to io (or to the default output stream stdout if io is not given) a canonical\n",
    "  (un-decorated) text representation. The representation used by print includes minimal formatting\n",
    "  and tries to avoid Julia-specific details.\n",
    "\n",
    "  print falls back to calling show, so most types should just define show. Define print if your\n",
    "  type has a separate \"plain\" representation. For example, show displays strings with quotes, and\n",
    "  print displays strings without quotes.\n",
    "\n",
    "  string returns the output of print as a string.\n",
    "\n",
    "  Examples\n",
    "  ≡≡≡≡≡≡≡≡≡≡\n",
    "\n",
    "  julia> print(\"Hello World!\")\n",
    "  Hello World!\n",
    "  julia> io = IOBuffer();\n",
    "\n",
    "  julia> print(io, \"Hello\", ' ', :World!)\n",
    "\n",
    "  julia> String(take!(io))\n",
    "  \"Hello World!\"\n",
    "```"
   ]
  },
  {
   "cell_type": "markdown",
   "metadata": {},
   "source": [
    "## Numbers and arithmetic"
   ]
  },
  {
   "cell_type": "markdown",
   "metadata": {},
   "source": [
    "Since we want to solve optimization problems, we're going to be using a lot of\n",
    "math. Luckily, Julia is great for math, with all the usual operators:"
   ]
  },
  {
   "cell_type": "code",
   "execution_count": null,
   "metadata": {},
   "outputs": [],
   "source": [
    "1 + 1\n",
    "1 - 2\n",
    "2 * 2\n",
    "4 / 5\n",
    "3^2"
   ]
  },
  {
   "cell_type": "markdown",
   "metadata": {},
   "source": [
    "Did you notice how Julia didn't print `.0` after some of the numbers? Julia is\n",
    "a dynamic language, which means you never have to explicitly declare the type\n",
    "of a variable. However, in the background, Julia is giving each variable a\n",
    "type. Check the type of something using the `typeof` function:"
   ]
  },
  {
   "cell_type": "code",
   "execution_count": null,
   "metadata": {},
   "outputs": [],
   "source": [
    "typeof(1)\n",
    "typeof(1.0)"
   ]
  },
  {
   "cell_type": "markdown",
   "metadata": {},
   "source": [
    "Here `1` is an `Int64`, which is an integer with 64 bits of precision, and\n",
    "`1.0` is a `Float64`, which is a floating point number with 64-bits of\n",
    "precision."
   ]
  },
  {
   "cell_type": "markdown",
   "metadata": {},
   "source": [
    "**Tip**\n",
    "    If you aren't familiar with floating point numbers, make sure to read\n",
    "    the Floating point numbers section."
   ]
  },
  {
   "cell_type": "markdown",
   "metadata": {},
   "source": [
    "We create complex numbers using `im`:"
   ]
  },
  {
   "cell_type": "code",
   "execution_count": null,
   "metadata": {},
   "outputs": [],
   "source": [
    "x = 2 + 1im\n",
    "real(x)\n",
    "imag(x)\n",
    "typeof(x)\n",
    "x * (1 - 2im)"
   ]
  },
  {
   "cell_type": "markdown",
   "metadata": {},
   "source": [
    "**Info**\n",
    "    The curly brackets surround what we call the _parameters_ of a type. You\n",
    "    can read `Complex{Int64}`  as \"a complex number, where the real and\n",
    "    imaginary parts are represented by `Int64`.\" If we call\n",
    "    `typeof(1.0 + 2.0im)` it will be `Complex{Float64}`, which a complex\n",
    "    number with the parts represented by `Float64`."
   ]
  },
  {
   "cell_type": "markdown",
   "metadata": {},
   "source": [
    "There are also some cool things like an irrational representation of π."
   ]
  },
  {
   "cell_type": "code",
   "execution_count": null,
   "metadata": {},
   "outputs": [],
   "source": [
    "π"
   ]
  },
  {
   "cell_type": "markdown",
   "metadata": {},
   "source": [
    "**Tip**\n",
    "    To make π (and most other Greek letters), type `\\pi` and then press\n",
    "    `[TAB]`."
   ]
  },
  {
   "cell_type": "code",
   "execution_count": null,
   "metadata": {},
   "outputs": [],
   "source": [
    "typeof(π)"
   ]
  },
  {
   "cell_type": "markdown",
   "metadata": {},
   "source": [
    "However, if we do math with irrational numbers, they get converted to\n",
    "`Float64`:"
   ]
  },
  {
   "cell_type": "code",
   "execution_count": null,
   "metadata": {},
   "outputs": [],
   "source": [
    "typeof(2π / 3)"
   ]
  },
  {
   "cell_type": "markdown",
   "metadata": {},
   "source": [
    "### Floating point numbers"
   ]
  },
  {
   "cell_type": "markdown",
   "metadata": {},
   "source": [
    "**Warning**\n",
    "    If you aren't familiar with floating point numbers, make sure to read this\n",
    "    section carefully."
   ]
  },
  {
   "cell_type": "markdown",
   "metadata": {},
   "source": [
    "A `Float64` is a [floating point](https://en.wikipedia.org/wiki/Floating-point_arithmetic)\n",
    "approximation of a real number using 64-bits of information."
   ]
  },
  {
   "cell_type": "markdown",
   "metadata": {},
   "source": [
    "Because it is an approximation, things we know hold true in mathematics don't\n",
    "hold true in a computer. For example:"
   ]
  },
  {
   "cell_type": "code",
   "execution_count": null,
   "metadata": {},
   "outputs": [],
   "source": [
    "0.1 * 3 == 0.3"
   ]
  },
  {
   "cell_type": "markdown",
   "metadata": {},
   "source": [
    "A more complicated example is:"
   ]
  },
  {
   "cell_type": "code",
   "execution_count": null,
   "metadata": {},
   "outputs": [],
   "source": [
    "sin(2π / 3) == √3 / 2"
   ]
  },
  {
   "cell_type": "markdown",
   "metadata": {},
   "source": [
    "**Tip**\n",
    "    Get `√` by typing `\\sqrt` then press `[TAB]`."
   ]
  },
  {
   "cell_type": "markdown",
   "metadata": {},
   "source": [
    "Let's see what the differences are:"
   ]
  },
  {
   "cell_type": "code",
   "execution_count": null,
   "metadata": {},
   "outputs": [],
   "source": [
    "0.1 * 3 - 0.3\n",
    "sin(2π / 3) - √3 / 2"
   ]
  },
  {
   "cell_type": "markdown",
   "metadata": {},
   "source": [
    "They are small, but not zero."
   ]
  },
  {
   "cell_type": "markdown",
   "metadata": {},
   "source": [
    "One way of explaining this difference is to consider how we would write\n",
    "`1 / 3` and `2 / 3` using only four digits after the decimal point. We would\n",
    "write `1 / 3` as `0.3333`, and `2 / 3` as `0.6667`. So, despite the fact that\n",
    "`2 * (1 / 3) == 2 / 3`, `2 * 0.3333 == 0.6666 != 0.6667`."
   ]
  },
  {
   "cell_type": "markdown",
   "metadata": {},
   "source": [
    "Let's try that again using ≈ (`\\approx + [TAB]`) instead of `==`:"
   ]
  },
  {
   "cell_type": "code",
   "execution_count": null,
   "metadata": {},
   "outputs": [],
   "source": [
    "0.1 * 3 ≈ 0.3\n",
    "sin(2π / 3) ≈ √3 / 2"
   ]
  },
  {
   "cell_type": "markdown",
   "metadata": {},
   "source": [
    "`≈` is a clever way of calling the `isapprox` function:"
   ]
  },
  {
   "cell_type": "code",
   "execution_count": null,
   "metadata": {},
   "outputs": [],
   "source": [
    "isapprox(sin(2π / 3), √3 / 2; atol = 1e-8)"
   ]
  },
  {
   "cell_type": "markdown",
   "metadata": {},
   "source": [
    "**Warning**\n",
    "    Floating point is the reason solvers use tolerances when they solve\n",
    "    optimization models. A common mistake you're likely to make is checking\n",
    "    whether a binary variable is 0 using `value(z) == 0`. Always remember to\n",
    "    use something like `isapprox` when comparing floating point numbers."
   ]
  },
  {
   "cell_type": "markdown",
   "metadata": {},
   "source": [
    "Note that `isapprox` will always return `false` if one of the number being\n",
    "compared is `0` and `atol` is zero (its default value)."
   ]
  },
  {
   "cell_type": "code",
   "execution_count": null,
   "metadata": {},
   "outputs": [],
   "source": [
    "1e-300 ≈ 0.0"
   ]
  },
  {
   "cell_type": "markdown",
   "metadata": {},
   "source": [
    "so always set a nonzero value of `atol` if one of the arguments can be zero."
   ]
  },
  {
   "cell_type": "code",
   "execution_count": null,
   "metadata": {},
   "outputs": [],
   "source": [
    "isapprox(1e-9, 0.0; atol = 1e-8)"
   ]
  },
  {
   "cell_type": "markdown",
   "metadata": {},
   "source": [
    "**Tip**\n",
    "    Gurobi has a [good series of articles](https://www.gurobi.com/documentation/9.0/refman/num_grb_guidelines_for_num.html)\n",
    "    on the implications of floating point in optimization if you want to read\n",
    "    more."
   ]
  },
  {
   "cell_type": "markdown",
   "metadata": {},
   "source": [
    "If you aren't careful, floating point arithmetic can throw up all manner of\n",
    "issues. For example:"
   ]
  },
  {
   "cell_type": "code",
   "execution_count": null,
   "metadata": {},
   "outputs": [],
   "source": [
    "1 + 1e-16 == 1"
   ]
  },
  {
   "cell_type": "markdown",
   "metadata": {},
   "source": [
    "It even turns out that floating point numbers aren't associative:"
   ]
  },
  {
   "cell_type": "code",
   "execution_count": null,
   "metadata": {},
   "outputs": [],
   "source": [
    "(1 + 1e-16) - 1e-16 == 1 + (1e-16 - 1e-16)"
   ]
  },
  {
   "cell_type": "markdown",
   "metadata": {},
   "source": [
    "It's important to note that this issue isn't Julia-specific. It happens in\n",
    "every programming language (try it out in Python)."
   ]
  },
  {
   "cell_type": "markdown",
   "metadata": {},
   "source": [
    "## Vectors, matrices, and arrays"
   ]
  },
  {
   "cell_type": "markdown",
   "metadata": {},
   "source": [
    "Similar to MATLAB, Julia has native support for vectors, matrices and tensors;\n",
    "all of which are represented by arrays of different dimensions. Vectors are\n",
    "constructed by comma-separated elements surrounded by square brackets:"
   ]
  },
  {
   "cell_type": "code",
   "execution_count": null,
   "metadata": {},
   "outputs": [],
   "source": [
    "b = [5, 6]"
   ]
  },
  {
   "cell_type": "markdown",
   "metadata": {},
   "source": [
    "Matrices can be constructed with spaces separating the columns, and semicolons\n",
    "separating the rows:"
   ]
  },
  {
   "cell_type": "code",
   "execution_count": null,
   "metadata": {},
   "outputs": [],
   "source": [
    "A = [1.0 2.0; 3.0 4.0]"
   ]
  },
  {
   "cell_type": "markdown",
   "metadata": {},
   "source": [
    "We can do linear algebra:"
   ]
  },
  {
   "cell_type": "code",
   "execution_count": null,
   "metadata": {},
   "outputs": [],
   "source": [
    "x = A \\ b"
   ]
  },
  {
   "cell_type": "markdown",
   "metadata": {},
   "source": [
    "**Info**\n",
    "    Here is floating point at work again; `x` is approximately `[-4, 4.5]`."
   ]
  },
  {
   "cell_type": "code",
   "execution_count": null,
   "metadata": {},
   "outputs": [],
   "source": [
    "A * x\n",
    "A * x ≈ b"
   ]
  },
  {
   "cell_type": "markdown",
   "metadata": {},
   "source": [
    "Note that when multiplying vectors and matrices, dimensions matter. For\n",
    "example, you can't multiply a vector by a vector:"
   ]
  },
  {
   "cell_type": "code",
   "execution_count": null,
   "metadata": {},
   "outputs": [],
   "source": [
    "try\n",
    "    b * b\n",
    "catch err\n",
    "    showerror(stderr, err)\n",
    "end"
   ]
  },
  {
   "cell_type": "markdown",
   "metadata": {},
   "source": [
    "But multiplying transposes works:"
   ]
  },
  {
   "cell_type": "code",
   "execution_count": null,
   "metadata": {},
   "outputs": [],
   "source": [
    "b' * b\n",
    "b * b'"
   ]
  },
  {
   "cell_type": "markdown",
   "metadata": {},
   "source": [
    "## Other common types"
   ]
  },
  {
   "cell_type": "markdown",
   "metadata": {},
   "source": [
    "### Comments"
   ]
  },
  {
   "cell_type": "markdown",
   "metadata": {},
   "source": [
    "Although not technically a type, code comments begin with the `#` character:"
   ]
  },
  {
   "cell_type": "code",
   "execution_count": null,
   "metadata": {},
   "outputs": [],
   "source": [
    "1 + 1  # This is a comment"
   ]
  },
  {
   "cell_type": "markdown",
   "metadata": {},
   "source": [
    "Multiline comments begin with `#=` and end with `=#`:\n",
    "```julia\n",
    "#=\n",
    "Here is a\n",
    "multiline comment\n",
    "=#\n",
    "```"
   ]
  },
  {
   "cell_type": "markdown",
   "metadata": {},
   "source": [
    "Comments can even be nested inside expressions. This is sometimes helpful when\n",
    "documenting inputs to functions:"
   ]
  },
  {
   "cell_type": "code",
   "execution_count": null,
   "metadata": {},
   "outputs": [],
   "source": [
    "isapprox(\n",
    "    sin(π),\n",
    "    0.0;\n",
    "    #= We need an explicit atol here because we are comparing with 0 =#\n",
    "    atol = 0.001,\n",
    ")"
   ]
  },
  {
   "cell_type": "markdown",
   "metadata": {},
   "source": [
    "### Strings"
   ]
  },
  {
   "cell_type": "markdown",
   "metadata": {},
   "source": [
    "Double quotes are used for strings:"
   ]
  },
  {
   "cell_type": "code",
   "execution_count": null,
   "metadata": {},
   "outputs": [],
   "source": [
    "typeof(\"This is Julia\")"
   ]
  },
  {
   "cell_type": "markdown",
   "metadata": {},
   "source": [
    "Unicode is fine in strings:"
   ]
  },
  {
   "cell_type": "code",
   "execution_count": null,
   "metadata": {},
   "outputs": [],
   "source": [
    "typeof(\"π is about 3.1415\")"
   ]
  },
  {
   "cell_type": "markdown",
   "metadata": {},
   "source": [
    "Use `println` to print a string:"
   ]
  },
  {
   "cell_type": "code",
   "execution_count": null,
   "metadata": {},
   "outputs": [],
   "source": [
    "println(\"Hello, World!\")"
   ]
  },
  {
   "cell_type": "markdown",
   "metadata": {},
   "source": [
    "Use `$()` to interpolate values into a string:"
   ]
  },
  {
   "cell_type": "code",
   "execution_count": null,
   "metadata": {},
   "outputs": [],
   "source": [
    "x = 123\n",
    "println(\"The value of x is: $(x)\")"
   ]
  },
  {
   "cell_type": "markdown",
   "metadata": {},
   "source": [
    "Use triple-quotes for multiline strings:"
   ]
  },
  {
   "cell_type": "code",
   "execution_count": null,
   "metadata": {},
   "outputs": [],
   "source": [
    "s = \"\"\"\n",
    "Here is\n",
    "a\n",
    "multiline string\n",
    "\"\"\"\n",
    "\n",
    "println(s)"
   ]
  },
  {
   "cell_type": "markdown",
   "metadata": {},
   "source": [
    "### Symbols"
   ]
  },
  {
   "cell_type": "markdown",
   "metadata": {},
   "source": [
    "Julia `Symbol`s are a data structure from the compiler that represent Julia\n",
    "identifiers (that is, variable names)."
   ]
  },
  {
   "cell_type": "code",
   "execution_count": null,
   "metadata": {},
   "outputs": [],
   "source": [
    "println(\"The value of x is: $(eval(:x))\")"
   ]
  },
  {
   "cell_type": "markdown",
   "metadata": {},
   "source": [
    "**Warning**\n",
    "    We used `eval` here to demonstrate how Julia links `Symbol`s to variables.\n",
    "    However, avoid calling `eval` in your code. It is usually a sign that your\n",
    "    code is doing something that could be more easily achieved a different\n",
    "    way. The [Community Forum](https://jump.dev/forum) is a good place to ask\n",
    "    for advice on alternative approaches."
   ]
  },
  {
   "cell_type": "code",
   "execution_count": null,
   "metadata": {},
   "outputs": [],
   "source": [
    "typeof(:x)"
   ]
  },
  {
   "cell_type": "markdown",
   "metadata": {},
   "source": [
    "You can think of a `Symbol` as a `String` that takes up less memory, and that\n",
    "can't be modified."
   ]
  },
  {
   "cell_type": "markdown",
   "metadata": {},
   "source": [
    "Convert between `String` and `Symbol` using their constructors:"
   ]
  },
  {
   "cell_type": "code",
   "execution_count": null,
   "metadata": {},
   "outputs": [],
   "source": [
    "String(:abc)\n",
    "Symbol(\"abc\")"
   ]
  },
  {
   "cell_type": "markdown",
   "metadata": {},
   "source": [
    "**Tip**\n",
    "    `Symbol`s are often (ab)used to stand in for a `String` or an `Enum`, when\n",
    "    one of the latter is likely a better choice. The JuMP Style guide\n",
    "    recommends reserving `Symbol`s for identifiers. See @enum vs. Symbol\n",
    "    for more."
   ]
  },
  {
   "cell_type": "markdown",
   "metadata": {},
   "source": [
    "### Tuples"
   ]
  },
  {
   "cell_type": "markdown",
   "metadata": {},
   "source": [
    "Julia makes extensive use of a simple data structure called Tuples. Tuples are\n",
    "immutable collections of values. For example:"
   ]
  },
  {
   "cell_type": "code",
   "execution_count": null,
   "metadata": {},
   "outputs": [],
   "source": [
    "t = (\"hello\", 1.2, :foo)\n",
    "typeof(t)"
   ]
  },
  {
   "cell_type": "markdown",
   "metadata": {},
   "source": [
    "Tuples can be accessed by index, similar to arrays:"
   ]
  },
  {
   "cell_type": "code",
   "execution_count": null,
   "metadata": {},
   "outputs": [],
   "source": [
    "t[2]"
   ]
  },
  {
   "cell_type": "markdown",
   "metadata": {},
   "source": [
    "And they can be \"unpacked\" like so:"
   ]
  },
  {
   "cell_type": "code",
   "execution_count": null,
   "metadata": {},
   "outputs": [],
   "source": [
    "a, b, c = t\n",
    "b"
   ]
  },
  {
   "cell_type": "markdown",
   "metadata": {},
   "source": [
    "The values can also be given names, which is a convenient way of making\n",
    "light-weight data structures."
   ]
  },
  {
   "cell_type": "code",
   "execution_count": null,
   "metadata": {},
   "outputs": [],
   "source": [
    "t = (word = \"hello\", num = 1.2, sym = :foo)"
   ]
  },
  {
   "cell_type": "markdown",
   "metadata": {},
   "source": [
    "Values can be accessed using dot syntax:"
   ]
  },
  {
   "cell_type": "code",
   "execution_count": null,
   "metadata": {},
   "outputs": [],
   "source": [
    "t.word"
   ]
  },
  {
   "cell_type": "markdown",
   "metadata": {},
   "source": [
    "## Dictionaries"
   ]
  },
  {
   "cell_type": "markdown",
   "metadata": {},
   "source": [
    "Similar to Python, Julia has native support for dictionaries. Dictionaries\n",
    "provide a very generic way of mapping keys to values.  For example, a map of\n",
    "integers to strings:"
   ]
  },
  {
   "cell_type": "code",
   "execution_count": null,
   "metadata": {},
   "outputs": [],
   "source": [
    "d1 = Dict(1 => \"A\", 2 => \"B\", 4 => \"D\")"
   ]
  },
  {
   "cell_type": "markdown",
   "metadata": {},
   "source": [
    "**Info**\n",
    "    Type-stuff again: `Dict{Int64,String}` is a dictionary with `Int64` keys\n",
    "    and `String` values."
   ]
  },
  {
   "cell_type": "markdown",
   "metadata": {},
   "source": [
    "Looking up a value uses the bracket syntax:"
   ]
  },
  {
   "cell_type": "code",
   "execution_count": null,
   "metadata": {},
   "outputs": [],
   "source": [
    "d1[2]"
   ]
  },
  {
   "cell_type": "markdown",
   "metadata": {},
   "source": [
    "Dictionaries support non-integer keys and can mix data types:"
   ]
  },
  {
   "cell_type": "code",
   "execution_count": null,
   "metadata": {},
   "outputs": [],
   "source": [
    "Dict(\"A\" => 1, \"B\" => 2.5, \"D\" => 2 - 3im)"
   ]
  },
  {
   "cell_type": "markdown",
   "metadata": {},
   "source": [
    "**Info**\n",
    "    Julia types form a hierarchy. Here the value type of the dictionary is\n",
    "    `Number`, which is a generalization of `Int64`, `Float64`, and\n",
    "    `Complex{Int}`. Leaf nodes in this hierarchy are called \"concrete\" types,\n",
    "    and all others are called \"Abstract.\" In general, having variables with\n",
    "    abstract types like `Number` can lead to slower code, so you should try to\n",
    "    make sure every element in a dictionary or vector is the same type. For\n",
    "    example, in this case we could represent every element as a\n",
    "    `Complex{Float64}`:"
   ]
  },
  {
   "cell_type": "code",
   "execution_count": null,
   "metadata": {},
   "outputs": [],
   "source": [
    "Dict(\"A\" => 1.0 + 0.0im, \"B\" => 2.5 + 0.0im, \"D\" => 2.0 - 3.0im)"
   ]
  },
  {
   "cell_type": "markdown",
   "metadata": {},
   "source": [
    "Dictionaries can be nested:"
   ]
  },
  {
   "cell_type": "code",
   "execution_count": null,
   "metadata": {},
   "outputs": [],
   "source": [
    "d2 = Dict(\"A\" => 1, \"B\" => 2, \"D\" => Dict(:foo => 3, :bar => 4))\n",
    "d2[\"B\"]\n",
    "d2[\"D\"][:foo]"
   ]
  },
  {
   "cell_type": "markdown",
   "metadata": {},
   "source": [
    "## Structs"
   ]
  },
  {
   "cell_type": "markdown",
   "metadata": {},
   "source": [
    "You can define custom datastructures with `struct`:"
   ]
  },
  {
   "cell_type": "code",
   "execution_count": null,
   "metadata": {},
   "outputs": [],
   "source": [
    "struct MyStruct\n",
    "    x::Int\n",
    "    y::String\n",
    "    z::Dict{Int,Int}\n",
    "end\n",
    "\n",
    "a = MyStruct(1, \"a\", Dict(2 => 3))\n",
    "a.x"
   ]
  },
  {
   "cell_type": "markdown",
   "metadata": {},
   "source": [
    "By default, these are not mutable"
   ]
  },
  {
   "cell_type": "code",
   "execution_count": null,
   "metadata": {},
   "outputs": [],
   "source": [
    "try\n",
    "    a.x = 2\n",
    "catch err\n",
    "    showerror(stderr, err)\n",
    "end"
   ]
  },
  {
   "cell_type": "markdown",
   "metadata": {},
   "source": [
    "However, you can declare a `mutable struct` which is mutable:"
   ]
  },
  {
   "cell_type": "code",
   "execution_count": null,
   "metadata": {},
   "outputs": [],
   "source": [
    "mutable struct MyStructMutable\n",
    "    x::Int\n",
    "    y::String\n",
    "    z::Dict{Int,Int}\n",
    "end\n",
    "\n",
    "a = MyStructMutable(1, \"a\", Dict(2 => 3))\n",
    "a.x\n",
    "a.x = 2\n",
    "a"
   ]
  },
  {
   "cell_type": "markdown",
   "metadata": {},
   "source": [
    "## Loops"
   ]
  },
  {
   "cell_type": "markdown",
   "metadata": {},
   "source": [
    "Julia has native support for for-each style loops with the syntax\n",
    "`for <value> in <collection> end`:"
   ]
  },
  {
   "cell_type": "code",
   "execution_count": null,
   "metadata": {},
   "outputs": [],
   "source": [
    "for i in 1:5\n",
    "    println(i)\n",
    "end"
   ]
  },
  {
   "cell_type": "markdown",
   "metadata": {},
   "source": [
    "**Info**\n",
    "    Ranges are constructed as `start:stop`, or `start:step:stop`."
   ]
  },
  {
   "cell_type": "code",
   "execution_count": null,
   "metadata": {},
   "outputs": [],
   "source": [
    "for i in 1.2:1.1:5.6\n",
    "    println(i)\n",
    "end"
   ]
  },
  {
   "cell_type": "markdown",
   "metadata": {},
   "source": [
    "This for-each loop also works with dictionaries:"
   ]
  },
  {
   "cell_type": "code",
   "execution_count": null,
   "metadata": {},
   "outputs": [],
   "source": [
    "for (key, value) in Dict(\"A\" => 1, \"B\" => 2.5, \"D\" => 2 - 3im)\n",
    "    println(\"$(key): $(value)\")\n",
    "end"
   ]
  },
  {
   "cell_type": "markdown",
   "metadata": {},
   "source": [
    "Note that in contrast to vector languages like MATLAB and R, loops do not\n",
    "result in a significant performance degradation in Julia."
   ]
  },
  {
   "cell_type": "markdown",
   "metadata": {},
   "source": [
    "## Control flow"
   ]
  },
  {
   "cell_type": "markdown",
   "metadata": {},
   "source": [
    "Julia control flow is similar to MATLAB, using the keywords\n",
    "`if-elseif-else-end`, and the logical operators `||` and `&&` for **or** and\n",
    "**and** respectively:"
   ]
  },
  {
   "cell_type": "code",
   "execution_count": null,
   "metadata": {},
   "outputs": [],
   "source": [
    "for i in 0:5:15\n",
    "    if i < 5\n",
    "        println(\"$(i) is less than 5\")\n",
    "    elseif i < 10\n",
    "        println(\"$(i) is less than 10\")\n",
    "    else\n",
    "        if i == 10\n",
    "            println(\"the value is 10\")\n",
    "        else\n",
    "            println(\"$(i) is bigger than 10\")\n",
    "        end\n",
    "    end\n",
    "end"
   ]
  },
  {
   "cell_type": "markdown",
   "metadata": {},
   "source": [
    "## Comprehensions"
   ]
  },
  {
   "cell_type": "markdown",
   "metadata": {},
   "source": [
    "Similar to languages like Haskell and Python, Julia supports the use of simple\n",
    "loops in the construction of arrays and dictionaries, called comprehensions.\n",
    "\n",
    "A list of increasing integers:"
   ]
  },
  {
   "cell_type": "code",
   "execution_count": null,
   "metadata": {},
   "outputs": [],
   "source": [
    "[i for i in 1:5]"
   ]
  },
  {
   "cell_type": "markdown",
   "metadata": {},
   "source": [
    "Matrices can be built by including multiple indices:"
   ]
  },
  {
   "cell_type": "code",
   "execution_count": null,
   "metadata": {},
   "outputs": [],
   "source": [
    "[i * j for i in 1:5, j in 5:10]"
   ]
  },
  {
   "cell_type": "markdown",
   "metadata": {},
   "source": [
    "Conditional statements can be used to filter out some values:"
   ]
  },
  {
   "cell_type": "code",
   "execution_count": null,
   "metadata": {},
   "outputs": [],
   "source": [
    "[i for i in 1:10 if i % 2 == 1]"
   ]
  },
  {
   "cell_type": "markdown",
   "metadata": {},
   "source": [
    "A similar syntax can be used for building dictionaries:"
   ]
  },
  {
   "cell_type": "code",
   "execution_count": null,
   "metadata": {},
   "outputs": [],
   "source": [
    "Dict(\"$(i)\" => i for i in 1:10 if i % 2 == 1)"
   ]
  },
  {
   "cell_type": "markdown",
   "metadata": {},
   "source": [
    "## Functions"
   ]
  },
  {
   "cell_type": "markdown",
   "metadata": {},
   "source": [
    "A simple function is defined as follows:"
   ]
  },
  {
   "cell_type": "code",
   "execution_count": null,
   "metadata": {},
   "outputs": [],
   "source": [
    "function print_hello()\n",
    "    return println(\"hello\")\n",
    "end\n",
    "print_hello()"
   ]
  },
  {
   "cell_type": "markdown",
   "metadata": {},
   "source": [
    "Arguments can be added to a function:"
   ]
  },
  {
   "cell_type": "code",
   "execution_count": null,
   "metadata": {},
   "outputs": [],
   "source": [
    "function print_it(x)\n",
    "    return println(x)\n",
    "end\n",
    "print_it(\"hello\")\n",
    "print_it(1.234)\n",
    "print_it(:my_id)"
   ]
  },
  {
   "cell_type": "markdown",
   "metadata": {},
   "source": [
    "Optional keyword arguments are also possible:"
   ]
  },
  {
   "cell_type": "code",
   "execution_count": null,
   "metadata": {},
   "outputs": [],
   "source": [
    "function print_it(x; prefix = \"value:\")\n",
    "    return println(\"$(prefix) $(x)\")\n",
    "end\n",
    "print_it(1.234)\n",
    "print_it(1.234; prefix = \"val:\")"
   ]
  },
  {
   "cell_type": "markdown",
   "metadata": {},
   "source": [
    "The keyword `return` is used to specify the return values of a function:"
   ]
  },
  {
   "cell_type": "code",
   "execution_count": null,
   "metadata": {},
   "outputs": [],
   "source": [
    "function mult(x; y = 2.0)\n",
    "    return x * y\n",
    "end\n",
    "\n",
    "mult(4.0)\n",
    "mult(4.0; y = 5.0)"
   ]
  },
  {
   "cell_type": "markdown",
   "metadata": {},
   "source": [
    "### Anonymous functions"
   ]
  },
  {
   "cell_type": "markdown",
   "metadata": {},
   "source": [
    "The syntax `input -> output` creates an anonymous function. These are most\n",
    "useful when passed to other functions. For example:"
   ]
  },
  {
   "cell_type": "code",
   "execution_count": null,
   "metadata": {},
   "outputs": [],
   "source": [
    "f = x -> x^2\n",
    "f(2)\n",
    "map(x -> x^2, 1:4)"
   ]
  },
  {
   "cell_type": "markdown",
   "metadata": {},
   "source": [
    "### Type parameters"
   ]
  },
  {
   "cell_type": "markdown",
   "metadata": {},
   "source": [
    "We can constrain the inputs to a function using type parameters, which are\n",
    "`::` followed by the type of the input we want. For example:"
   ]
  },
  {
   "cell_type": "code",
   "execution_count": null,
   "metadata": {},
   "outputs": [],
   "source": [
    "function foo(x::Int)\n",
    "    return x^2\n",
    "end\n",
    "\n",
    "function foo(x::Float64)\n",
    "    return exp(x)\n",
    "end\n",
    "\n",
    "function foo(x::Number)\n",
    "    return x + 1\n",
    "end\n",
    "\n",
    "foo(2)\n",
    "foo(2.0)\n",
    "foo(1 + 1im)"
   ]
  },
  {
   "cell_type": "markdown",
   "metadata": {},
   "source": [
    "But what happens if we call `foo` with something we haven't defined it for?"
   ]
  },
  {
   "cell_type": "code",
   "execution_count": null,
   "metadata": {},
   "outputs": [],
   "source": [
    "try\n",
    "    foo([1, 2, 3])\n",
    "catch err\n",
    "    showerror(stderr, err)\n",
    "end"
   ]
  },
  {
   "cell_type": "markdown",
   "metadata": {},
   "source": [
    "A `MethodError` means that you passed a\n",
    "function something that didn't match the type that it was expecting. In this\n",
    "case, the error message says that it doesn't know how to handle an\n",
    "`Vector{Int64}`, but it does know how to handle `Float64`, `Int64`, and\n",
    "`Number`.\n",
    "\n",
    "**Tip**\n",
    "    Read the \"Closest candidates\" part of the error message carefully to get a\n",
    "    hint as to what was expected."
   ]
  },
  {
   "cell_type": "markdown",
   "metadata": {},
   "source": [
    "### Broadcasting"
   ]
  },
  {
   "cell_type": "markdown",
   "metadata": {},
   "source": [
    "In the example above, we didn't define what to do if `f` was passed a\n",
    "`Vector`. Luckily, Julia provides a convenient syntax for mapping `f`\n",
    "element-wise over arrays. Just add a `.` between the name of the function and\n",
    "the opening `(`. This works for _any_ function, including functions with\n",
    "multiple arguments. For example:"
   ]
  },
  {
   "cell_type": "code",
   "execution_count": null,
   "metadata": {},
   "outputs": [],
   "source": [
    "foo.([1, 2, 3])"
   ]
  },
  {
   "cell_type": "markdown",
   "metadata": {},
   "source": [
    "**Tip**\n",
    "    Get a `MethodError` when calling a function that takes a `Vector`,\n",
    "    `Matrix`, or `Array`? Try broadcasting."
   ]
  },
  {
   "cell_type": "markdown",
   "metadata": {},
   "source": [
    "## Mutable vs immutable objects"
   ]
  },
  {
   "cell_type": "markdown",
   "metadata": {},
   "source": [
    "Some types in Julia are *mutable*, which means you can change the values\n",
    "inside them. A good example is an array. You can modify the contents of an\n",
    "array without having to make a new array."
   ]
  },
  {
   "cell_type": "markdown",
   "metadata": {},
   "source": [
    "In contrast, types like `Float64` are *immutable*. You cannot modify the\n",
    "contents of a `Float64`."
   ]
  },
  {
   "cell_type": "markdown",
   "metadata": {},
   "source": [
    "This is something to be aware of when passing types into functions. For\n",
    "example:"
   ]
  },
  {
   "cell_type": "code",
   "execution_count": null,
   "metadata": {},
   "outputs": [],
   "source": [
    "function mutability_example(mutable_type::Vector{Int}, immutable_type::Int)\n",
    "    mutable_type[1] += 1\n",
    "    immutable_type += 1\n",
    "    return\n",
    "end\n",
    "\n",
    "mutable_type = [1, 2, 3]\n",
    "immutable_type = 1\n",
    "\n",
    "mutability_example(mutable_type, immutable_type)\n",
    "\n",
    "println(\"mutable_type: $(mutable_type)\")\n",
    "println(\"immutable_type: $(immutable_type)\")"
   ]
  },
  {
   "cell_type": "markdown",
   "metadata": {},
   "source": [
    "Because `Vector{Int}` is a mutable type, modifying the variable inside the\n",
    "function changed the value outside of the function. In contrast, the change\n",
    "to `immutable_type` didn't modify the value outside the function."
   ]
  },
  {
   "cell_type": "markdown",
   "metadata": {},
   "source": [
    "You can check mutability with the `isimmutable` function:"
   ]
  },
  {
   "cell_type": "code",
   "execution_count": null,
   "metadata": {},
   "outputs": [],
   "source": [
    "isimmutable([1, 2, 3])\n",
    "isimmutable(1)"
   ]
  },
  {
   "cell_type": "markdown",
   "metadata": {},
   "source": [
    "## The package manager"
   ]
  },
  {
   "cell_type": "markdown",
   "metadata": {},
   "source": [
    "### Installing packages"
   ]
  },
  {
   "cell_type": "markdown",
   "metadata": {},
   "source": [
    "No matter how wonderful Julia's base language is, at some point you will want\n",
    "to use an extension package.  Some of these are built-in, for example random\n",
    "number generation is available in the `Random` package in the standard\n",
    "library. These packages are loaded with the commands `using` and `import`."
   ]
  },
  {
   "cell_type": "code",
   "execution_count": null,
   "metadata": {},
   "outputs": [],
   "source": [
    "using Random  # The equivalent of Python's `from Random import *`\n",
    "import Random  # The equivalent of Python's `import Random`\n",
    "\n",
    "Random.seed!(33)\n",
    "\n",
    "[rand() for i in 1:10]"
   ]
  },
  {
   "cell_type": "markdown",
   "metadata": {},
   "source": [
    "The Package Manager is used to install packages that are not part of Julia's\n",
    "standard library."
   ]
  },
  {
   "cell_type": "markdown",
   "metadata": {},
   "source": [
    "For example the following can be used to install JuMP,\n",
    "```julia\n",
    "using Pkg\n",
    "Pkg.add(\"JuMP\")\n",
    "```"
   ]
  },
  {
   "cell_type": "markdown",
   "metadata": {},
   "source": [
    "For a complete list of registered Julia packages see the package listing at\n",
    "[JuliaHub](https://juliahub.com)."
   ]
  },
  {
   "cell_type": "markdown",
   "metadata": {},
   "source": [
    "From time to you may wish to use a Julia package that is not registered.  In\n",
    "this case a git repository URL can be used to install the package.\n",
    "```julia\n",
    "using Pkg\n",
    "Pkg.add(\"https://github.com/user-name/MyPackage.jl.git\")\n",
    "```"
   ]
  },
  {
   "cell_type": "markdown",
   "metadata": {},
   "source": [
    "### Package environments"
   ]
  },
  {
   "cell_type": "markdown",
   "metadata": {},
   "source": [
    "By default, `Pkg.add` will add packages to Julia's global environment.\n",
    "However, Julia also has built-in support for virtual environments."
   ]
  },
  {
   "cell_type": "markdown",
   "metadata": {},
   "source": [
    "Activate a virtual environment with:\n",
    "```julia\n",
    "import Pkg; Pkg.activate(\"/path/to/environment\")\n",
    "```"
   ]
  },
  {
   "cell_type": "markdown",
   "metadata": {},
   "source": [
    "You can see what packages are installed in the current environment with\n",
    "`Pkg.status()`."
   ]
  },
  {
   "cell_type": "markdown",
   "metadata": {},
   "source": [
    "**Tip**\n",
    "    We _strongly_ recommend you create a Pkg environment for each project\n",
    "    that you create in Julia, and add only the packages that you need, instead\n",
    "    of adding lots of packages to the global environment. The [Pkg manager documentation](https://julialang.github.io/Pkg.jl/v1/environments/)\n",
    "    has more information on this topic."
   ]
  },
  {
   "cell_type": "markdown",
   "metadata": {},
   "source": [
    "---"
   ]
  },
  {
   "cell_type": "markdown",
   "metadata": {},
   "source": [
    "# Noteworthy packages\n",
    "\n",
    "* Debugger: [Debugger.jl](https://github.com/JuliaDebug/Debugger.jl)\n",
    "* Another debugger: [Infiltrator.jl](https://github.com/JuliaDebug/Infiltrator.jl)\n",
    "* Executable creator: [PackageCompiler.jl](https://github.com/JuliaLang/PackageCompiler.jl)\n",
    "* Profiling tool: [PProf.jl](https://github.com/JuliaPerf/PProf.jl)\n",
    "* Benchmarking tool: [BenchmarkTool.jl](https://github.com/JuliaCI/BenchmarkTools.jl)\n",
    "* Useful efficient workflow (code reloader): [Revise.jl](https://github.com/timholy/Revise.jl)\n",
    "* Formatter: [JuliaFormatter.jl](https://github.com/domluna/JuliaFormatter.jl)"
   ]
  },
  {
   "cell_type": "markdown",
   "metadata": {},
   "source": [
    "---"
   ]
  },
  {
   "cell_type": "markdown",
   "metadata": {},
   "source": [
    "# The knapsack problem example"
   ]
  },
  {
   "cell_type": "markdown",
   "metadata": {},
   "source": [
    "The purpose of this tutorial is to demonstrate how to formulate and solve a\n",
    "simple optimization problem."
   ]
  },
  {
   "cell_type": "markdown",
   "metadata": {},
   "source": [
    "## Required packages"
   ]
  },
  {
   "cell_type": "markdown",
   "metadata": {},
   "source": [
    "This tutorial requires the following packages:"
   ]
  },
  {
   "cell_type": "code",
   "execution_count": 68,
   "metadata": {},
   "outputs": [],
   "source": [
    "using JuMP\n",
    "import HiGHS"
   ]
  },
  {
   "cell_type": "markdown",
   "metadata": {},
   "source": [
    "## Formulation"
   ]
  },
  {
   "cell_type": "markdown",
   "metadata": {},
   "source": [
    "The [knapsack problem](https://en.wikipedia.org/wiki/Knapsack_problem)\n",
    "is a classical optimization problem: given a set of items and a container with\n",
    "a fixed capacity, choose a subset of items having the greatest combined\n",
    "value that will fit within the container without exceeding the capacity."
   ]
  },
  {
   "cell_type": "markdown",
   "metadata": {},
   "source": [
    "The name of the problem suggests its analogy to packing for a trip,\n",
    "where the baggage weight limit is the capacity and the goal is to pack the\n",
    "most profitable combination of belongings."
   ]
  },
  {
   "cell_type": "markdown",
   "metadata": {},
   "source": [
    "We can formulate the knapsack problem as the integer linear program:\n",
    "$$\n",
    "\\begin{aligned}\n",
    "\\max \\; & \\sum_{i=1}^n c_i x_i      \\\\\n",
    "s.t. \\; & \\sum_{i=1}^n w_i x_i \\le C, \\\\\n",
    "        & x_i \\in \\{0,1\\},\\quad \\forall i=1,\\ldots,n,\n",
    "\\end{aligned}\n",
    "$$\n",
    "where $C$ is the capacity, and there is a choice between $n$ items, with\n",
    "item $i$ having weight $w_i$, profit $c_i$. Decision variable $x_i$ is\n",
    "equal to 1 if the item is chosen and 0 if not."
   ]
  },
  {
   "cell_type": "markdown",
   "metadata": {},
   "source": [
    "This formulation can be written more compactly as:\n",
    "$$\n",
    "\\begin{aligned}\n",
    "\\max \\; & c^\\top x       \\\\\n",
    "s.t. \\; & w^\\top x \\le C \\\\\n",
    "        & x \\text{ binary }\n",
    "\\end{aligned}\n",
    "$$"
   ]
  },
  {
   "cell_type": "markdown",
   "metadata": {},
   "source": [
    "## Data"
   ]
  },
  {
   "cell_type": "markdown",
   "metadata": {},
   "source": [
    "The data for the problem consists of two vectors (one for the profits and one\n",
    "for the weights) along with a capacity."
   ]
  },
  {
   "cell_type": "markdown",
   "metadata": {},
   "source": [
    "There are five objects:"
   ]
  },
  {
   "cell_type": "code",
   "execution_count": 69,
   "metadata": {},
   "outputs": [],
   "source": [
    "n = 5;"
   ]
  },
  {
   "cell_type": "markdown",
   "metadata": {},
   "source": [
    "For our example, we use a capacity of 10 units:"
   ]
  },
  {
   "cell_type": "code",
   "execution_count": 70,
   "metadata": {},
   "outputs": [],
   "source": [
    "capacity = 10.0;"
   ]
  },
  {
   "cell_type": "markdown",
   "metadata": {},
   "source": [
    "and the profit and cost data:"
   ]
  },
  {
   "cell_type": "code",
   "execution_count": 71,
   "metadata": {},
   "outputs": [],
   "source": [
    "profit = [5.0, 3.0, 2.0, 7.0, 4.0];\n",
    "weight = [2.0, 8.0, 4.0, 2.0, 5.0];"
   ]
  },
  {
   "cell_type": "markdown",
   "metadata": {},
   "source": [
    "## JuMP formulation"
   ]
  },
  {
   "cell_type": "markdown",
   "metadata": {},
   "source": [
    "Let's begin constructing the JuMP model for our knapsack problem."
   ]
  },
  {
   "cell_type": "markdown",
   "metadata": {},
   "source": [
    "First, we'll create a `Model` object for holding model elements as we\n",
    "construct each part. We'll also set the solver that will ultimately be called\n",
    "to solve the model, once it's constructed."
   ]
  },
  {
   "cell_type": "code",
   "execution_count": null,
   "metadata": {},
   "outputs": [],
   "source": [
    "model = Model(HiGHS.Optimizer)"
   ]
  },
  {
   "cell_type": "markdown",
   "metadata": {},
   "source": [
    "Next we need the decision variables representing which items are chosen:"
   ]
  },
  {
   "cell_type": "code",
   "execution_count": null,
   "metadata": {},
   "outputs": [],
   "source": [
    "@variable(model, x[1:n], Bin)"
   ]
  },
  {
   "cell_type": "markdown",
   "metadata": {},
   "source": [
    "We now want to constrain those variables so that their combined\n",
    "weight is less than or equal to the given capacity:"
   ]
  },
  {
   "cell_type": "code",
   "execution_count": null,
   "metadata": {},
   "outputs": [],
   "source": [
    "@constraint(model, sum(weight[i] * x[i] for i in 1:n) <= capacity)"
   ]
  },
  {
   "cell_type": "markdown",
   "metadata": {},
   "source": [
    "Finally, our objective is to maximize the combined profit of the chosen items:"
   ]
  },
  {
   "cell_type": "code",
   "execution_count": null,
   "metadata": {},
   "outputs": [],
   "source": [
    "@objective(model, Max, sum(profit[i] * x[i] for i in 1:n))"
   ]
  },
  {
   "cell_type": "markdown",
   "metadata": {},
   "source": [
    "Let's print a human-readable description of the model and check that the model\n",
    "looks as expected:"
   ]
  },
  {
   "cell_type": "code",
   "execution_count": null,
   "metadata": {},
   "outputs": [],
   "source": [
    "print(model)"
   ]
  },
  {
   "cell_type": "markdown",
   "metadata": {},
   "source": [
    "We can now solve the optimization problem and inspect the results."
   ]
  },
  {
   "cell_type": "code",
   "execution_count": null,
   "metadata": {},
   "outputs": [],
   "source": [
    "optimize!(model)\n",
    "@assert is_solved_and_feasible(model)\n",
    "solution_summary(model)"
   ]
  },
  {
   "cell_type": "markdown",
   "metadata": {},
   "source": [
    "The items chosen are"
   ]
  },
  {
   "cell_type": "code",
   "execution_count": null,
   "metadata": {},
   "outputs": [],
   "source": [
    "items_chosen = [i for i in 1:n if value(x[i]) > 0.5]"
   ]
  },
  {
   "cell_type": "markdown",
   "metadata": {},
   "source": [
    "## Writing a function"
   ]
  },
  {
   "cell_type": "markdown",
   "metadata": {},
   "source": [
    "After working interactively, it is good practice to implement your model in a\n",
    "function."
   ]
  },
  {
   "cell_type": "markdown",
   "metadata": {},
   "source": [
    "The function can be used to ensure that the model is given well-defined input\n",
    "data with validation checks, and that the solution process went as expected."
   ]
  },
  {
   "cell_type": "code",
   "execution_count": null,
   "metadata": {},
   "outputs": [],
   "source": [
    "function solve_knapsack_problem(;\n",
    "    profit::Vector{Float64},\n",
    "    weight::Vector{Float64},\n",
    "    capacity::Float64,\n",
    ")\n",
    "    n = length(weight)\n",
    "    # The profit and weight vectors must be of equal length.\n",
    "    @assert length(profit) == n\n",
    "    model = Model(HiGHS.Optimizer)\n",
    "    set_silent(model)\n",
    "    @variable(model, x[1:n], Bin)\n",
    "    @objective(model, Max, profit' * x)\n",
    "    @constraint(model, weight' * x <= capacity)\n",
    "    optimize!(model)\n",
    "    @assert is_solved_and_feasible(model)\n",
    "    println(\"Objective is: \", objective_value(model))\n",
    "    println(\"Solution is:\")\n",
    "    for i in 1:n\n",
    "        print(\"x[$i] = \", round(Int, value(x[i])))\n",
    "        println(\", c[$i] / w[$i] = \", profit[i] / weight[i])\n",
    "    end\n",
    "    chosen_items = [i for i in 1:n if value(x[i]) > 0.5]\n",
    "    return chosen_items\n",
    "end\n",
    "\n",
    "solve_knapsack_problem(; profit = profit, weight = weight, capacity = capacity)"
   ]
  },
  {
   "cell_type": "markdown",
   "metadata": {},
   "source": [
    "We observe that the chosen items (1, 4, and 5) have the best\n",
    "profit to weight ratio in this particular example."
   ]
  },
  {
   "cell_type": "markdown",
   "metadata": {},
   "source": [
    "## Next steps"
   ]
  },
  {
   "cell_type": "markdown",
   "metadata": {},
   "source": [
    "Here are some things to try next:\n",
    "\n",
    "* Call the function with different data. What happens as the capacity\n",
    "  increases?\n",
    "* What happens if the profit and weight vectors are different lengths?\n",
    "* Instead of creating a binary variable with `Bin`, we could have written\n",
    "  `@variable(model, 0 <= x[1:n] <= 1, Int)`. Verify that this formulation\n",
    "  finds the same solution. What happens if we are allowed to take more than\n",
    "  one of each item?"
   ]
  },
  {
   "cell_type": "markdown",
   "metadata": {},
   "source": [
    "---"
   ]
  },
  {
   "cell_type": "markdown",
   "metadata": {},
   "source": [
    "# The diet problem"
   ]
  },
  {
   "cell_type": "markdown",
   "metadata": {},
   "source": [
    "The purpose of this tutorial is to demonstrate how to incorporate DataFrames\n",
    "into a JuMP model. As an example, we use classic [Stigler diet problem](https://en.wikipedia.org/wiki/Stigler_diet)."
   ]
  },
  {
   "cell_type": "markdown",
   "metadata": {},
   "source": [
    "## Required packages"
   ]
  },
  {
   "cell_type": "markdown",
   "metadata": {},
   "source": [
    "This tutorial requires the following packages:"
   ]
  },
  {
   "cell_type": "code",
   "execution_count": 80,
   "metadata": {},
   "outputs": [],
   "source": [
    "using JuMP\n",
    "import CSV\n",
    "import DataFrames\n",
    "import HiGHS\n",
    "import Test"
   ]
  },
  {
   "cell_type": "markdown",
   "metadata": {},
   "source": [
    "## Formulation"
   ]
  },
  {
   "cell_type": "markdown",
   "metadata": {},
   "source": [
    "We wish to cook a nutritionally balanced meal by choosing the quantity of each\n",
    "food $f$ to eat from a set of foods $F$ in our kitchen."
   ]
  },
  {
   "cell_type": "markdown",
   "metadata": {},
   "source": [
    "Each food $f$ has a cost, $c_f$, as well as a macro-nutrient profile\n",
    "$a_{m,f}$ for each macro-nutrient $m \\in M$."
   ]
  },
  {
   "cell_type": "markdown",
   "metadata": {},
   "source": [
    "Because we care about a nutritionally balanced meal, we set some minimum and\n",
    "maximum limits for each nutrient, which we denote $l_m$ and $u_m$\n",
    "respectively."
   ]
  },
  {
   "cell_type": "markdown",
   "metadata": {},
   "source": [
    "Furthermore, because we are optimizers, we seek the minimum cost solution."
   ]
  },
  {
   "cell_type": "markdown",
   "metadata": {},
   "source": [
    "With a little effort, we can formulate our dinner problem as the following\n",
    "linear program:\n",
    "$$\n",
    "\\begin{aligned}\n",
    "\\min & \\sum\\limits_{f \\in F} c_f x_f \\\\\n",
    "\\text{s.t.}\\ \\ & l_m \\le \\sum\\limits_{f \\in F} a_{m,f} x_f \\le u_m, && \\forall m \\in M \\\\\n",
    "& x_f \\ge 0, && \\forall f \\in F.\n",
    "\\end{aligned}\n",
    "$$"
   ]
  },
  {
   "cell_type": "markdown",
   "metadata": {},
   "source": [
    "In the rest of this tutorial, we will create and solve this problem in JuMP,\n",
    "and learn what we should cook for dinner."
   ]
  },
  {
   "cell_type": "markdown",
   "metadata": {},
   "source": [
    "## Data"
   ]
  },
  {
   "cell_type": "markdown",
   "metadata": {},
   "source": [
    "First, we need some data for the problem. For this tutorial, we'll write CSV\n",
    "files to a temporary directory from Julia. If you have existing files, you\n",
    "could change the filenames to point to them instead."
   ]
  },
  {
   "cell_type": "code",
   "execution_count": null,
   "metadata": {},
   "outputs": [],
   "source": [
    "dir = mktempdir()"
   ]
  },
  {
   "cell_type": "markdown",
   "metadata": {},
   "source": [
    "The first file is a list of foods with their macro-nutrient profile:"
   ]
  },
  {
   "cell_type": "code",
   "execution_count": null,
   "metadata": {},
   "outputs": [],
   "source": [
    "food_csv_filename = joinpath(dir, \"diet_foods.csv\")\n",
    "open(food_csv_filename, \"w\") do io\n",
    "    write(\n",
    "        io,\n",
    "        \"\"\"\n",
    "        name,cost,calories,protein,fat,sodium\n",
    "        hamburger,2.49,410,24,26,730\n",
    "        chicken,2.89,420,32,10,1190\n",
    "        hot dog,1.50,560,20,32,1800\n",
    "        fries,1.89,380,4,19,270\n",
    "        macaroni,2.09,320,12,10,930\n",
    "        pizza,1.99,320,15,12,820\n",
    "        salad,2.49,320,31,12,1230\n",
    "        milk,0.89,100,8,2.5,125\n",
    "        ice cream,1.59,330,8,10,180\n",
    "        \"\"\",\n",
    "    )\n",
    "    return\n",
    "end\n",
    "foods = CSV.read(food_csv_filename, DataFrames.DataFrame)"
   ]
  },
  {
   "cell_type": "markdown",
   "metadata": {},
   "source": [
    "Here, $F$ is `foods.name` and $c_f$ is `foods.cost`. (We're also playing\n",
    "a bit loose the term \"macro-nutrient\" by including calories and sodium.)"
   ]
  },
  {
   "cell_type": "markdown",
   "metadata": {},
   "source": [
    "We also need our minimum and maximum limits:"
   ]
  },
  {
   "cell_type": "code",
   "execution_count": null,
   "metadata": {},
   "outputs": [],
   "source": [
    "nutrient_csv_filename = joinpath(dir, \"diet_nutrient.csv\")\n",
    "open(nutrient_csv_filename, \"w\") do io\n",
    "    write(\n",
    "        io,\n",
    "        \"\"\"\n",
    "        nutrient,min,max\n",
    "        calories,1800,2200\n",
    "        protein,91,\n",
    "        fat,0,65\n",
    "        sodium,0,1779\n",
    "        \"\"\",\n",
    "    )\n",
    "    return\n",
    "end\n",
    "limits = CSV.read(nutrient_csv_filename, DataFrames.DataFrame)"
   ]
  },
  {
   "cell_type": "markdown",
   "metadata": {},
   "source": [
    "Protein is missing data for the maximum. Let's fix that using `coalesce`:"
   ]
  },
  {
   "cell_type": "code",
   "execution_count": null,
   "metadata": {},
   "outputs": [],
   "source": [
    "limits.max = coalesce.(limits.max, Inf)\n",
    "limits"
   ]
  },
  {
   "cell_type": "markdown",
   "metadata": {},
   "source": [
    "## JuMP formulation"
   ]
  },
  {
   "cell_type": "markdown",
   "metadata": {},
   "source": [
    "Now we're ready to convert our mathematical formulation into a JuMP model."
   ]
  },
  {
   "cell_type": "markdown",
   "metadata": {},
   "source": [
    "First, create a new JuMP model. Since we have a linear program, we'll use\n",
    "HiGHS as our optimizer:"
   ]
  },
  {
   "cell_type": "code",
   "execution_count": 85,
   "metadata": {},
   "outputs": [],
   "source": [
    "model = Model(HiGHS.Optimizer)\n",
    "set_silent(model)"
   ]
  },
  {
   "cell_type": "markdown",
   "metadata": {},
   "source": [
    "Next, we create a set of decision variables `x`, with one element for each row\n",
    "in the DataFrame, and each `x` has a lower bound of `0`:"
   ]
  },
  {
   "cell_type": "code",
   "execution_count": null,
   "metadata": {},
   "outputs": [],
   "source": [
    "@variable(model, x[foods.name] >= 0)"
   ]
  },
  {
   "cell_type": "markdown",
   "metadata": {},
   "source": [
    "To simplify things later on, we store the vector as a new column `x` in the\n",
    "DataFrame `foods`. Since `x` is a `DenseAxisArray`, we first need to convert\n",
    "it to an `Array`:"
   ]
  },
  {
   "cell_type": "code",
   "execution_count": null,
   "metadata": {},
   "outputs": [],
   "source": [
    "foods.x = Array(x)"
   ]
  },
  {
   "cell_type": "markdown",
   "metadata": {},
   "source": [
    "Our objective is to minimize the total cost of purchasing food:"
   ]
  },
  {
   "cell_type": "code",
   "execution_count": 88,
   "metadata": {},
   "outputs": [],
   "source": [
    "@objective(model, Min, sum(foods.cost .* foods.x));"
   ]
  },
  {
   "cell_type": "markdown",
   "metadata": {},
   "source": [
    "For the next component, we need to add a constraint that our total intake of\n",
    "each component is within the limits contained in the `limits` DataFrame:"
   ]
  },
  {
   "cell_type": "code",
   "execution_count": 89,
   "metadata": {},
   "outputs": [],
   "source": [
    "@constraint(\n",
    "    model,\n",
    "    [row in eachrow(limits)],\n",
    "    row.min <= sum(foods[!, row.nutrient] .* foods.x) <= row.max,\n",
    ");"
   ]
  },
  {
   "cell_type": "markdown",
   "metadata": {},
   "source": [
    "What does our model look like?"
   ]
  },
  {
   "cell_type": "code",
   "execution_count": null,
   "metadata": {},
   "outputs": [],
   "source": [
    "print(model)"
   ]
  },
  {
   "cell_type": "markdown",
   "metadata": {},
   "source": [
    "## Solution"
   ]
  },
  {
   "cell_type": "markdown",
   "metadata": {},
   "source": [
    "Let's optimize and take a look at the solution:"
   ]
  },
  {
   "cell_type": "code",
   "execution_count": null,
   "metadata": {},
   "outputs": [],
   "source": [
    "optimize!(model)\n",
    "@assert is_solved_and_feasible(model)\n",
    "Test.@test objective_value(model) ≈ 11.8288 atol = 1e-4\n",
    "solution_summary(model)"
   ]
  },
  {
   "cell_type": "markdown",
   "metadata": {},
   "source": [
    "We found an optimal solution. Let's see what the optimal solution is:"
   ]
  },
  {
   "cell_type": "code",
   "execution_count": null,
   "metadata": {},
   "outputs": [],
   "source": [
    "for row in eachrow(foods)\n",
    "    println(row.name, \" = \", value(row.x))\n",
    "end"
   ]
  },
  {
   "cell_type": "markdown",
   "metadata": {},
   "source": [
    "That's a lot of milk and ice cream, and sadly, we only get `0.6` of a\n",
    "hamburger."
   ]
  },
  {
   "cell_type": "markdown",
   "metadata": {},
   "source": [
    "We can also use the function `Containers.rowtable` to easily convert\n",
    "the result into a DataFrame:"
   ]
  },
  {
   "cell_type": "code",
   "execution_count": null,
   "metadata": {},
   "outputs": [],
   "source": [
    "table = Containers.rowtable(value, x; header = [:food, :quantity])\n",
    "solution = DataFrames.DataFrame(table)"
   ]
  },
  {
   "cell_type": "markdown",
   "metadata": {},
   "source": [
    "This makes it easy to perform analyses our solution:"
   ]
  },
  {
   "cell_type": "code",
   "execution_count": null,
   "metadata": {},
   "outputs": [],
   "source": [
    "filter!(row -> row.quantity > 0.0, solution)"
   ]
  },
  {
   "cell_type": "markdown",
   "metadata": {},
   "source": [
    "## Problem modification"
   ]
  },
  {
   "cell_type": "markdown",
   "metadata": {},
   "source": [
    "JuMP makes it easy to take an existing model and modify it by adding extra\n",
    "constraints. Let's see what happens if we add a constraint that we can buy at\n",
    "most 6 units of milk or ice cream combined."
   ]
  },
  {
   "cell_type": "code",
   "execution_count": null,
   "metadata": {},
   "outputs": [],
   "source": [
    "dairy_foods = [\"milk\", \"ice cream\"]\n",
    "is_dairy = map(name -> name in dairy_foods, foods.name)\n",
    "dairy_constraint = @constraint(model, sum(foods[is_dairy, :x]) <= 6)\n",
    "optimize!(model)\n",
    "Test.@test !is_solved_and_feasible(model)\n",
    "Test.@test termination_status(model) == INFEASIBLE\n",
    "Test.@test primal_status(model) == NO_SOLUTION\n",
    "solution_summary(model)"
   ]
  },
  {
   "cell_type": "markdown",
   "metadata": {},
   "source": [
    "There exists no feasible solution to our problem. Looks like we're stuck\n",
    "eating ice cream for dinner."
   ]
  },
  {
   "cell_type": "markdown",
   "metadata": {},
   "source": [
    "Maybe we can relax this rule?"
   ]
  },
  {
   "cell_type": "code",
   "execution_count": null,
   "metadata": {},
   "outputs": [],
   "source": [
    "set_normalized_rhs(dairy_constraint, 12)\n",
    "optimize!(model)\n",
    "termination_status(model)"
   ]
  },
  {
   "cell_type": "code",
   "execution_count": null,
   "metadata": {},
   "outputs": [],
   "source": [
    "value(sum(foods[is_dairy, :x]))"
   ]
  },
  {
   "cell_type": "code",
   "execution_count": null,
   "metadata": {},
   "outputs": [],
   "source": [
    "delete(model, dairy_constraint)\n",
    "optimize!(model)\n",
    "termination_status(model)"
   ]
  },
  {
   "cell_type": "markdown",
   "metadata": {},
   "source": [
    "But we know we already ate a pizza slice"
   ]
  },
  {
   "cell_type": "code",
   "execution_count": null,
   "metadata": {},
   "outputs": [],
   "source": [
    "set_lower_bound(x[\"pizza\"], 0.1) # analogously, could also do set_upper_bound\n",
    "optimize!(model)\n",
    "termination_status(model)"
   ]
  },
  {
   "cell_type": "code",
   "execution_count": null,
   "metadata": {},
   "outputs": [],
   "source": [
    "table = Containers.rowtable(value, x; header = [:food, :quantity])\n",
    "solution = DataFrames.DataFrame(table)\n",
    "filter!(row -> row.quantity > 0.0, solution)"
   ]
  },
  {
   "cell_type": "code",
   "execution_count": null,
   "metadata": {},
   "outputs": [],
   "source": [
    "try\n",
    "    fix(x[\"fries\"], 0.03)\n",
    "catch err\n",
    "    showerror(stderr, err)\n",
    "end"
   ]
  },
  {
   "cell_type": "code",
   "execution_count": null,
   "metadata": {},
   "outputs": [],
   "source": [
    "fix(x[\"fries\"], 0.03, force = true)\n",
    "optimize!(model)\n",
    "termination_status(model)"
   ]
  },
  {
   "cell_type": "code",
   "execution_count": null,
   "metadata": {},
   "outputs": [],
   "source": [
    "set_integer(x[\"milk\"]) # analogously, could also do set_binary\n",
    "optimize!(model)\n",
    "table = Containers.rowtable(value, x; header = [:food, :quantity])\n",
    "solution = DataFrames.DataFrame(table)\n",
    "filter!(row -> row.quantity > 0.0, solution)"
   ]
  },
  {
   "cell_type": "code",
   "execution_count": null,
   "metadata": {},
   "outputs": [],
   "source": [
    "objective_function(model)"
   ]
  },
  {
   "cell_type": "code",
   "execution_count": null,
   "metadata": {},
   "outputs": [],
   "source": [
    "set_objective_coefficient(model, x[\"milk\"], 2)\n",
    "optimize!(model)\n",
    "table = Containers.rowtable(value, x; header = [:food, :quantity])\n",
    "solution = DataFrames.DataFrame(table)\n",
    "filter!(row -> row.quantity > 0.0, solution)"
   ]
  },
  {
   "cell_type": "code",
   "execution_count": null,
   "metadata": {},
   "outputs": [],
   "source": [
    "@constraint(model, heath, x[\"salad\"] >= 2 * x[\"fries\"])"
   ]
  },
  {
   "cell_type": "code",
   "execution_count": null,
   "metadata": {},
   "outputs": [],
   "source": [
    "optimize!(model)\n",
    "table = Containers.rowtable(value, x; header = [:food, :quantity])\n",
    "solution = DataFrames.DataFrame(table)\n",
    "filter!(row -> row.quantity > 0.0, solution)"
   ]
  },
  {
   "cell_type": "markdown",
   "metadata": {},
   "source": [
    "---"
   ]
  },
  {
   "cell_type": "markdown",
   "metadata": {},
   "source": [
    "# Nonlinear Programming\n",
    "## Optimal control of a rocket"
   ]
  },
  {
   "cell_type": "markdown",
   "metadata": {},
   "source": [
    "**This tutorial was originally contributed by Iain Dunning.**"
   ]
  },
  {
   "cell_type": "markdown",
   "metadata": {},
   "source": [
    "The purpose of this tutorial is to demonstrate how to setup and solve a\n",
    "nonlinear optimization problem."
   ]
  },
  {
   "cell_type": "markdown",
   "metadata": {},
   "source": [
    "The example is an optimal control problem of a nonlinear rocket."
   ]
  },
  {
   "cell_type": "markdown",
   "metadata": {},
   "source": [
    "**Info**\n",
    "    The JuMP extension [InfiniteOpt.jl](../../packages/InfiniteOpt.md) can also be\n",
    "    used to model and solve optimal control problems."
   ]
  },
  {
   "cell_type": "markdown",
   "metadata": {},
   "source": [
    "## Required packages"
   ]
  },
  {
   "cell_type": "markdown",
   "metadata": {},
   "source": [
    "This tutorial uses the following packages:"
   ]
  },
  {
   "cell_type": "code",
   "execution_count": 108,
   "metadata": {},
   "outputs": [],
   "source": [
    "using JuMP\n",
    "import Ipopt\n",
    "import Plots"
   ]
  },
  {
   "cell_type": "markdown",
   "metadata": {},
   "source": [
    "## Overview"
   ]
  },
  {
   "cell_type": "markdown",
   "metadata": {},
   "source": [
    "Our goal is to maximize the final altitude of a vertically launched rocket."
   ]
  },
  {
   "cell_type": "markdown",
   "metadata": {},
   "source": [
    "We can control the thrust of the rocket, and must take account of the rocket\n",
    "mass, fuel consumption rate, gravity, and aerodynamic drag."
   ]
  },
  {
   "cell_type": "markdown",
   "metadata": {},
   "source": [
    "Let us consider the basic description of the model (for the full description,\n",
    "including parameters for the rocket, see [COPS3](https://www.mcs.anl.gov/~more/cops/cops3.pdf))."
   ]
  },
  {
   "cell_type": "markdown",
   "metadata": {},
   "source": [
    "There are three state variables in our model:"
   ]
  },
  {
   "cell_type": "markdown",
   "metadata": {},
   "source": [
    "* Velocity: $x_v(t)$\n",
    "* Altitude: $x_h(t)$\n",
    "* Mass of rocket and remaining fuel, $x_m(t)$"
   ]
  },
  {
   "cell_type": "markdown",
   "metadata": {},
   "source": [
    "and a single control variable:"
   ]
  },
  {
   "cell_type": "markdown",
   "metadata": {},
   "source": [
    "* Thrust: $u_t(t)$."
   ]
  },
  {
   "cell_type": "markdown",
   "metadata": {},
   "source": [
    "There are three equations that control the dynamics of the rocket:"
   ]
  },
  {
   "cell_type": "markdown",
   "metadata": {},
   "source": [
    " * Rate of ascent: $$\\frac{d x_h}{dt} = x_v$$\n",
    " * Acceleration: $$\\frac{d x_v}{dt} = \\frac{u_t - D(x_h, x_v)}{x_m} - g(x_h)$$\n",
    " * Rate of mass loss: $$\\frac{d x_m}{dt} = -\\frac{u_t}{c}$$"
   ]
  },
  {
   "cell_type": "markdown",
   "metadata": {},
   "source": [
    "where drag $D(x_h, x_v)$ is a function of altitude and velocity, gravity\n",
    "$g(x_h)$ is a function of altitude, and $c$ is a constant."
   ]
  },
  {
   "cell_type": "markdown",
   "metadata": {},
   "source": [
    "These forces are defined as:\n",
    "\n",
    "$$D(x_h, x_v) = D_c \\cdot x_v^2 \\cdot e^{-h_c \\left( \\frac{x_h-x_h(0)}{x_h(0)} \\right)}$$\n",
    "and\n",
    "$$g(x_h) = g_0 \\cdot \\left( \\frac{x_h(0)}{x_h} \\right)^2$$"
   ]
  },
  {
   "cell_type": "markdown",
   "metadata": {},
   "source": [
    "We use a discretized model of time, with a fixed number of time steps, $T$."
   ]
  },
  {
   "cell_type": "markdown",
   "metadata": {},
   "source": [
    "Our goal is thus to maximize $x_h(T)$."
   ]
  },
  {
   "cell_type": "markdown",
   "metadata": {},
   "source": [
    "## Data"
   ]
  },
  {
   "cell_type": "markdown",
   "metadata": {},
   "source": [
    "All parameters in this model have been normalized to be dimensionless, and\n",
    "they are taken from [COPS3](https://www.mcs.anl.gov/~more/cops/cops3.pdf)."
   ]
  },
  {
   "cell_type": "code",
   "execution_count": 109,
   "metadata": {},
   "outputs": [],
   "source": [
    "h_0 = 1                      # Initial height\n",
    "v_0 = 0                      # Initial velocity\n",
    "m_0 = 1.0                    # Initial mass\n",
    "m_T = 0.6                    # Final mass\n",
    "g_0 = 1                      # Gravity at the surface\n",
    "h_c = 500                    # Used for drag\n",
    "c = 0.5 * sqrt(g_0 * h_0)    # Thrust-to-fuel mass\n",
    "D_c = 0.5 * 620 * m_0 / g_0  # Drag scaling\n",
    "u_t_max = 3.5 * g_0 * m_0    # Maximum thrust\n",
    "T_max = 0.2                  # Number of seconds\n",
    "T = 1_000                    # Number of time steps\n",
    "Δt = 0.2 / T;                # Time per discretized step"
   ]
  },
  {
   "cell_type": "markdown",
   "metadata": {},
   "source": [
    "## JuMP formulation"
   ]
  },
  {
   "cell_type": "markdown",
   "metadata": {},
   "source": [
    "First, we create a model and choose an optimizer. Since this is a nonlinear\n",
    "program, we need to use a nonlinear solver like Ipopt. We cannot use a linear\n",
    "solver like HiGHS."
   ]
  },
  {
   "cell_type": "code",
   "execution_count": 110,
   "metadata": {},
   "outputs": [],
   "source": [
    "model = Model(Ipopt.Optimizer)\n",
    "set_silent(model)"
   ]
  },
  {
   "cell_type": "markdown",
   "metadata": {},
   "source": [
    "Next, we create our state and control variables, which are each indexed by\n",
    "`t`. It is good practice for nonlinear programs to always provide a starting\n",
    "solution for each variable."
   ]
  },
  {
   "cell_type": "code",
   "execution_count": 111,
   "metadata": {},
   "outputs": [],
   "source": [
    "@variable(model, x_v[1:T] >= 0, start = v_0)           # Velocity\n",
    "@variable(model, x_h[1:T] >= 0, start = h_0)           # Height\n",
    "@variable(model, x_m[1:T] >= m_T, start = m_0)         # Mass\n",
    "@variable(model, 0 <= u_t[1:T] <= u_t_max, start = 0); # Thrust"
   ]
  },
  {
   "cell_type": "markdown",
   "metadata": {},
   "source": [
    "We implement boundary conditions by fixing variables to values."
   ]
  },
  {
   "cell_type": "code",
   "execution_count": 112,
   "metadata": {},
   "outputs": [],
   "source": [
    "fix(x_v[1], v_0; force = true)\n",
    "fix(x_h[1], h_0; force = true)\n",
    "fix(x_m[1], m_0; force = true)\n",
    "fix(u_t[T], 0.0; force = true)"
   ]
  },
  {
   "cell_type": "markdown",
   "metadata": {},
   "source": [
    "The objective is to maximize altitude at end of time of flight."
   ]
  },
  {
   "cell_type": "code",
   "execution_count": null,
   "metadata": {},
   "outputs": [],
   "source": [
    "@objective(model, Max, x_h[T])"
   ]
  },
  {
   "cell_type": "markdown",
   "metadata": {},
   "source": [
    "Forces are defined as functions:"
   ]
  },
  {
   "cell_type": "code",
   "execution_count": null,
   "metadata": {},
   "outputs": [],
   "source": [
    "D(x_h, x_v) = D_c * x_v^2 * exp(-h_c * (x_h - h_0) / h_0)\n",
    "g(x_h) = g_0 * (h_0 / x_h)^2"
   ]
  },
  {
   "cell_type": "markdown",
   "metadata": {},
   "source": [
    "The dynamical equations are implemented as constraints."
   ]
  },
  {
   "cell_type": "code",
   "execution_count": 115,
   "metadata": {},
   "outputs": [],
   "source": [
    "ddt(x::Vector, t::Int) = (x[t] - x[t-1]) / Δt\n",
    "@constraint(model, [t in 2:T], ddt(x_h, t) == x_v[t-1])\n",
    "@constraint(\n",
    "    model,\n",
    "    [t in 2:T],\n",
    "    ddt(x_v, t) == (u_t[t-1] - D(x_h[t-1], x_v[t-1])) / x_m[t-1] - g(x_h[t-1]),\n",
    ")\n",
    "@constraint(model, [t in 2:T], ddt(x_m, t) == -u_t[t-1] / c);"
   ]
  },
  {
   "cell_type": "markdown",
   "metadata": {},
   "source": [
    "Now we optimize the model and check that we found a solution:"
   ]
  },
  {
   "cell_type": "code",
   "execution_count": null,
   "metadata": {},
   "outputs": [],
   "source": [
    "optimize!(model)\n",
    "@assert is_solved_and_feasible(model)\n",
    "solution_summary(model)"
   ]
  },
  {
   "cell_type": "markdown",
   "metadata": {},
   "source": [
    "Finally, we plot the solution:"
   ]
  },
  {
   "cell_type": "code",
   "execution_count": null,
   "metadata": {},
   "outputs": [],
   "source": [
    "function plot_trajectory(y; kwargs...)\n",
    "    return Plots.plot(\n",
    "        (1:T) * Δt,\n",
    "        value.(y);\n",
    "        xlabel = \"Time (s)\",\n",
    "        legend = false,\n",
    "        kwargs...,\n",
    "    )\n",
    "end\n",
    "\n",
    "Plots.plot(\n",
    "    plot_trajectory(x_h; ylabel = \"Altitude\"),\n",
    "    plot_trajectory(x_m; ylabel = \"Mass\"),\n",
    "    plot_trajectory(x_v; ylabel = \"Velocity\"),\n",
    "    plot_trajectory(u_t; ylabel = \"Thrust\");\n",
    "    layout = (2, 2),\n",
    ")"
   ]
  },
  {
   "cell_type": "markdown",
   "metadata": {},
   "source": [
    "## Next steps"
   ]
  },
  {
   "cell_type": "markdown",
   "metadata": {},
   "source": [
    "* Experiment with different values for the constants. How does the solution\n",
    "  change? In particular, what happens if you change `T_max`?\n",
    "* The dynamical equations use rectangular integration for the right-hand side\n",
    "  terms. Modify the equations to use the [Trapezoidal rule](https://en.wikipedia.org/wiki/Trapezoidal_rule_(differential_equations))\n",
    "  instead. (As an example, `x_v[t-1]` would become\n",
    "  `0.5 * (x_v[t-1] + x_v[t])`.) Is there a difference?"
   ]
  },
  {
   "cell_type": "markdown",
   "metadata": {},
   "source": [
    "---"
   ]
  },
  {
   "cell_type": "markdown",
   "metadata": {},
   "source": [
    "# Constraint programming"
   ]
  },
  {
   "cell_type": "markdown",
   "metadata": {},
   "source": [
    "JuMP supports a range of constraint-programming type constraints via the\n",
    "corresponding sets in MathOptInterface. For most constraints, there are\n",
    "reformulations built-in that convert the constraint programming constraint\n",
    "into a mixed-integer programming equivalent."
   ]
  },
  {
   "cell_type": "markdown",
   "metadata": {},
   "source": [
    "Because of this reformulation, all variables must be integer, and they must\n",
    "typically have finite bounds. An error will be thrown if the reformulation\n",
    "requires finiteness and you have a variable with non-finite bounds."
   ]
  },
  {
   "cell_type": "markdown",
   "metadata": {},
   "source": [
    "This tutorial uses the following packages:"
   ]
  },
  {
   "cell_type": "code",
   "execution_count": 118,
   "metadata": {},
   "outputs": [],
   "source": [
    "using JuMP\n",
    "import HiGHS"
   ]
  },
  {
   "cell_type": "markdown",
   "metadata": {},
   "source": [
    "## AllDifferent"
   ]
  },
  {
   "cell_type": "markdown",
   "metadata": {},
   "source": [
    "The `MOI.AllDifferent` set ensures that every element in a list takes\n",
    "a different integer value."
   ]
  },
  {
   "cell_type": "code",
   "execution_count": null,
   "metadata": {},
   "outputs": [],
   "source": [
    "model = Model(HiGHS.Optimizer)\n",
    "set_silent(model)\n",
    "@variable(model, 1 <= x[1:4] <= 4, Int)\n",
    "@constraint(model, x in MOI.AllDifferent(4))\n",
    "optimize!(model)\n",
    "@assert is_solved_and_feasible(model)\n",
    "value.(x)"
   ]
  },
  {
   "cell_type": "markdown",
   "metadata": {},
   "source": [
    "## BinPacking"
   ]
  },
  {
   "cell_type": "markdown",
   "metadata": {},
   "source": [
    "The `MOI.BinPacking` set can be used to divide up a set of items into\n",
    "different groups, such that the sum of their weights does not exceed the\n",
    "capacity of a bin."
   ]
  },
  {
   "cell_type": "code",
   "execution_count": null,
   "metadata": {},
   "outputs": [],
   "source": [
    "weights, capacity = Float64[1, 1, 2, 2, 3], 3.0;\n",
    "number_of_bins = 3\n",
    "model = Model(HiGHS.Optimizer)\n",
    "set_silent(model)\n",
    "@variable(model, 1 <= x[1:length(weights)] <= number_of_bins, Int)\n",
    "@constraint(model, x in MOI.BinPacking(capacity, weights))\n",
    "optimize!(model)\n",
    "@assert is_solved_and_feasible(model)\n",
    "value.(x)"
   ]
  },
  {
   "cell_type": "markdown",
   "metadata": {},
   "source": [
    "Here, the value of `x[i]` is the bin that item `i` was placed into."
   ]
  },
  {
   "cell_type": "markdown",
   "metadata": {},
   "source": [
    "## Circuit"
   ]
  },
  {
   "cell_type": "markdown",
   "metadata": {},
   "source": [
    "The `MOI.Circuit` set is used to construct a tour of a list of `N`\n",
    "variables. They will each be assigned an integer from `1` to `N`, that\n",
    "describes the successor to each variable in the list:"
   ]
  },
  {
   "cell_type": "code",
   "execution_count": 121,
   "metadata": {},
   "outputs": [],
   "source": [
    "model = Model(HiGHS.Optimizer)\n",
    "set_silent(model)\n",
    "@variable(model, x[1:4], Int)\n",
    "@constraint(model, x in MOI.Circuit(4))\n",
    "optimize!(model)\n",
    "@assert is_solved_and_feasible(model)"
   ]
  },
  {
   "cell_type": "markdown",
   "metadata": {},
   "source": [
    "Let's see what tour was found, starting at node number `1`:"
   ]
  },
  {
   "cell_type": "code",
   "execution_count": null,
   "metadata": {},
   "outputs": [],
   "source": [
    "y = round.(Int, value.(x))\n",
    "tour = Int[1]\n",
    "while length(tour) < length(y)\n",
    "    push!(tour, y[tour[end]])\n",
    "end\n",
    "tour"
   ]
  },
  {
   "cell_type": "markdown",
   "metadata": {},
   "source": [
    "## CountAtLeast"
   ]
  },
  {
   "cell_type": "markdown",
   "metadata": {},
   "source": [
    "The `MOI.CountAtLeast` set is used to ensure that at least `n`\n",
    "elements in a set of variables belong to a set of values."
   ]
  },
  {
   "cell_type": "markdown",
   "metadata": {},
   "source": [
    "For example, here is a model with three variables, constrained between 0 and\n",
    "5:"
   ]
  },
  {
   "cell_type": "code",
   "execution_count": null,
   "metadata": {},
   "outputs": [],
   "source": [
    "model = Model(HiGHS.Optimizer)\n",
    "set_silent(model)\n",
    "@variable(model, 0 <= x[1:3] <= 5, Int)"
   ]
  },
  {
   "cell_type": "markdown",
   "metadata": {},
   "source": [
    "If we want to ensure that at least one element of each set `{x[1], x[2]}` and\n",
    "`{x[2], x[3]}` is in the set `{3}`, then we create a list of variables by\n",
    "concatenating the sets together:"
   ]
  },
  {
   "cell_type": "code",
   "execution_count": null,
   "metadata": {},
   "outputs": [],
   "source": [
    "variables = [x[1], x[2], x[2], x[3]]"
   ]
  },
  {
   "cell_type": "markdown",
   "metadata": {},
   "source": [
    "Then we need a partition list that contains the number of elements in each\n",
    "set of variables:"
   ]
  },
  {
   "cell_type": "code",
   "execution_count": null,
   "metadata": {},
   "outputs": [],
   "source": [
    "partitions = [2, 2]"
   ]
  },
  {
   "cell_type": "markdown",
   "metadata": {},
   "source": [
    "Finally, we need a set of values that the elements must be a part of:"
   ]
  },
  {
   "cell_type": "code",
   "execution_count": null,
   "metadata": {},
   "outputs": [],
   "source": [
    "values = Set([3])"
   ]
  },
  {
   "cell_type": "markdown",
   "metadata": {},
   "source": [
    "And the number of elements that must be part of the set `values`:"
   ]
  },
  {
   "cell_type": "code",
   "execution_count": null,
   "metadata": {},
   "outputs": [],
   "source": [
    "n = 1"
   ]
  },
  {
   "cell_type": "markdown",
   "metadata": {},
   "source": [
    "The constraint is:"
   ]
  },
  {
   "cell_type": "code",
   "execution_count": null,
   "metadata": {},
   "outputs": [],
   "source": [
    "@constraint(model, variables in MOI.CountAtLeast(n, partitions, values))"
   ]
  },
  {
   "cell_type": "markdown",
   "metadata": {},
   "source": [
    "To ensure the uniqueness of the solution, we'll add a constraint that `x[2]`\n",
    "must be `<= 2`. This ensures that the only feasible solution is for `x[1]` and\n",
    "`x[3]` to be `3`:"
   ]
  },
  {
   "cell_type": "code",
   "execution_count": null,
   "metadata": {},
   "outputs": [],
   "source": [
    "@constraint(model, x[2] <= 2)"
   ]
  },
  {
   "cell_type": "markdown",
   "metadata": {},
   "source": [
    "Let's check that we found a valid solution:"
   ]
  },
  {
   "cell_type": "code",
   "execution_count": null,
   "metadata": {},
   "outputs": [],
   "source": [
    "optimize!(model)\n",
    "@assert is_solved_and_feasible(model)\n",
    "value.(x)"
   ]
  },
  {
   "cell_type": "markdown",
   "metadata": {},
   "source": [
    "## CountBelongs"
   ]
  },
  {
   "cell_type": "markdown",
   "metadata": {},
   "source": [
    "The `MOI.CountBelongs` set is used to count how many elements in a set\n",
    "of variables belong to a set of values."
   ]
  },
  {
   "cell_type": "markdown",
   "metadata": {},
   "source": [
    "For example, to count how many elements in a set of 4 variables belong to the\n",
    "set `{2, 3}`, do:"
   ]
  },
  {
   "cell_type": "code",
   "execution_count": null,
   "metadata": {},
   "outputs": [],
   "source": [
    "model = Model(HiGHS.Optimizer)\n",
    "set_silent(model)\n",
    "@variable(model, 0 <= x[i = 1:4] <= i, Int)\n",
    "@variable(model, n, Int)\n",
    "@objective(model, Max, sum(x))\n",
    "set = Set([2, 3])\n",
    "@constraint(model, [n; x] in MOI.CountBelongs(1 + length(x), set))\n",
    "optimize!(model)\n",
    "@assert is_solved_and_feasible(model)\n",
    "value(n), value.(x)"
   ]
  },
  {
   "cell_type": "markdown",
   "metadata": {},
   "source": [
    "## CountDistinct"
   ]
  },
  {
   "cell_type": "markdown",
   "metadata": {},
   "source": [
    "The `MOI.CountDistinct` set is used to count the number of distinct\n",
    "elements in a set of variables."
   ]
  },
  {
   "cell_type": "code",
   "execution_count": null,
   "metadata": {},
   "outputs": [],
   "source": [
    "model = Model(HiGHS.Optimizer)\n",
    "set_silent(model)\n",
    "@variable(model, 0 <= x[i = 1:4] <= i, Int)\n",
    "@variable(model, n, Int)\n",
    "@objective(model, Max, sum(x))\n",
    "@constraint(model, [n; x] in MOI.CountDistinct(1 + length(x)))\n",
    "optimize!(model)\n",
    "@assert is_solved_and_feasible(model)\n",
    "value(n), value.(x)"
   ]
  },
  {
   "cell_type": "markdown",
   "metadata": {},
   "source": [
    "## CountGreaterThan"
   ]
  },
  {
   "cell_type": "markdown",
   "metadata": {},
   "source": [
    "The `MOI.CountGreaterThan` set is used to strictly upper-bound the\n",
    "number of distinct elements in a set of variables that have a value equal to\n",
    "another variable."
   ]
  },
  {
   "cell_type": "markdown",
   "metadata": {},
   "source": [
    "For example, to count the number `n` of times that `y` appears in the vector\n",
    "`x`, use:"
   ]
  },
  {
   "cell_type": "code",
   "execution_count": null,
   "metadata": {},
   "outputs": [],
   "source": [
    "model = Model(HiGHS.Optimizer)\n",
    "set_silent(model)\n",
    "@variable(model, 0 <= x[i = 1:4] <= i, Int)\n",
    "@variable(model, n, Int)\n",
    "@variable(model, 3 <= y <= 4, Int)\n",
    "@objective(model, Max, sum(x))\n",
    "@constraint(model, [n; y; x] in MOI.CountGreaterThan(1 + 1 + length(x)))\n",
    "optimize!(model)\n",
    "@assert is_solved_and_feasible(model)\n",
    "value(n), value(y), value.(x)"
   ]
  },
  {
   "cell_type": "markdown",
   "metadata": {},
   "source": [
    "Here `n` is strictly greater than the count, and there is no limit on how\n",
    "large `n` could be. For example, `n = 100` is also a feasible solution. The\n",
    "only constraint is that `n` cannot be equal to or smaller than the number of\n",
    "times that `y` appears."
   ]
  },
  {
   "cell_type": "markdown",
   "metadata": {},
   "source": [
    "---"
   ]
  },
  {
   "cell_type": "markdown",
   "metadata": {},
   "source": [
    "# Conic Programming\n",
    "## Logistic regression"
   ]
  },
  {
   "cell_type": "markdown",
   "metadata": {},
   "source": [
    "**This tutorial was originally contributed by François Pacaud.**"
   ]
  },
  {
   "cell_type": "markdown",
   "metadata": {},
   "source": [
    "This tutorial shows how to solve a logistic regression problem with JuMP.\n",
    "Logistic regression is a well known method in machine learning, useful when we\n",
    "want to classify binary variables with the help of a given set of features. To\n",
    "this goal, we find the optimal combination of features maximizing the\n",
    "(log)-likelihood onto a training set."
   ]
  },
  {
   "cell_type": "markdown",
   "metadata": {},
   "source": [
    "## Required packages"
   ]
  },
  {
   "cell_type": "markdown",
   "metadata": {},
   "source": [
    "This tutorial uses the following packages:"
   ]
  },
  {
   "cell_type": "code",
   "execution_count": 134,
   "metadata": {},
   "outputs": [],
   "source": [
    "using JuMP\n",
    "import MathOptInterface as MOI\n",
    "import Random\n",
    "import SCS\n",
    "\n",
    "Random.seed!(2713);"
   ]
  },
  {
   "cell_type": "markdown",
   "metadata": {},
   "source": [
    "## Formulating the logistic regression problem\n",
    "\n",
    "Suppose we have a set of training data-point $i = 1, \\cdots, n$, where\n",
    "for each $i$ we have a vector of features $x_i \\in \\mathbb{R}^p$ and a\n",
    "categorical observation $y_i \\in \\{-1, 1\\}$.\n",
    "\n",
    "The log-likelihood is given by\n",
    "\n",
    "$$\n",
    "l(\\theta) = \\sum_{i=1}^n \\log(\\dfrac{1}{1 + \\exp(-y_i \\theta^\\top x_i)})\n",
    "$$\n",
    "\n",
    "and the optimal $\\theta$ minimizes the logistic loss function:\n",
    "\n",
    "$$\n",
    "\\min_{\\theta}\\; \\sum_{i=1}^n \\log(1 + \\exp(-y_i \\theta^\\top x_i)).\n",
    "$$\n",
    "\n",
    "Most of the time, instead of solving directly the previous optimization problem, we\n",
    "prefer to add a regularization term:\n",
    "\n",
    "$$\n",
    "\\min_{\\theta}\\; \\sum_{i=1}^n \\log(1 + \\exp(-y_i \\theta^\\top x_i)) + \\lambda \\| \\theta \\|\n",
    "$$\n",
    "\n",
    "with $\\lambda \\in \\mathbb{R}_+$ a penalty and $\\|.\\|$ a norm function. By adding\n",
    "such a regularization term, we avoid overfitting on the training set and usually\n",
    "achieve a greater score in cross-validation."
   ]
  },
  {
   "cell_type": "markdown",
   "metadata": {},
   "source": [
    "## Reformulation as a conic optimization problem\n",
    "\n",
    "By introducing auxiliary variables $t_1, \\cdots, t_n$ and $r$,\n",
    "the optimization problem is equivalent to\n",
    "\n",
    "$$\n",
    "\\begin{aligned}\n",
    "\\min_{t, r, \\theta} \\;& \\sum_{i=1}^n t_i + \\lambda r \\\\\n",
    "\\text{subject to } & \\quad t_i \\geq \\log(1 + \\exp(- y_i \\theta^\\top x_i)) \\\\\n",
    "                   & \\quad r \\geq \\|\\theta\\|\n",
    "\\end{aligned}\n",
    "$$\n",
    "\n",
    "Now, the trick is to reformulate the constraints $t_i \\geq \\log(1 + \\exp(- y_i \\theta^\\top x_i))$\n",
    "with the help of the *exponential cone*\n",
    "\n",
    "$$\n",
    "K_{exp} = \\{ (x, y, z) \\in \\mathbb{R}^3 : \\; y \\exp(x / y) \\leq z \\} .\n",
    "$$\n",
    "\n",
    "Indeed, by passing to the exponential, we\n",
    "see that for all $i=1, \\cdots, n$, the constraint $t_i \\geq \\log(1 + \\exp(- y_i \\theta^\\top x_i))$\n",
    "is equivalent to\n",
    "\n",
    "$$\n",
    "\\exp(-t_i) + \\exp(u_i - t_i) \\leq 1\n",
    "$$\n",
    "\n",
    "with $u_i = -y_i \\theta^\\top x_i$. Then, by adding two auxiliary variables\n",
    "$z_{i1}$ and $z_{i2}$ such that $z_{i1} \\geq \\exp(u_i-t_i)$ and $z_{i2} \\geq \\exp(-t_i)$, we get\n",
    "the equivalent formulation\n",
    "\n",
    "$$\n",
    "\\left\\{\n",
    "\\begin{aligned}\n",
    "(u_i -t_i , 1, z_{i1}) & \\in  K_{exp}  \\\\\n",
    "(-t_i , 1, z_{i2}) & \\in  K_{exp}  \\\\\n",
    "z_{i1} + z_{i2} & \\leq  1\n",
    "\\end{aligned}\n",
    "\\right.\n",
    "$$\n",
    "\n",
    "In this setting, the conic version of the logistic regression problems writes out\n",
    "\n",
    "$$\n",
    "\\begin{aligned}\n",
    "\\min_{t, z, r, \\theta}&  \\; \\sum_{i=1}^n t_i + \\lambda r \\\\\n",
    "\\text{subject to } & \\quad  (u_i -t_i , 1, z_{i1})  \\in  K_{exp}  \\\\\n",
    "                   & \\quad  (-t_i , 1, z_{i2})  \\in  K_{exp}  \\\\\n",
    "                   & \\quad  z_{i1} + z_{i2}  \\leq  1 \\\\\n",
    "                   & \\quad u_i = -y_i x_i^\\top \\theta \\\\\n",
    "                   & \\quad r \\geq \\|\\theta\\|\n",
    "\\end{aligned}\n",
    "$$\n",
    "\n",
    "and thus encompasses $3n + p + 1$ variables and $3n + 1$ constraints ($u_i = -y_i \\theta^\\top x_i$\n",
    "is only a virtual constraint used to clarify the notation).\n",
    "Thus, if $n \\gg 1$, we get a large number of variables and constraints."
   ]
  },
  {
   "cell_type": "markdown",
   "metadata": {},
   "source": [
    "## Fitting logistic regression with a conic solver"
   ]
  },
  {
   "cell_type": "markdown",
   "metadata": {},
   "source": [
    "We start by implementing a function to generate a fake dataset, and where\n",
    "we could tune the correlation between the feature variables. The function\n",
    "is a direct transcription of the one used in [this blog post](http://fa.bianp.net/blog/2013/numerical-optimizers-for-logistic-regression/)."
   ]
  },
  {
   "cell_type": "code",
   "execution_count": null,
   "metadata": {},
   "outputs": [],
   "source": [
    "function generate_dataset(n_samples = 100, n_features = 10; shift = 0.0)\n",
    "    X = randn(n_samples, n_features)\n",
    "    w = randn(n_features)\n",
    "    y = sign.(X * w)\n",
    "    X .+= 0.8 * randn(n_samples, n_features) # add noise\n",
    "    X .+= shift # shift the points in the feature space\n",
    "    X = hcat(X, ones(n_samples, 1))\n",
    "    return X, y\n",
    "end"
   ]
  },
  {
   "cell_type": "markdown",
   "metadata": {},
   "source": [
    "We write a `softplus` function to formulate each constraint\n",
    "$t \\geq \\log(1 + \\exp(u))$ with two exponential cones."
   ]
  },
  {
   "cell_type": "code",
   "execution_count": null,
   "metadata": {},
   "outputs": [],
   "source": [
    "function softplus(model, t, u)\n",
    "    z = @variable(model, [1:2], lower_bound = 0.0)\n",
    "    @constraint(model, sum(z) <= 1.0)\n",
    "    @constraint(model, [u - t, 1, z[1]] in MOI.ExponentialCone())\n",
    "    @constraint(model, [-t, 1, z[2]] in MOI.ExponentialCone())\n",
    "end"
   ]
  },
  {
   "cell_type": "markdown",
   "metadata": {},
   "source": [
    "### $\\ell_2$ regularized logistic regression\n",
    "Then, with the help of the `softplus` function, we could write our\n",
    "optimization model. In the $\\ell_2$ regularization case, the constraint\n",
    "$r \\geq \\|\\theta\\|_2$ rewrites as a second order cone constraint."
   ]
  },
  {
   "cell_type": "code",
   "execution_count": null,
   "metadata": {},
   "outputs": [],
   "source": [
    "function build_logit_model(X, y, λ)\n",
    "    n, p = size(X)\n",
    "    model = Model()\n",
    "    @variable(model, θ[1:p])\n",
    "    @variable(model, t[1:n])\n",
    "    for i in 1:n\n",
    "        u = -(X[i, :]' * θ) * y[i]\n",
    "        softplus(model, t[i], u)\n",
    "    end\n",
    "    # Add ℓ2 regularization\n",
    "    @variable(model, 0.0 <= reg)\n",
    "    @constraint(model, [reg; θ] in SecondOrderCone())\n",
    "    # Define objective\n",
    "    @objective(model, Min, sum(t) + λ * reg)\n",
    "    return model\n",
    "end"
   ]
  },
  {
   "cell_type": "markdown",
   "metadata": {},
   "source": [
    "We generate the dataset.\n",
    "\n",
    "**Warning**\n",
    "    Be careful here, for large n and p SCS could fail to converge."
   ]
  },
  {
   "cell_type": "code",
   "execution_count": 138,
   "metadata": {},
   "outputs": [],
   "source": [
    "n, p = 200, 10\n",
    "X, y = generate_dataset(n, p; shift = 10.0);\n",
    "\n",
    "# We could now solve the logistic regression problem\n",
    "λ = 10.0\n",
    "model = build_logit_model(X, y, λ)\n",
    "set_optimizer(model, SCS.Optimizer)\n",
    "set_silent(model)\n",
    "optimize!(model)\n",
    "@assert is_solved_and_feasible(model)"
   ]
  },
  {
   "cell_type": "code",
   "execution_count": null,
   "metadata": {},
   "outputs": [],
   "source": [
    "θ♯ = value.(model[:θ])"
   ]
  },
  {
   "cell_type": "markdown",
   "metadata": {},
   "source": [
    "It appears that the speed of convergence is not that impacted by the correlation\n",
    "of the dataset, nor by the penalty $\\lambda$."
   ]
  },
  {
   "cell_type": "markdown",
   "metadata": {},
   "source": [
    "### $\\ell_1$ regularized logistic regression\n",
    "\n",
    "We now formulate the logistic problem with a $\\ell_1$ regularization term.\n",
    "The $\\ell_1$ regularization ensures sparsity in the optimal\n",
    "solution of the resulting optimization problem. Luckily, the $\\ell_1$ norm\n",
    "is implemented as a set in `MathOptInterface`. Thus, we could formulate\n",
    "the sparse logistic regression problem with the help of a `MOI.NormOneCone`\n",
    "set."
   ]
  },
  {
   "cell_type": "code",
   "execution_count": 140,
   "metadata": {},
   "outputs": [],
   "source": [
    "function build_sparse_logit_model(X, y, λ)\n",
    "    n, p = size(X)\n",
    "    model = Model()\n",
    "    @variable(model, θ[1:p])\n",
    "    @variable(model, t[1:n])\n",
    "    for i in 1:n\n",
    "        u = -(X[i, :]' * θ) * y[i]\n",
    "        softplus(model, t[i], u)\n",
    "    end\n",
    "    # Add ℓ1 regularization\n",
    "    @variable(model, 0.0 <= reg)\n",
    "    @constraint(model, [reg; θ] in MOI.NormOneCone(p + 1))\n",
    "    # Define objective\n",
    "    @objective(model, Min, sum(t) + λ * reg)\n",
    "    return model\n",
    "end\n",
    "\n",
    "# Auxiliary function to count non-null components:\n",
    "count_nonzero(v::Vector; tol = 1e-6) = sum(abs.(v) .>= tol)\n",
    "\n",
    "# We solve the sparse logistic regression problem on the same dataset as before.\n",
    "λ = 10.0\n",
    "sparse_model = build_sparse_logit_model(X, y, λ)\n",
    "set_optimizer(sparse_model, SCS.Optimizer)\n",
    "set_silent(sparse_model)\n",
    "optimize!(sparse_model)\n",
    "@assert is_solved_and_feasible(sparse_model)"
   ]
  },
  {
   "cell_type": "code",
   "execution_count": null,
   "metadata": {},
   "outputs": [],
   "source": [
    "θ♯ = value.(sparse_model[:θ])\n",
    "println(\n",
    "    \"Number of non-zero components: \",\n",
    "    count_nonzero(θ♯),\n",
    "    \" (out of \",\n",
    "    p,\n",
    "    \" features)\",\n",
    ")"
   ]
  },
  {
   "cell_type": "markdown",
   "metadata": {},
   "source": [
    "### Extensions\n",
    "A direct extension would be to consider the sparse logistic regression with\n",
    "*hard* thresholding, which, on contrary to the *soft* version using a $\\ell_1$ regularization,\n",
    "adds an explicit cardinality constraint in its formulation:\n",
    "\n",
    "$$\n",
    "\\begin{aligned}\n",
    "\\min_{\\theta} & \\; \\sum_{i=1}^n \\log(1 + \\exp(-y_i \\theta^\\top x_i)) + \\lambda \\| \\theta \\|_2^2 \\\\\n",
    "\\text{subject to } & \\quad \\| \\theta \\|_0 <= k\n",
    "\\end{aligned}\n",
    "$$\n",
    "\n",
    "where $k$ is the maximum number of non-zero components in the vector $\\theta$,\n",
    "and $\\|.\\|_0$ is the $\\ell_0$ pseudo-norm:\n",
    "\n",
    "$$\n",
    "\\| x\\|_0 = \\#\\{i : \\; x_i \\neq 0\\}\n",
    "$$\n",
    "\n",
    "The cardinality constraint $\\|\\theta\\|_0 \\leq k$ could be reformulated with\n",
    "binary variables. Thus the hard sparse regression problem could be solved\n",
    "by any solver supporting mixed integer conic problems."
   ]
  },
  {
   "cell_type": "markdown",
   "metadata": {},
   "source": [
    "---"
   ]
  },
  {
   "cell_type": "markdown",
   "metadata": {},
   "source": [
    "# Debugging"
   ]
  },
  {
   "cell_type": "markdown",
   "metadata": {},
   "source": [
    "Check the solver log with `unset_silent`"
   ]
  },
  {
   "cell_type": "markdown",
   "metadata": {},
   "source": [
    "Check the solution `summary`"
   ]
  },
  {
   "cell_type": "markdown",
   "metadata": {},
   "source": [
    "## File printing and reading"
   ]
  },
  {
   "cell_type": "code",
   "execution_count": 142,
   "metadata": {},
   "outputs": [],
   "source": [
    "using JuMP\n",
    "model = Model()\n",
    "@variable(model, x >= 0)\n",
    "@variable(model, y >= 0)\n",
    "@constraint(model, 2x + y <= 4)\n",
    "@constraint(model, 1x + 2y <= 3)\n",
    "@objective(model, Min, 4x * 3y)\n",
    ";"
   ]
  },
  {
   "cell_type": "code",
   "execution_count": 143,
   "metadata": {},
   "outputs": [],
   "source": [
    "write_to_file(model, \"my_model.lp\")"
   ]
  },
  {
   "cell_type": "code",
   "execution_count": null,
   "metadata": {},
   "outputs": [],
   "source": [
    "str = read(\"my_model.lp\", String)\n",
    "print(str)"
   ]
  },
  {
   "cell_type": "code",
   "execution_count": null,
   "metadata": {},
   "outputs": [],
   "source": [
    "write_to_file(model, \"my_model.mof.json\")\n",
    "str = read(\"my_model.mof.json\", String)\n",
    "print(str)"
   ]
  },
  {
   "cell_type": "code",
   "execution_count": null,
   "metadata": {},
   "outputs": [],
   "source": [
    "model = read_from_file(\"my_model.lp\")\n",
    "print(model)"
   ]
  },
  {
   "cell_type": "markdown",
   "metadata": {},
   "source": [
    "## Handling infeasibility"
   ]
  },
  {
   "cell_type": "markdown",
   "metadata": {},
   "source": [
    "https://jump.dev/JuMP.jl/stable/tutorials/getting_started/debugging/"
   ]
  },
  {
   "cell_type": "code",
   "execution_count": null,
   "metadata": {},
   "outputs": [],
   "source": [
    "model = Model(HiGHS.Optimizer);\n",
    "set_silent(model)\n",
    "@variable(model, x >= 0)\n",
    "@constraint(model, c1, x >= 2)\n",
    "@constraint(model, c2, x <= 1)\n",
    "optimize!(model)\n",
    "termination_status(model)"
   ]
  },
  {
   "cell_type": "code",
   "execution_count": null,
   "metadata": {},
   "outputs": [],
   "source": [
    "try\n",
    "    compute_conflict!(model)\n",
    "catch err\n",
    "    showerror(stderr, err)\n",
    "end"
   ]
  },
  {
   "cell_type": "code",
   "execution_count": 149,
   "metadata": {},
   "outputs": [],
   "source": [
    "\n",
    "# if get_attribute(model, MOI.ConflictStatus()) == MOI.CONFLICT_FOUND\n",
    "#     iis_model, reference_map = copy_conflict(model)\n",
    "#     print(iis_model)\n",
    "# end"
   ]
  },
  {
   "cell_type": "code",
   "execution_count": null,
   "metadata": {},
   "outputs": [],
   "source": [
    "relax_map = relax_with_penalty!(model)"
   ]
  },
  {
   "cell_type": "code",
   "execution_count": null,
   "metadata": {},
   "outputs": [],
   "source": [
    "optimize!(model)\n",
    "termination_status(model)"
   ]
  },
  {
   "cell_type": "code",
   "execution_count": null,
   "metadata": {},
   "outputs": [],
   "source": [
    "for (con, penalty) in relax_map\n",
    "    violation = value(penalty)\n",
    "    if violation > 0\n",
    "        println(\"Constraint `$(name(con))` is violated by $violation\")\n",
    "    end\n",
    "end"
   ]
  },
  {
   "cell_type": "markdown",
   "metadata": {},
   "source": [
    "Primal feasibility\n",
    "The primal feasibility tolerance controls how primal constraints are evaluated. For example, the constraint 2x=1\n",
    " is actually implemented as |2x−1|≤ε\n",
    ", where ε\n",
    " is a small solver-dependent primal feasibility tolerance that is typically on the order of 1e-8.\n",
    "\n",
    "Here's an example in practice. This model should be infeasible, since x must be non-negative, but there is also an equality constraint that x is equal to a small negative number. Yet when we solve this problem, we get:\n"
   ]
  },
  {
   "cell_type": "code",
   "execution_count": null,
   "metadata": {},
   "outputs": [],
   "source": [
    "\n",
    "model = Model(HiGHS.Optimizer)\n",
    "set_silent(model)\n",
    "@variable(model, x >= 0)\n",
    "@constraint(model, x == -1e-8)\n",
    "optimize!(model)\n",
    "is_solved_and_feasible(model)\n"
   ]
  },
  {
   "cell_type": "code",
   "execution_count": null,
   "metadata": {},
   "outputs": [],
   "source": [
    "value(x)\n"
   ]
  },
  {
   "cell_type": "markdown",
   "metadata": {},
   "source": [
    "In other words, HiGHS thinks that the solution x = 0 satisfies the constraint x == -1e-8. The value of ε\n",
    " in HiGHS is controlled by the primal_feasibility_tolerance option. If we set this to a smaller value, HiGHS will now correctly deduce that the problem is infeasible:\n"
   ]
  },
  {
   "cell_type": "code",
   "execution_count": null,
   "metadata": {},
   "outputs": [],
   "source": [
    "set_attribute(model, \"primal_feasibility_tolerance\", 1e-10)\n",
    "optimize!(model)\n",
    "is_solved_and_feasible(model)"
   ]
  },
  {
   "cell_type": "markdown",
   "metadata": {},
   "source": [
    "Integrality tolerances are particularly important when you have big-M type constraints. Small non-integer values in the integer variables can cause \"leakage\" flows even when the big-M switch is \"off.\" Consider this example:"
   ]
  },
  {
   "cell_type": "code",
   "execution_count": null,
   "metadata": {},
   "outputs": [],
   "source": [
    "M = 1e6\n",
    "model = Model()\n",
    "@variable(model, x >= 0)\n",
    "@variable(model, y, Bin)\n",
    "@constraint(model, x <= M * y)\n",
    "print(model)"
   ]
  },
  {
   "cell_type": "code",
   "execution_count": null,
   "metadata": {},
   "outputs": [],
   "source": [
    "primal_feasibility_report(model, Dict(x => 1.0, y => 1e-6))"
   ]
  },
  {
   "cell_type": "markdown",
   "metadata": {},
   "source": [
    "---"
   ]
  },
  {
   "cell_type": "markdown",
   "metadata": {},
   "source": [
    "# Performance tips"
   ]
  },
  {
   "cell_type": "markdown",
   "metadata": {},
   "source": [
    "See Julia performance tips: https://docs.julialang.org/en/v1/manual/performance-tips/index.html\n",
    "* Type instability\n",
    "    * untyped globals\n",
    "    * varaibles tha can assume multiple types\n",
    "    * untyped struc fileds\n",
    "    * use `@code_warntype`\n",
    "* Array acess order (column major loops)\n",
    "* Array allocation (in-place operatios)\n",
    "* Array unnecessary copies (use @views)\n",
    "* Overusing dicts (which are amazing), consider using Arrays and DataFrames"
   ]
  },
  {
   "cell_type": "markdown",
   "metadata": {},
   "source": [
    "On the JuMP side..."
   ]
  },
  {
   "cell_type": "markdown",
   "metadata": {},
   "source": [
    "### Suggestion 1: don't call JuMP from the command line\n",
    "\n",
    "In other languages, you might be used to a workflow like:\n",
    "\n",
    "`$ julia my_script.jl`\n",
    "\n",
    "This doesn't work for JuMP, because we have to pay the compilation latency every time you run the script. Instead, use one of the [suggested workflows](https://docs.julialang.org/en/v1/manual/workflow-tips/) from the Julia documentation."
   ]
  },
  {
   "cell_type": "markdown",
   "metadata": {},
   "source": [
    "### Suggestion 2: disable bridges if none are being used\n",
    "\n",
    "At present, the majority of the latency problems are caused by JuMP's bridging mechanism. If you only use constraints that are natively supported by the solver, you can disable bridges by passing `add_bridges = false` to Model."
   ]
  },
  {
   "cell_type": "code",
   "execution_count": null,
   "metadata": {},
   "outputs": [],
   "source": [
    "model = Model(HiGHS.Optimizer; add_bridges = false)"
   ]
  },
  {
   "cell_type": "markdown",
   "metadata": {},
   "source": [
    "### Suggestion 3: use PackageCompiler\n",
    "As an example of compilation latency, consider the following linear program with two variables and two constraints:"
   ]
  },
  {
   "cell_type": "code",
   "execution_count": 159,
   "metadata": {},
   "outputs": [],
   "source": [
    "using JuMP, HiGHS\n",
    "model = Model(HiGHS.Optimizer)\n",
    "set_silent(model)\n",
    "@variable(model, x >= 0)\n",
    "@variable(model, 0 <= y <= 3)\n",
    "@objective(model, Min, 12x + 20y)\n",
    "@constraint(model, c1, 6x + 8y >= 100)\n",
    "@constraint(model, c2, 7x + 12y >= 120)\n",
    "optimize!(model)\n",
    "open(\"model.log\", \"w\") do io\n",
    "    print(io, solution_summary(model; verbose = true))\n",
    "    return\n",
    "end"
   ]
  },
  {
   "cell_type": "markdown",
   "metadata": {},
   "source": [
    "Saving the problem in model.jl and calling from the command line results in:\n",
    "\n",
    "```\n",
    "$ time julia model.jl\n",
    "15.78s user 0.48s system 100% cpu 16.173 total\n",
    "```\n",
    "\n",
    "Clearly, 16 seconds is a large overhead to pay for solving this trivial model. However, the compilation latency is independent on the problem size, and so 16 seconds of additional overhead may be tolerable for larger models that take minutes or hours to solve.\n",
    "\n",
    "In cases where the compilation latency is intolerable, JuMP is compatible with the PackageCompiler.jl package, which makes it easy to generate a custom sysimage (a binary extension to Julia that caches compiled code) that dramatically reduces the compilation latency. A custom image for our problem can be created as follows:\n",
    "\n",
    "```julia\n",
    "using PackageCompiler, Libdl\n",
    "PackageCompiler.create_sysimage(\n",
    "    [\"JuMP\", \"HiGHS\"],\n",
    "    sysimage_path = \"customimage.\" * Libdl.dlext,\n",
    "    precompile_execution_file = \"model.jl\",\n",
    ")\n",
    "```\n",
    "\n",
    "When Julia is run with the custom image, the run time is now 0.7 seconds instead of 16:\n",
    "\n",
    "```\n",
    "$ time julia --sysimage customimage model.jl\n",
    "0.68s user 0.22s system 153% cpu 0.587 total\n",
    "```\n",
    "\n",
    "Other performance tweaks, such as disabling bridges or using direct mode can reduce this time further.\n",
    "\n",
    "**Note**\n",
    "`create_sysimage` only needs to be run once, and the same sysimage can be used–to a slight detriment of performance–even if we modify model.jl or run a different file."
   ]
  },
  {
   "cell_type": "markdown",
   "metadata": {},
   "source": [
    "Use macros to build expressions\n",
    "Use JuMP's macros (or `add_to_expression!`) to build expressions. Avoid constructing expressions outside the macros.\n",
    "\n",
    "Constructing an expression outside the macro results in intermediate copies of the expression. For example,\n"
   ]
  },
  {
   "cell_type": "code",
   "execution_count": null,
   "metadata": {},
   "outputs": [],
   "source": [
    "model = Model()\n",
    "@variable(model, x[1:3])"
   ]
  },
  {
   "cell_type": "code",
   "execution_count": null,
   "metadata": {},
   "outputs": [],
   "source": [
    "x[1] + x[2] + x[3]"
   ]
  },
  {
   "cell_type": "markdown",
   "metadata": {},
   "source": [
    "is equivalent to"
   ]
  },
  {
   "cell_type": "code",
   "execution_count": null,
   "metadata": {},
   "outputs": [],
   "source": [
    "a = x[1]\n",
    "b = a + x[2]\n",
    "c = b + x[3]"
   ]
  },
  {
   "cell_type": "markdown",
   "metadata": {},
   "source": [
    "Since we only care about c, the a and b expressions are not needed and constructing them slows the program down.\n",
    "\n",
    "JuMP's macros rewrite the expressions to operate in-place and avoid these extra copies. Because they allocate less memory, they are faster, particularly for large expressions.\n",
    "\n",
    "Here's an example.\n"
   ]
  },
  {
   "cell_type": "code",
   "execution_count": null,
   "metadata": {},
   "outputs": [],
   "source": [
    "model = Model()\n",
    "@variable(model, x[1:3])"
   ]
  },
  {
   "cell_type": "markdown",
   "metadata": {},
   "source": [
    "Here's what happens if we construct the expression outside the macro:"
   ]
  },
  {
   "cell_type": "code",
   "execution_count": null,
   "metadata": {},
   "outputs": [],
   "source": [
    "@allocated x[1] + x[2] + x[3]"
   ]
  },
  {
   "cell_type": "markdown",
   "metadata": {},
   "source": [
    "Info\n",
    "The `@allocated` measures how many bytes were allocated during the evaluation of an expression. Fewer is better.\n",
    "\n",
    "If we use the `@expression` macro, we get many fewer allocations:"
   ]
  },
  {
   "cell_type": "code",
   "execution_count": null,
   "metadata": {},
   "outputs": [],
   "source": [
    "@allocated @expression(model, x[1] + x[2] + x[3])"
   ]
  },
  {
   "cell_type": "markdown",
   "metadata": {},
   "source": [
    "## Disable string names\n",
    "\n",
    "By default, JuMP creates String names for variables and constraints and passes these to the solver. The benefit of passing names is that it improves the readability of log messages from the solver (for example, \"variable x has invalid bounds\" instead of \"variable v1203 has invalid bounds\"), but for larger models the overhead of passing names can be non-trivial.\n",
    "\n",
    "Disable the creation of String names by setting set_string_name = false in the @variable and @constraint macros, or by calling set_string_names_on_creation to disable all names for a particular model:"
   ]
  },
  {
   "cell_type": "code",
   "execution_count": null,
   "metadata": {},
   "outputs": [],
   "source": [
    "model = Model();\n",
    "set_string_names_on_creation(model, false)\n",
    "@variable(model, x)\n",
    "@constraint(model, c, 2x <= 1)"
   ]
  },
  {
   "cell_type": "markdown",
   "metadata": {},
   "source": [
    "Note that this doesn't change how symbolic names and bindings are stored:"
   ]
  },
  {
   "cell_type": "code",
   "execution_count": null,
   "metadata": {},
   "outputs": [],
   "source": [
    "x"
   ]
  },
  {
   "cell_type": "code",
   "execution_count": null,
   "metadata": {},
   "outputs": [],
   "source": [
    "model[:x]"
   ]
  },
  {
   "cell_type": "code",
   "execution_count": null,
   "metadata": {},
   "outputs": [],
   "source": [
    "x === model[:x]"
   ]
  },
  {
   "cell_type": "markdown",
   "metadata": {},
   "source": [
    "But you can no longer look up the variable by the string name:"
   ]
  },
  {
   "cell_type": "code",
   "execution_count": null,
   "metadata": {},
   "outputs": [],
   "source": [
    "variable_by_name(model, \"x\") === nothing"
   ]
  },
  {
   "cell_type": "markdown",
   "metadata": {},
   "source": [
    "## `direct_model` : advanced strategy to avoid copies"
   ]
  },
  {
   "cell_type": "markdown",
   "metadata": {},
   "source": [
    "In its default usage, JuMP stores its own copy of the problem data, which\n",
    "enables JuMP to perform problem modification and allows the solver to be\n",
    "changed at any time. This design is the most typical choice for modeling\n",
    "languages, we presume because it simplifies the task of abstraction across\n",
    "solvers.\n",
    "\n",
    "To provide an option to reduce peak memory usage and improve performance, JuMP 1.0 includes `direct_model`, a mode in which JuMP acts as a\n",
    "stateless wrapper around the solver, passing all problem data directly to the\n",
    "solver without any intermediate caches or transformations."
   ]
  },
  {
   "cell_type": "code",
   "execution_count": null,
   "metadata": {},
   "outputs": [],
   "source": [
    "model = direct_model(HiGHS.Optimizer())\n",
    "@variable(model, x)\n",
    "@constraint(model, c, 2x <= 1)"
   ]
  },
  {
   "cell_type": "markdown",
   "metadata": {},
   "source": [
    "Direct mode is not enabled by default because some solvers do not support\n",
    "the incremental modifications required to build the model in direct mode (e.g.,\n",
    "they may be one-shot solvers that require all problem data in a single function\n",
    "call). Moreover, in direct mode, the user cannot change the solver associated\n",
    "with a model, and reformulations—particularly those associated with conic\n",
    "models—are disabled. In general, we suggest that users consider direct mode\n",
    "only if benchmarking demonstrates that model construction is a bottleneck in\n",
    "their application and only if they are using a solver that supports incremental\n",
    "modification."
   ]
  },
  {
   "cell_type": "markdown",
   "metadata": {},
   "source": [
    "---"
   ]
  },
  {
   "cell_type": "markdown",
   "metadata": {},
   "source": [
    "# Design patterns for larger models"
   ]
  },
  {
   "cell_type": "markdown",
   "metadata": {},
   "source": [
    "JuMP makes it easy to build and solve optimization models. However, once you\n",
    "start to construct larger models, and especially ones that interact with\n",
    "external data sources or have customizable sets of variables and constraints\n",
    "based on client choices, you may find that your scripts become unwieldy. This\n",
    "tutorial demonstrates a variety of ways in which you can structure larger JuMP\n",
    "models to improve their readability and maintainability."
   ]
  },
  {
   "cell_type": "markdown",
   "metadata": {},
   "source": [
    "**Tip**\n",
    "    This tutorial is more advanced than the other \"Getting started\" tutorials.\n",
    "    It's in the \"Getting started\" section to give you an early preview of how\n",
    "    JuMP makes it easy to structure larger models. However, if you are new to\n",
    "    JuMP you may want to briefly skim the tutorial, and come back to it once\n",
    "    you have written a few JuMP models."
   ]
  },
  {
   "cell_type": "markdown",
   "metadata": {},
   "source": [
    "## Overview"
   ]
  },
  {
   "cell_type": "markdown",
   "metadata": {},
   "source": [
    "This tutorial uses explanation-by-example. We're going to start with a simple\n",
    "[knapsack model](https://en.wikipedia.org/wiki/Knapsack_problem), and then\n",
    "expand it to add various features and structure."
   ]
  },
  {
   "cell_type": "markdown",
   "metadata": {},
   "source": [
    "## A simple script"
   ]
  },
  {
   "cell_type": "markdown",
   "metadata": {},
   "source": [
    "Your first prototype of a JuMP model is probably a script that uses a small\n",
    "set of hard-coded data."
   ]
  },
  {
   "cell_type": "code",
   "execution_count": null,
   "metadata": {},
   "outputs": [],
   "source": [
    "using JuMP, HiGHS\n",
    "profit = [5, 3, 2, 7, 4]\n",
    "weight = [2, 8, 4, 2, 5]\n",
    "capacity = 10\n",
    "N = 5\n",
    "model = Model(HiGHS.Optimizer)\n",
    "@variable(model, x[1:N], Bin)\n",
    "@objective(model, Max, sum(profit[i] * x[i] for i in 1:N))\n",
    "@constraint(model, sum(weight[i] * x[i] for i in 1:N) <= capacity)\n",
    "optimize!(model)\n",
    "@assert is_solved_and_feasible(model)\n",
    "value.(x)"
   ]
  },
  {
   "cell_type": "markdown",
   "metadata": {},
   "source": [
    "The benefits of this approach are:\n",
    " * it is quick to code\n",
    " * it is quick to make changes."
   ]
  },
  {
   "cell_type": "markdown",
   "metadata": {},
   "source": [
    "The downsides include:\n",
    " * all variables are global (read [Performance tips](https://docs.julialang.org/en/v1/manual/performance-tips/))\n",
    " * it is easy to introduce errors, for example, having `profit` and `weight` be\n",
    "   vectors of different lengths, or not match `N`\n",
    " * the solution, `x[i]`, is hard to interpret without knowing the order in\n",
    "   which we provided the data."
   ]
  },
  {
   "cell_type": "markdown",
   "metadata": {},
   "source": [
    "## Wrap the model in a function"
   ]
  },
  {
   "cell_type": "markdown",
   "metadata": {},
   "source": [
    "A good next step is to wrap your model in a function. This is useful for a few\n",
    "reasons:\n",
    " * it removes global variables\n",
    " * it encapsulates the JuMP model and forces you to clarify your inputs and\n",
    "   outputs\n",
    " * we can add some error checking."
   ]
  },
  {
   "cell_type": "code",
   "execution_count": null,
   "metadata": {},
   "outputs": [],
   "source": [
    "function solve_knapsack_1(profit::Vector, weight::Vector, capacity::Real)\n",
    "    if length(profit) != length(weight)\n",
    "        throw(DimensionMismatch(\"profit and weight are different sizes\"))\n",
    "    end\n",
    "    N = length(weight)\n",
    "    model = Model(HiGHS.Optimizer)\n",
    "    @variable(model, x[1:N], Bin)\n",
    "    @objective(model, Max, sum(profit[i] * x[i] for i in 1:N))\n",
    "    @constraint(model, sum(weight[i] * x[i] for i in 1:N) <= capacity)\n",
    "    optimize!(model)\n",
    "    @assert is_solved_and_feasible(model)\n",
    "    return value.(x)\n",
    "end\n",
    "\n",
    "solve_knapsack_1([5, 3, 2, 7, 4], [2, 8, 4, 2, 5], 10)"
   ]
  },
  {
   "cell_type": "markdown",
   "metadata": {},
   "source": [
    "## Create better data structures"
   ]
  },
  {
   "cell_type": "markdown",
   "metadata": {},
   "source": [
    "Although we can check for errors like mis-matched vector lengths, if you start\n",
    "to develop models with a lot of data, keeping track of vectors and lengths and\n",
    "indices is fragile and a common source of bugs. A good solution is to use\n",
    "Julia's type system to create an abstraction over your data."
   ]
  },
  {
   "cell_type": "markdown",
   "metadata": {},
   "source": [
    "For example, we can create a `struct` that represents a single object, with a\n",
    "constructor that lets us validate assumptions on the input data:"
   ]
  },
  {
   "cell_type": "code",
   "execution_count": 174,
   "metadata": {},
   "outputs": [],
   "source": [
    "struct KnapsackObject\n",
    "    profit::Float64\n",
    "    weight::Float64\n",
    "    function KnapsackObject(profit::Float64, weight::Float64)\n",
    "        if weight < 0\n",
    "            throw(DomainError(\"Weight of object cannot be negative\"))\n",
    "        end\n",
    "        return new(profit, weight)\n",
    "    end\n",
    "end"
   ]
  },
  {
   "cell_type": "markdown",
   "metadata": {},
   "source": [
    "as well as a `struct` that holds a dictionary of objects and the knapsack's\n",
    "capacity:"
   ]
  },
  {
   "cell_type": "code",
   "execution_count": 175,
   "metadata": {},
   "outputs": [],
   "source": [
    "struct KnapsackData\n",
    "    objects::Dict{String,KnapsackObject}\n",
    "    capacity::Float64\n",
    "end"
   ]
  },
  {
   "cell_type": "markdown",
   "metadata": {},
   "source": [
    "Here's what our data might look like now:"
   ]
  },
  {
   "cell_type": "code",
   "execution_count": null,
   "metadata": {},
   "outputs": [],
   "source": [
    "objects = Dict(\n",
    "    \"apple\" => KnapsackObject(5.0, 2.0),\n",
    "    \"banana\" => KnapsackObject(3.0, 8.0),\n",
    "    \"cherry\" => KnapsackObject(2.0, 4.0),\n",
    "    \"date\" => KnapsackObject(7.0, 2.0),\n",
    "    \"eggplant\" => KnapsackObject(4.0, 5.0),\n",
    ")\n",
    "data = KnapsackData(objects, 10.0)"
   ]
  },
  {
   "cell_type": "markdown",
   "metadata": {},
   "source": [
    "If you want, you can add custom printing to make it easier to visualize:"
   ]
  },
  {
   "cell_type": "code",
   "execution_count": null,
   "metadata": {},
   "outputs": [],
   "source": [
    "function Base.show(io::IO, data::KnapsackData)\n",
    "    println(io, \"A knapsack with capacity $(data.capacity) and possible items:\")\n",
    "    for (k, v) in data.objects\n",
    "        println(\n",
    "            io,\n",
    "            \"  $(rpad(k, 8)) : profit = $(v.profit), weight = $(v.weight)\",\n",
    "        )\n",
    "    end\n",
    "    return\n",
    "end\n",
    "\n",
    "data"
   ]
  },
  {
   "cell_type": "markdown",
   "metadata": {},
   "source": [
    "Then, we can re-write our `solve_knapsack` function to take our `KnapsackData`\n",
    "as input:"
   ]
  },
  {
   "cell_type": "code",
   "execution_count": null,
   "metadata": {},
   "outputs": [],
   "source": [
    "function solve_knapsack_2(data::KnapsackData)\n",
    "    model = Model(HiGHS.Optimizer)\n",
    "    @variable(model, x[keys(data.objects)], Bin)\n",
    "    @objective(model, Max, sum(v.profit * x[k] for (k, v) in data.objects))\n",
    "    @constraint(\n",
    "        model,\n",
    "        sum(v.weight * x[k] for (k, v) in data.objects) <= data.capacity,\n",
    "    )\n",
    "    optimize!(model)\n",
    "    @assert is_solved_and_feasible(model)\n",
    "    return value.(x)\n",
    "end\n",
    "\n",
    "solve_knapsack_2(data)"
   ]
  },
  {
   "cell_type": "markdown",
   "metadata": {},
   "source": [
    "## Read in data from files"
   ]
  },
  {
   "cell_type": "markdown",
   "metadata": {},
   "source": [
    "Having a data structure is a good step. But it is still annoying that we have\n",
    "to hard-code the data into Julia. A good next step is to separate the data\n",
    "into an external file format; JSON is a common choice."
   ]
  },
  {
   "cell_type": "code",
   "execution_count": 179,
   "metadata": {},
   "outputs": [],
   "source": [
    "json_data = \"\"\"\n",
    "{\n",
    "    \"objects\": {\n",
    "        \"apple\": {\"profit\": 5.0, \"weight\": 2.0},\n",
    "        \"banana\": {\"profit\": 3.0, \"weight\": 8.0},\n",
    "        \"cherry\": {\"profit\": 2.0, \"weight\": 4.0},\n",
    "        \"date\": {\"profit\": 7.0, \"weight\": 2.0},\n",
    "        \"eggplant\": {\"profit\": 4.0, \"weight\": 5.0}\n",
    "    },\n",
    "    \"capacity\": 10.0\n",
    "}\n",
    "\"\"\"\n",
    "temp_dir = mktempdir()\n",
    "knapsack_json_filename = joinpath(temp_dir, \"knapsack.json\")\n",
    "# Instead of writing a new file here you could replace `knapsack_json_filename`\n",
    "# with the path to a local file.\n",
    "write(knapsack_json_filename, json_data);"
   ]
  },
  {
   "cell_type": "markdown",
   "metadata": {},
   "source": [
    "Now let's write a function that reads this file and builds a `KnapsackData`\n",
    "object:"
   ]
  },
  {
   "cell_type": "code",
   "execution_count": null,
   "metadata": {},
   "outputs": [],
   "source": [
    "import JSON\n",
    "\n",
    "function read_data(filename)\n",
    "    d = JSON.parsefile(filename)\n",
    "    return KnapsackData(\n",
    "        Dict(\n",
    "            k => KnapsackObject(v[\"profit\"], v[\"weight\"]) for\n",
    "            (k, v) in d[\"objects\"]\n",
    "        ),\n",
    "        d[\"capacity\"],\n",
    "    )\n",
    "end\n",
    "\n",
    "data = read_data(knapsack_json_filename)"
   ]
  },
  {
   "cell_type": "markdown",
   "metadata": {},
   "source": [
    "## Add options via if-else"
   ]
  },
  {
   "cell_type": "markdown",
   "metadata": {},
   "source": [
    "At this point, we have data in a file format which we can load and solve a\n",
    "single problem. For many users, this might be sufficient. However, at some\n",
    "point you may be asked to add features like \"but what if we want to take more\n",
    "than one of a particular item?\""
   ]
  },
  {
   "cell_type": "markdown",
   "metadata": {},
   "source": [
    "If this is the first time that you've been asked to add a feature, adding\n",
    "options via `if-else` statements is a good approach. For example, we might\n",
    "write:"
   ]
  },
  {
   "cell_type": "code",
   "execution_count": null,
   "metadata": {},
   "outputs": [],
   "source": [
    "function solve_knapsack_3(data::KnapsackData; binary_knapsack::Bool)\n",
    "    model = Model(HiGHS.Optimizer)\n",
    "    if binary_knapsack\n",
    "        @variable(model, x[keys(data.objects)], Bin)\n",
    "    else\n",
    "        @variable(model, x[keys(data.objects)] >= 0, Int)\n",
    "    end\n",
    "    @objective(model, Max, sum(v.profit * x[k] for (k, v) in data.objects))\n",
    "    @constraint(\n",
    "        model,\n",
    "        sum(v.weight * x[k] for (k, v) in data.objects) <= data.capacity,\n",
    "    )\n",
    "    optimize!(model)\n",
    "    @assert is_solved_and_feasible(model)\n",
    "    return value.(x)\n",
    "end"
   ]
  },
  {
   "cell_type": "markdown",
   "metadata": {},
   "source": [
    "Now we can solve the binary knapsack:"
   ]
  },
  {
   "cell_type": "code",
   "execution_count": null,
   "metadata": {},
   "outputs": [],
   "source": [
    "solve_knapsack_3(data; binary_knapsack = true)"
   ]
  },
  {
   "cell_type": "markdown",
   "metadata": {},
   "source": [
    "And an integer knapsack where we can take more than one copy of each item:"
   ]
  },
  {
   "cell_type": "code",
   "execution_count": null,
   "metadata": {},
   "outputs": [],
   "source": [
    "solve_knapsack_3(data; binary_knapsack = false)"
   ]
  },
  {
   "cell_type": "markdown",
   "metadata": {},
   "source": [
    "## Add configuration options via dispatch"
   ]
  },
  {
   "cell_type": "markdown",
   "metadata": {},
   "source": [
    "If you get repeated requests to add different options, you'll quickly find\n",
    "yourself in a mess of different flags and `if-else` statements. It's hard to\n",
    "write, hard to read, and hard to ensure you haven't introduced any bugs.\n",
    "A good solution is to use Julia's type dispatch to control the configuration\n",
    "of the model. The easiest way to explain this is by example."
   ]
  },
  {
   "cell_type": "markdown",
   "metadata": {},
   "source": [
    "First, start by defining a new abstract type, as well as new subtypes for each\n",
    "of our options. These types are going to control the configuration of the\n",
    "knapsack model."
   ]
  },
  {
   "cell_type": "code",
   "execution_count": 184,
   "metadata": {},
   "outputs": [],
   "source": [
    "abstract type AbstractConfiguration end\n",
    "\n",
    "struct BinaryKnapsackConfig <: AbstractConfiguration end\n",
    "\n",
    "struct IntegerKnapsackConfig <: AbstractConfiguration end"
   ]
  },
  {
   "cell_type": "markdown",
   "metadata": {},
   "source": [
    "Then, we rewrite our `solve_knapsack` function to take a `config` argument,\n",
    "and we introduce an `add_knapsack_variables` function to abstract the creation\n",
    "of our variables."
   ]
  },
  {
   "cell_type": "code",
   "execution_count": null,
   "metadata": {},
   "outputs": [],
   "source": [
    "function solve_knapsack_4(data::KnapsackData, config::AbstractConfiguration)\n",
    "    model = Model(HiGHS.Optimizer)\n",
    "    x = add_knapsack_variables(model, data, config)\n",
    "    @objective(model, Max, sum(v.profit * x[k] for (k, v) in data.objects))\n",
    "    @constraint(\n",
    "        model,\n",
    "        sum(v.weight * x[k] for (k, v) in data.objects) <= data.capacity,\n",
    "    )\n",
    "    optimize!(model)\n",
    "    @assert is_solved_and_feasible(model)\n",
    "    return value.(x)\n",
    "end"
   ]
  },
  {
   "cell_type": "markdown",
   "metadata": {},
   "source": [
    "For the binary knapsack problem, `add_knapsack_variables` looks like this:"
   ]
  },
  {
   "cell_type": "code",
   "execution_count": null,
   "metadata": {},
   "outputs": [],
   "source": [
    "function add_knapsack_variables(\n",
    "    model::Model,\n",
    "    data::KnapsackData,\n",
    "    ::BinaryKnapsackConfig,\n",
    ")\n",
    "    return @variable(model, x[keys(data.objects)], Bin)\n",
    "end"
   ]
  },
  {
   "cell_type": "markdown",
   "metadata": {},
   "source": [
    "For the integer knapsack problem, `add_knapsack_variables` looks like this:"
   ]
  },
  {
   "cell_type": "code",
   "execution_count": null,
   "metadata": {},
   "outputs": [],
   "source": [
    "function add_knapsack_variables(\n",
    "    model::Model,\n",
    "    data::KnapsackData,\n",
    "    ::IntegerKnapsackConfig,\n",
    ")\n",
    "    return @variable(model, x[keys(data.objects)] >= 0, Int)\n",
    "end"
   ]
  },
  {
   "cell_type": "markdown",
   "metadata": {},
   "source": [
    "Now we can solve the binary knapsack:"
   ]
  },
  {
   "cell_type": "code",
   "execution_count": null,
   "metadata": {},
   "outputs": [],
   "source": [
    "solve_knapsack_4(data, BinaryKnapsackConfig())"
   ]
  },
  {
   "cell_type": "markdown",
   "metadata": {},
   "source": [
    "and the integer knapsack problem:"
   ]
  },
  {
   "cell_type": "code",
   "execution_count": null,
   "metadata": {},
   "outputs": [],
   "source": [
    "solve_knapsack_4(data, IntegerKnapsackConfig())"
   ]
  },
  {
   "cell_type": "markdown",
   "metadata": {},
   "source": [
    "The main benefit of the dispatch approach is that you can quickly add new\n",
    "options without needing to modify the existing code. For example:"
   ]
  },
  {
   "cell_type": "code",
   "execution_count": null,
   "metadata": {},
   "outputs": [],
   "source": [
    "struct UpperBoundedKnapsackConfig <: AbstractConfiguration\n",
    "    limit::Int\n",
    "end\n",
    "\n",
    "function add_knapsack_variables(\n",
    "    model::Model,\n",
    "    data::KnapsackData,\n",
    "    config::UpperBoundedKnapsackConfig,\n",
    ")\n",
    "    return @variable(model, 0 <= x[keys(data.objects)] <= config.limit, Int)\n",
    "end\n",
    "\n",
    "solve_knapsack_4(data, UpperBoundedKnapsackConfig(3))"
   ]
  },
  {
   "cell_type": "markdown",
   "metadata": {},
   "source": [
    "## Generalize constraints and objectives"
   ]
  },
  {
   "cell_type": "markdown",
   "metadata": {},
   "source": [
    "It's easy to extend the dispatch approach to constraints and objectives as\n",
    "well. The key points to notice in the next two functions are that:\n",
    " * we can access registered variables via `model[:x]`\n",
    " * we can define generic functions which accept any `AbstractConfiguration` as a\n",
    "   configuration argument. That means we can implement a single method and\n",
    "   have it apply to multiple configuration types."
   ]
  },
  {
   "cell_type": "code",
   "execution_count": null,
   "metadata": {},
   "outputs": [],
   "source": [
    "function add_knapsack_constraints(\n",
    "    model::Model,\n",
    "    data::KnapsackData,\n",
    "    ::AbstractConfiguration,\n",
    ")\n",
    "    x = model[:x]\n",
    "    @constraint(\n",
    "        model,\n",
    "        capacity_constraint,\n",
    "        sum(v.weight * x[k] for (k, v) in data.objects) <= data.capacity,\n",
    "    )\n",
    "    return\n",
    "end\n",
    "\n",
    "function add_knapsack_objective(\n",
    "    model::Model,\n",
    "    data::KnapsackData,\n",
    "    ::AbstractConfiguration,\n",
    ")\n",
    "    x = model[:x]\n",
    "    @objective(model, Max, sum(v.profit * x[k] for (k, v) in data.objects))\n",
    "    return\n",
    "end\n",
    "\n",
    "function solve_knapsack_5(data::KnapsackData, config::AbstractConfiguration)\n",
    "    model = Model(HiGHS.Optimizer)\n",
    "    add_knapsack_variables(model, data, config)\n",
    "    add_knapsack_constraints(model, data, config)\n",
    "    add_knapsack_objective(model, data, config)\n",
    "    optimize!(model)\n",
    "    @assert is_solved_and_feasible(model)\n",
    "    return value.(model[:x])\n",
    "end\n",
    "\n",
    "solve_knapsack_5(data, BinaryKnapsackConfig())"
   ]
  },
  {
   "cell_type": "markdown",
   "metadata": {},
   "source": [
    "## Remove solver dependence, add error checks"
   ]
  },
  {
   "cell_type": "markdown",
   "metadata": {},
   "source": [
    "Compared to where we started, our knapsack model is now significantly\n",
    "different. We've wrapped it in a function, defined some data types, and\n",
    "introduced configuration options to control the variables and constraints that\n",
    "get added. There are a few other steps we can do to further improve things:\n",
    " * remove the dependence on `HiGHS`\n",
    " * add checks that we found an optimal solution\n",
    " * add a helper function to avoid the need to explicitly construct the data."
   ]
  },
  {
   "cell_type": "code",
   "execution_count": null,
   "metadata": {},
   "outputs": [],
   "source": [
    "function solve_knapsack_6(\n",
    "    optimizer,\n",
    "    data::KnapsackData,\n",
    "    config::AbstractConfiguration,\n",
    ")\n",
    "    model = Model(optimizer)\n",
    "    add_knapsack_variables(model, data, config)\n",
    "    add_knapsack_constraints(model, data, config)\n",
    "    add_knapsack_objective(model, data, config)\n",
    "    optimize!(model)\n",
    "    if !is_solved_and_feasible(model)\n",
    "        @warn(\"Model not solved to optimality\")\n",
    "        return nothing\n",
    "    end\n",
    "    return value.(model[:x])\n",
    "end\n",
    "\n",
    "function solve_knapsack_6(\n",
    "    optimizer,\n",
    "    data::String,\n",
    "    config::AbstractConfiguration,\n",
    ")\n",
    "    return solve_knapsack_6(optimizer, read_data(data), config)\n",
    "end\n",
    "\n",
    "solution = solve_knapsack_6(\n",
    "    HiGHS.Optimizer,\n",
    "    knapsack_json_filename,\n",
    "    BinaryKnapsackConfig(),\n",
    ")"
   ]
  },
  {
   "cell_type": "markdown",
   "metadata": {},
   "source": [
    "## Create a module"
   ]
  },
  {
   "cell_type": "markdown",
   "metadata": {},
   "source": [
    "Now we're ready to expose our model to the wider world. That might be as part\n",
    "of a larger Julia project that we're contributing to, or as a stand-alone\n",
    "script that we can run on-demand. In either case, it's good practice to wrap\n",
    "everything in a module. This further encapsulates our code into a single\n",
    "namespace, and we can add documentation in the form of\n",
    "[docstrings](https://docs.julialang.org/en/v1/manual/documentation/)."
   ]
  },
  {
   "cell_type": "markdown",
   "metadata": {},
   "source": [
    "Some good rules to follow when creating a module are:\n",
    "* use `import` in a module instead of `using` to make it clear which functions\n",
    "  are from which packages\n",
    "* use `_` to start function and type names that are considered private\n",
    "* add docstrings to all public variables and functions."
   ]
  },
  {
   "cell_type": "code",
   "execution_count": null,
   "metadata": {},
   "outputs": [],
   "source": [
    "module KnapsackModel\n",
    "\n",
    "import JuMP\n",
    "import JSON\n",
    "\n",
    "struct _KnapsackObject\n",
    "    profit::Float64\n",
    "    weight::Float64\n",
    "    function _KnapsackObject(profit::Float64, weight::Float64)\n",
    "        if weight < 0\n",
    "            throw(DomainError(\"Weight of object cannot be negative\"))\n",
    "        end\n",
    "        return new(profit, weight)\n",
    "    end\n",
    "end\n",
    "\n",
    "struct _KnapsackData\n",
    "    objects::Dict{String,_KnapsackObject}\n",
    "    capacity::Float64\n",
    "end\n",
    "\n",
    "function _read_data(filename)\n",
    "    d = JSON.parsefile(filename)\n",
    "    return _KnapsackData(\n",
    "        Dict(\n",
    "            k => _KnapsackObject(v[\"profit\"], v[\"weight\"]) for\n",
    "            (k, v) in d[\"objects\"]\n",
    "        ),\n",
    "        d[\"capacity\"],\n",
    "    )\n",
    "end\n",
    "\n",
    "abstract type _AbstractConfiguration end\n",
    "\n",
    "\"\"\"\n",
    "    BinaryKnapsackConfig()\n",
    "\n",
    "Create a binary knapsack problem where each object can be taken 0 or 1 times.\n",
    "\"\"\"\n",
    "struct BinaryKnapsackConfig <: _AbstractConfiguration end\n",
    "\n",
    "\"\"\"\n",
    "    IntegerKnapsackConfig()\n",
    "\n",
    "Create an integer knapsack problem where each object can be taken any number of\n",
    "times.\n",
    "\"\"\"\n",
    "struct IntegerKnapsackConfig <: _AbstractConfiguration end\n",
    "\n",
    "function _add_knapsack_variables(\n",
    "    model::JuMP.Model,\n",
    "    data::_KnapsackData,\n",
    "    ::BinaryKnapsackConfig,\n",
    ")\n",
    "    return JuMP.@variable(model, x[keys(data.objects)], Bin)\n",
    "end\n",
    "\n",
    "function _add_knapsack_variables(\n",
    "    model::JuMP.Model,\n",
    "    data::_KnapsackData,\n",
    "    ::IntegerKnapsackConfig,\n",
    ")\n",
    "    return JuMP.@variable(model, x[keys(data.objects)] >= 0, Int)\n",
    "end\n",
    "\n",
    "function _add_knapsack_constraints(\n",
    "    model::JuMP.Model,\n",
    "    data::_KnapsackData,\n",
    "    ::_AbstractConfiguration,\n",
    ")\n",
    "    x = model[:x]\n",
    "    JuMP.@constraint(\n",
    "        model,\n",
    "        capacity_constraint,\n",
    "        sum(v.weight * x[k] for (k, v) in data.objects) <= data.capacity,\n",
    "    )\n",
    "    return\n",
    "end\n",
    "\n",
    "function _add_knapsack_objective(\n",
    "    model::JuMP.Model,\n",
    "    data::_KnapsackData,\n",
    "    ::_AbstractConfiguration,\n",
    ")\n",
    "    x = model[:x]\n",
    "    JuMP.@objective(model, Max, sum(v.profit * x[k] for (k, v) in data.objects))\n",
    "    return\n",
    "end\n",
    "\n",
    "function _solve_knapsack(\n",
    "    optimizer,\n",
    "    data::_KnapsackData,\n",
    "    config::_AbstractConfiguration,\n",
    ")\n",
    "    model = JuMP.Model(optimizer)\n",
    "    _add_knapsack_variables(model, data, config)\n",
    "    _add_knapsack_constraints(model, data, config)\n",
    "    _add_knapsack_objective(model, data, config)\n",
    "    JuMP.optimize!(model)\n",
    "    if !JuMP.is_solved_and_feasible(model)\n",
    "        @warn(\"Model not solved to optimality\")\n",
    "        return nothing\n",
    "    end\n",
    "    return JuMP.value.(model[:x])\n",
    "end\n",
    "\n",
    "\"\"\"\n",
    "    solve_knapsack(\n",
    "        optimizer,\n",
    "        knapsack_json_filename::String,\n",
    "        config::_AbstractConfiguration,\n",
    "    )\n",
    "\n",
    "Solve the knapsack problem and return the optimal primal solution\n",
    "\n",
    "# Arguments\n",
    "\n",
    " * `optimizer` : an object that can be passed to `JuMP.Model` to construct a new\n",
    "   JuMP model.\n",
    " * `knapsack_json_filename` : the filename of a JSON file containing the data for the\n",
    "   problem.\n",
    " * `config` : an object to control the type of knapsack model constructed.\n",
    "   Valid options are:\n",
    "    * `BinaryKnapsackConfig()`\n",
    "    * `IntegerKnapsackConfig()`\n",
    "\n",
    "# Returns\n",
    "\n",
    " * If an optimal solution exists: a `JuMP.DenseAxisArray` that maps the `String`\n",
    "   name of each object to the number of objects to pack into the knapsack.\n",
    " * Otherwise, `nothing`, indicating that the problem does not have an optimal\n",
    "   solution.\n",
    "\n",
    "# Example\n",
    "\n",
    "```julia\n",
    "solution = solve_knapsack(\n",
    "    HiGHS.Optimizer,\n",
    "    \"path/to/data.json\",\n",
    "    BinaryKnapsackConfig(),\n",
    ")\n",
    "```\n",
    "\n",
    "```julia\n",
    "solution = solve_knapsack(\n",
    "    MOI.OptimizerWithAttributes(HiGHS.Optimizer, \"output_flag\" => false),\n",
    "    \"path/to/data.json\",\n",
    "    IntegerKnapsackConfig(),\n",
    ")\n",
    "```\n",
    "\"\"\"\n",
    "function solve_knapsack(\n",
    "    optimizer,\n",
    "    knapsack_json_filename::String,\n",
    "    config::_AbstractConfiguration,\n",
    ")\n",
    "    data = _read_data(knapsack_json_filename)\n",
    "    return _solve_knapsack(optimizer, data, config)\n",
    "end\n",
    "\n",
    "end"
   ]
  },
  {
   "cell_type": "markdown",
   "metadata": {},
   "source": [
    "Finally, you can call your model:"
   ]
  },
  {
   "cell_type": "code",
   "execution_count": null,
   "metadata": {},
   "outputs": [],
   "source": [
    "import .KnapsackModel\n",
    "\n",
    "KnapsackModel.solve_knapsack(\n",
    "    HiGHS.Optimizer,\n",
    "    knapsack_json_filename,\n",
    "    KnapsackModel.BinaryKnapsackConfig(),\n",
    ")"
   ]
  },
  {
   "cell_type": "markdown",
   "metadata": {},
   "source": [
    "**Note**\n",
    "    The `.` in `.KnapsackModel` denotes that it is a submodule and not a\n",
    "    separate package that we installed with `Pkg.add`. If you put the\n",
    "    `KnapsackModel` in a separate file, load it with:\n",
    "    ```julia\n",
    "    include(\"path/to/KnapsackModel.jl\")\n",
    "    import .KnapsackModel\n",
    "    ```"
   ]
  },
  {
   "cell_type": "markdown",
   "metadata": {},
   "source": [
    "## Add tests"
   ]
  },
  {
   "cell_type": "markdown",
   "metadata": {},
   "source": [
    "As a final step, you should add tests for your model. This often means testing\n",
    "on a small problem for which you can work out the optimal solution by hand.\n",
    "The Julia standard library `Test` has good unit-testing functionality."
   ]
  },
  {
   "cell_type": "code",
   "execution_count": null,
   "metadata": {},
   "outputs": [],
   "source": [
    "import .KnapsackModel\n",
    "using Test\n",
    "\n",
    "@testset \"KnapsackModel\" begin\n",
    "    @testset \"feasible_binary_knapsack\" begin\n",
    "        x = KnapsackModel.solve_knapsack(\n",
    "            HiGHS.Optimizer,\n",
    "            knapsack_json_filename,\n",
    "            KnapsackModel.BinaryKnapsackConfig(),\n",
    "        )\n",
    "        @test isapprox(x[\"apple\"], 1, atol = 1e-5)\n",
    "        @test isapprox(x[\"banana\"], 0, atol = 1e-5)\n",
    "        @test isapprox(x[\"cherry\"], 0, atol = 1e-5)\n",
    "        @test isapprox(x[\"date\"], 1, atol = 1e-5)\n",
    "        @test isapprox(x[\"eggplant\"], 1, atol = 1e-5)\n",
    "    end\n",
    "    @testset \"feasible_integer_knapsack\" begin\n",
    "        x = KnapsackModel.solve_knapsack(\n",
    "            HiGHS.Optimizer,\n",
    "            knapsack_json_filename,\n",
    "            KnapsackModel.IntegerKnapsackConfig(),\n",
    "        )\n",
    "        @test isapprox(x[\"apple\"], 0, atol = 1e-5)\n",
    "        @test isapprox(x[\"banana\"], 0, atol = 1e-5)\n",
    "        @test isapprox(x[\"cherry\"], 0, atol = 1e-5)\n",
    "        @test isapprox(x[\"date\"], 5, atol = 1e-5)\n",
    "        @test isapprox(x[\"eggplant\"], 0, atol = 1e-5)\n",
    "    end\n",
    "    @testset \"infeasible_binary_knapsack\" begin\n",
    "        dir = mktempdir()\n",
    "        infeasible_filename = joinpath(dir, \"infeasible.json\")\n",
    "        write(\n",
    "            infeasible_filename,\n",
    "            \"\"\"{\n",
    "                \"objects\": {\n",
    "                    \"apple\": {\"profit\": 5.0, \"weight\": 2.0},\n",
    "                    \"banana\": {\"profit\": 3.0, \"weight\": 8.0},\n",
    "                    \"cherry\": {\"profit\": 2.0, \"weight\": 4.0},\n",
    "                    \"date\": {\"profit\": 7.0, \"weight\": 2.0},\n",
    "                    \"eggplant\": {\"profit\": 4.0, \"weight\": 5.0}\n",
    "                },\n",
    "                \"capacity\": -10.0\n",
    "            }\"\"\",\n",
    "        )\n",
    "        x = KnapsackModel.solve_knapsack(\n",
    "            HiGHS.Optimizer,\n",
    "            infeasible_filename,\n",
    "            KnapsackModel.BinaryKnapsackConfig(),\n",
    "        )\n",
    "        @test x === nothing\n",
    "    end\n",
    "end"
   ]
  },
  {
   "cell_type": "markdown",
   "metadata": {},
   "source": [
    "**Tip**\n",
    "    Place these tests in a separate file `test_knapsack_model.jl` so that you\n",
    "    can run the tests by adding `include(\"test_knapsack_model.jl\")` to any\n",
    "    file where needed."
   ]
  },
  {
   "cell_type": "markdown",
   "metadata": {},
   "source": [
    "## Next steps"
   ]
  },
  {
   "cell_type": "markdown",
   "metadata": {},
   "source": [
    "We've only briefly scratched the surface of ways to create and structure large\n",
    "JuMP models, so consider this tutorial a starting point, rather than a\n",
    "comprehensive list of all the possible ways to structure JuMP models.  If you\n",
    "are embarking on a large project that uses JuMP, a good next step is to\n",
    "look at ways people have written large JuMP projects \"in the wild.\""
   ]
  },
  {
   "cell_type": "markdown",
   "metadata": {},
   "source": [
    "Here are some good examples (all co-incidentally related to energy):\n",
    "* AnyMOD.jl\n",
    "  * [JuMP-dev 2021 talk](https://www.youtube.com/watch?v=QE_tNDER0F4)\n",
    "  * [source code](https://github.com/leonardgoeke/AnyMOD.jl)\n",
    "* PowerModels.jl\n",
    "  * [JuMP-dev 2021 talk](https://www.youtube.com/watch?v=POOt1FCA8LI)\n",
    "  * [source code](https://github.com/lanl-ansi/PowerModels.jl)\n",
    "* PowerSimulations.jl\n",
    "   * [JuliaCon 2021 talk](https://www.youtube.com/watch?v=-ZoO3npjwYU)\n",
    "   * [source code](https://github.com/NREL-SIIP/PowerSimulations.jl)\n",
    "* UnitCommitment.jl\n",
    "  * [JuMP-dev 2021 talk](https://www.youtube.com/watch?v=rYUZK9kYeIY)\n",
    "  * [source code](https://github.com/ANL-CEEESA/UnitCommitment.jl)"
   ]
  },
  {
   "cell_type": "markdown",
   "metadata": {},
   "source": [
    "---"
   ]
  },
  {
   "cell_type": "markdown",
   "metadata": {},
   "source": [
    "# Extensions"
   ]
  },
  {
   "cell_type": "markdown",
   "metadata": {},
   "source": [
    "Basics in the manual:\n",
    "https://jump.dev/JuMP.jl/stable/developers/extensions/#The-extension-dictionary"
   ]
  },
  {
   "cell_type": "markdown",
   "metadata": {},
   "source": [
    "And in the JuMP extension test: https://github.com/jump-dev/JuMP.jl/blob/master/test/JuMPExtension.jl"
   ]
  },
  {
   "cell_type": "markdown",
   "metadata": {},
   "source": [
    "Also look at examples from others:\n",
    "* [BilevelJuMP.jl](https://github.com/joaquimg/BilevelJuMP.jl)\n",
    "* [Coluna.jl](https://github.com/atoptima/Coluna.jl)\n",
    "* [InfiniteOpt.jl](https://github.com/infiniteopt/InfiniteOpt.jl)\n",
    "* [Plasmo.jl](https://github.com/zavalab/Plasmo.jl)\n",
    "* [PolyJuMP.jl](https://github.com/jump-dev/PolyJuMP.jl)\n",
    "* [SDDP.jl](https://github.com/odow/SDDP.jl)\n",
    "* [StochasticPrograms.jl](https://github.com/martinbiel/StochasticPrograms.jl)\n",
    "* [SumOfSquares.jl](https://github.com/jump-dev/SumOfSquares.jl)\n",
    "* [vOptGeneric.jl](https://github.com/vOptSolver/vOptGeneric.jl)"
   ]
  },
  {
   "cell_type": "markdown",
   "metadata": {},
   "source": [
    "## Simplest method: `set_optimize_hook`"
   ]
  },
  {
   "cell_type": "code",
   "execution_count": null,
   "metadata": {},
   "outputs": [],
   "source": [
    "model = Model(HiGHS.Optimizer);\n",
    "@variable(model, x >= 1.5, Int);\n",
    "@objective(model, Min, x);\n",
    "\n",
    "function silent_hook(model; silent::Bool)\n",
    "    if silent\n",
    "        set_silent(model)\n",
    "    else\n",
    "        unset_silent(model)\n",
    "    end\n",
    "    ## Make sure you set ignore_optimize_hook = true, or we'll\n",
    "    ## recursively enter the optimize hook!\n",
    "    return optimize!(model; ignore_optimize_hook = true)\n",
    "end\n",
    "\n",
    "set_optimize_hook(model, silent_hook)"
   ]
  },
  {
   "cell_type": "code",
   "execution_count": 197,
   "metadata": {},
   "outputs": [],
   "source": [
    "optimize!(model; silent = true)"
   ]
  },
  {
   "cell_type": "code",
   "execution_count": null,
   "metadata": {},
   "outputs": [],
   "source": [
    "optimize!(model; silent = false)"
   ]
  },
  {
   "cell_type": "markdown",
   "metadata": {},
   "source": [
    "## More fancy"
   ]
  },
  {
   "cell_type": "markdown",
   "metadata": {},
   "source": [
    "Lets create an extension that solves QPs with LP solvers plus row generation."
   ]
  },
  {
   "cell_type": "markdown",
   "metadata": {},
   "source": [
    "Start with a new struct and initializer:"
   ]
  },
  {
   "cell_type": "code",
   "execution_count": null,
   "metadata": {},
   "outputs": [],
   "source": [
    "@kwdef mutable struct QuadraticToLinearModel <: JuMP.AbstractModel\n",
    "    inner::JuMP.AbstractModel = Model()\n",
    "    objective_function::Any = nothing # can be made type stable\n",
    "    epigraph_variable::Union{Nothing,JuMP.VariableRef} = nothing\n",
    "    cuts::Vector{JuMP.ConstraintRef} = JuMP.ConstraintRef[]\n",
    "    obj_dict::Dict{Symbol,Any} = Dict{Symbol,Any}()\n",
    "end\n",
    "\n",
    "function QuadraticToLinearModel(solver_constructor)\n",
    "    model = QuadraticToLinearModel()\n",
    "    JuMP.set_optimizer(model.inner, solver_constructor)\n",
    "    return model\n",
    "end"
   ]
  },
  {
   "cell_type": "markdown",
   "metadata": {},
   "source": [
    "Following the JuMP example test, we create many method extensions.\n",
    "\n",
    "For this case we can just forward teh calls to the inner model."
   ]
  },
  {
   "cell_type": "code",
   "execution_count": 200,
   "metadata": {},
   "outputs": [],
   "source": [
    "Base.broadcastable(model::QuadraticToLinearModel) = Ref(model)\n",
    "\n",
    "JuMP.object_dictionary(model::QuadraticToLinearModel) = model.obj_dict\n",
    "\n",
    "function JuMP.add_variable(\n",
    "    m::QuadraticToLinearModel,\n",
    "    v,\n",
    "    name::String = \"\",\n",
    ")\n",
    "    return JuMP.add_variable(m.inner, v, name)\n",
    "end\n",
    "\n",
    "function JuMP.add_constraint(\n",
    "    model::QuadraticToLinearModel,\n",
    "    c,\n",
    "    name::String = \"\",\n",
    ")\n",
    "    return JuMP.add_constraint(model.inner, c, name)\n",
    "end\n",
    "\n",
    "function JuMP.objective_value(model::QuadraticToLinearModel)\n",
    "    return JuMP.objective_value(model.inner)\n",
    "end\n",
    "\n",
    "function JuMP.set_objective_sense(model::QuadraticToLinearModel, value)\n",
    "    return JuMP.set_objective_sense(model.inner, value)\n",
    "end\n",
    ";"
   ]
  },
  {
   "cell_type": "markdown",
   "metadata": {},
   "source": [
    "Setting the objective needs to cache the info instead of forwarding it"
   ]
  },
  {
   "cell_type": "code",
   "execution_count": 201,
   "metadata": {},
   "outputs": [],
   "source": [
    "function JuMP.set_objective_function(\n",
    "    m::QuadraticToLinearModel,\n",
    "    f,\n",
    ")\n",
    "    m.objective_function = f\n",
    "    return\n",
    "end"
   ]
  },
  {
   "cell_type": "markdown",
   "metadata": {},
   "source": [
    "which caches an expression.\n",
    "\n",
    "As we will create cutting planes we need to know how to query gradients for differente possible cases."
   ]
  },
  {
   "cell_type": "markdown",
   "metadata": {},
   "source": [
    "### Numbers"
   ]
  },
  {
   "cell_type": "code",
   "execution_count": null,
   "metadata": {},
   "outputs": [],
   "source": [
    "gradient(::Number) = Dict{JuMP.VariableRef, JuMP.AffExpr}()"
   ]
  },
  {
   "cell_type": "markdown",
   "metadata": {},
   "source": [
    "### Pure variables"
   ]
  },
  {
   "cell_type": "code",
   "execution_count": null,
   "metadata": {},
   "outputs": [],
   "source": [
    "gradient(var::JuMP.VariableRef) = \n",
    "    Dict{JuMP.VariableRef, JuMP.AffExpr}(\n",
    "        var => JuMP.AffExpr(1.0)\n",
    "    )"
   ]
  },
  {
   "cell_type": "markdown",
   "metadata": {},
   "source": [
    "### affine functions"
   ]
  },
  {
   "cell_type": "code",
   "execution_count": null,
   "metadata": {},
   "outputs": [],
   "source": [
    "function gradient(aff::JuMP.AffExpr)\n",
    "\n",
    "    out = Dict{JuMP.VariableRef, JuMP.AffExpr}()\n",
    "\n",
    "    for (coef, var) in JuMP.linear_terms(aff)\n",
    "        if haskey(out, var)\n",
    "            out[var] += coef\n",
    "        else\n",
    "            out[var] = coef\n",
    "        end\n",
    "    end\n",
    "\n",
    "    return out\n",
    "end"
   ]
  },
  {
   "cell_type": "markdown",
   "metadata": {},
   "source": [
    "### quadratic functions"
   ]
  },
  {
   "cell_type": "code",
   "execution_count": null,
   "metadata": {},
   "outputs": [],
   "source": [
    "function gradient(aff::JuMP.QuadExpr)\n",
    "\n",
    "    out = Dict{JuMP.VariableRef, JuMP.AffExpr}()\n",
    "\n",
    "    for (coef, var) in JuMP.linear_terms(aff)\n",
    "        if haskey(out, var)\n",
    "            out[var] += coef\n",
    "        else\n",
    "            out[var] = coef\n",
    "        end\n",
    "    end\n",
    "\n",
    "    for (coef, var1, var2) in JuMP.quad_terms(aff)\n",
    "        if haskey(out, var1)\n",
    "            out[var1] += coef * var2\n",
    "        else\n",
    "            out[var1] = coef * var2\n",
    "        end\n",
    "        if haskey(out, var2)\n",
    "            out[var2] += coef * var1\n",
    "        else\n",
    "            out[var2] = coef * var1\n",
    "        end\n",
    "    end\n",
    "\n",
    "    return out\n",
    "end"
   ]
  },
  {
   "cell_type": "code",
   "execution_count": 206,
   "metadata": {},
   "outputs": [],
   "source": [
    "function JuMP.optimize!(model::QuadraticToLinearModel)\n",
    "\n",
    "    set_silent(model.inner)\n",
    "\n",
    "    # remove previously approximated objective\n",
    "    if !isempty(model.cuts)\n",
    "        delete.(model.inner, model.cuts)\n",
    "    end\n",
    "    empty!(model.cuts)\n",
    "\n",
    "    # add epigraph variable if it does not exist\n",
    "    if isnothing(model.epigraph_variable)\n",
    "        model.epigraph_variable = @variable(model)\n",
    "        JuMP.set_objective_function(model.inner, model.epigraph_variable)\n",
    "    end\n",
    "\n",
    "    if isnothing(model.objective_function)\n",
    "        error(\"No objective function set\")\n",
    "    end\n",
    "\n",
    "    grad_data = gradient(model.objective_function)\n",
    "\n",
    "    # add initial cut\n",
    "    val = value(x->0, model.objective_function)\n",
    "    grad = Dict{JuMP.VariableRef, Float64}()\n",
    "    for (var, exp) in grad_data\n",
    "        grad[var] = value(x->0, exp)\n",
    "    end\n",
    "\n",
    "    sense = JuMP.objective_sense(model.inner)\n",
    "    if sense == MOI.MAX_SENSE\n",
    "        ctr = @constraint(model.inner,\n",
    "            model.epigraph_variable <= val + sum(coef * var for (coef, var) in grad))\n",
    "        push!(model.cuts, ctr)\n",
    "    elseif sense == MOI.MIN_SENSE\n",
    "        ctr = @constraint(model.inner,\n",
    "            model.epigraph_variable >= val + sum(coef * var for (coef, var) in grad))\n",
    "        push!(model.cuts, ctr)\n",
    "    else\n",
    "        error(\"Invalid sense $sense\")\n",
    "    end\n",
    "\n",
    "    for _ in 1:30\n",
    "        JuMP.optimize!(model.inner)\n",
    "        if !(termination_status(model.inner) in (MOI.OPTIMAL,))\n",
    "            return\n",
    "        end\n",
    "        lb = JuMP.objective_value(model.inner)\n",
    "        ub = value(model.objective_function)\n",
    "        println(\"Iteration: $(length(model.cuts)), LB: $lb, UB: $ub, Gap: $(ub - lb)\")\n",
    "        if abs(ub - lb) < 1e-3\n",
    "            return\n",
    "        end\n",
    "\n",
    "        val = value(model.objective_function)\n",
    "        grad = Dict{JuMP.VariableRef, Float64}()\n",
    "        for (var, exp) in grad_data\n",
    "            grad[var] = value(exp)\n",
    "        end\n",
    "\n",
    "        sense = JuMP.objective_sense(model.inner)\n",
    "        if sense == MOI.MAX_SENSE\n",
    "            ctr = @constraint(model.inner,\n",
    "                model.epigraph_variable <= val + sum(coef * (var - value(var)) for (var, coef) in grad))\n",
    "            push!(model.cuts, ctr)\n",
    "        elseif sense == MOI.MIN_SENSE\n",
    "            ctr = @constraint(model.inner,\n",
    "                model.epigraph_variable >= val + sum(coef * (var - value(var)) for (var, coef) in grad))\n",
    "            push!(model.cuts, ctr)\n",
    "        else\n",
    "            error(\"Invalid sense $sense\")\n",
    "        end\n",
    "    end\n",
    "\n",
    "    return\n",
    "end"
   ]
  },
  {
   "cell_type": "markdown",
   "metadata": {},
   "source": [
    "Now, we use it!"
   ]
  },
  {
   "cell_type": "code",
   "execution_count": null,
   "metadata": {},
   "outputs": [],
   "source": [
    "m = QuadraticToLinearModel(HiGHS.Optimizer)\n",
    "\n",
    "@variable(m, 0 <= x <= 100)\n",
    "\n",
    "@objective(m, Min, (x-3)^2)"
   ]
  },
  {
   "cell_type": "code",
   "execution_count": null,
   "metadata": {},
   "outputs": [],
   "source": [
    "optimize!(m)"
   ]
  },
  {
   "cell_type": "code",
   "execution_count": null,
   "metadata": {},
   "outputs": [],
   "source": [
    "objective_value(m)"
   ]
  },
  {
   "cell_type": "code",
   "execution_count": null,
   "metadata": {},
   "outputs": [],
   "source": [
    "value(x)"
   ]
  },
  {
   "cell_type": "markdown",
   "metadata": {},
   "source": [
    "---"
   ]
  },
  {
   "cell_type": "markdown",
   "metadata": {},
   "source": [
    "# Multi-objective knapsack"
   ]
  },
  {
   "cell_type": "markdown",
   "metadata": {},
   "source": [
    "The purpose of this tutorial is to demonstrate how to create and solve a\n",
    "multi-objective linear program. In addition, it demonstrates how to work with\n",
    "solvers which return multiple solutions."
   ]
  },
  {
   "cell_type": "markdown",
   "metadata": {},
   "source": [
    "## Required packages"
   ]
  },
  {
   "cell_type": "markdown",
   "metadata": {},
   "source": [
    "This tutorial requires the following packages:"
   ]
  },
  {
   "cell_type": "code",
   "execution_count": 211,
   "metadata": {},
   "outputs": [],
   "source": [
    "using JuMP\n",
    "import HiGHS\n",
    "import MultiObjectiveAlgorithms as MOA\n",
    "import Plots\n",
    "import Test"
   ]
  },
  {
   "cell_type": "markdown",
   "metadata": {},
   "source": [
    "MultiObjectiveAlgorithms.jl is a package which implements a variety of\n",
    "algorithms for solving multi-objective optimization problems. Because it is a\n",
    "long package name, we import it instead as `MOA`."
   ]
  },
  {
   "cell_type": "markdown",
   "metadata": {},
   "source": [
    "## Formulation"
   ]
  },
  {
   "cell_type": "markdown",
   "metadata": {},
   "source": [
    "The [knapsack problem](https://en.wikipedia.org/wiki/Knapsack_problem) is a\n",
    "classic problem in mixed-integer programming. Given a collection of items\n",
    "$i \\in I$, each of which has an associated weight, $w_i$, and profit,\n",
    "$p_i$, the knapsack problem determines which profit-maximizing subset of\n",
    "items to pack into a knapsack such that the total weight is less than a\n",
    "capacity $c$. The mathematical formulation is:"
   ]
  },
  {
   "cell_type": "markdown",
   "metadata": {},
   "source": [
    "$$\n",
    "\\begin{aligned}\n",
    "\\max & \\sum\\limits_{i \\in I} p_i x_i \\\\\n",
    "\\text{s.t.}\\ \\ & \\sum\\limits_{i \\in I} w_i x_i \\le c\\\\\n",
    "& x_i \\in \\{0, 1\\} && \\forall i \\in I\n",
    "\\end{aligned}\n",
    "$$\n",
    "where $x_i$ is $1$ if we pack item $i$ into the knapsack and $0$\n",
    "otherwise."
   ]
  },
  {
   "cell_type": "markdown",
   "metadata": {},
   "source": [
    "For this tutorial, we extend the single-objective knapsack problem by adding\n",
    "another objective: given a desirability rating, $r_i$, we wish to maximize\n",
    "the total desirability of the items in our knapsack. Thus, our mathematical\n",
    "formulation is now:"
   ]
  },
  {
   "cell_type": "markdown",
   "metadata": {},
   "source": [
    "$$\n",
    "\\begin{aligned}\n",
    "\\max & \\sum\\limits_{i \\in I} p_i x_i \\\\\n",
    "     & \\sum\\limits_{i \\in I} r_i x_i \\\\\n",
    "\\text{s.t.}\\ \\ & \\sum\\limits_{i \\in I} w_i x_i \\le c\\\\\n",
    "& x_i \\in \\{0, 1\\} && \\forall i \\in I\n",
    "\\end{aligned}\n",
    "$$"
   ]
  },
  {
   "cell_type": "markdown",
   "metadata": {},
   "source": [
    "## Data"
   ]
  },
  {
   "cell_type": "markdown",
   "metadata": {},
   "source": [
    "The data for this example was taken from [vOptGeneric](https://github.com/vOptSolver/vOptGeneric.jl),\n",
    "and the original author was [@xgandibleux](https://github.com/xgandibleux)."
   ]
  },
  {
   "cell_type": "code",
   "execution_count": null,
   "metadata": {},
   "outputs": [],
   "source": [
    "profit = [77, 94, 71, 63, 96, 82, 85, 75, 72, 91, 99, 63, 84, 87, 79, 94, 90]\n",
    "desire = [65, 90, 90, 77, 95, 84, 70, 94, 66, 92, 74, 97, 60, 60, 65, 97, 93]\n",
    "weight = [80, 87, 68, 72, 66, 77, 99, 85, 70, 93, 98, 72, 100, 89, 67, 86, 91]\n",
    "capacity = 900\n",
    "N = length(profit)"
   ]
  },
  {
   "cell_type": "markdown",
   "metadata": {},
   "source": [
    "Comparing the capacity to the total weight of all the items:"
   ]
  },
  {
   "cell_type": "code",
   "execution_count": null,
   "metadata": {},
   "outputs": [],
   "source": [
    "capacity / sum(weight)"
   ]
  },
  {
   "cell_type": "markdown",
   "metadata": {},
   "source": [
    "shows that we can take approximately 64% of the items."
   ]
  },
  {
   "cell_type": "markdown",
   "metadata": {},
   "source": [
    "Plotting the items, we see that there are a range of items with different\n",
    "profits and desirability. Some items have a high profit and a high\n",
    "desirability, others have a low profit and a high desirability (and vice\n",
    "versa)."
   ]
  },
  {
   "cell_type": "code",
   "execution_count": null,
   "metadata": {},
   "outputs": [],
   "source": [
    "Plots.scatter(\n",
    "    profit,\n",
    "    desire;\n",
    "    xlabel = \"Profit\",\n",
    "    ylabel = \"Desire\",\n",
    "    legend = false,\n",
    ")"
   ]
  },
  {
   "cell_type": "markdown",
   "metadata": {},
   "source": [
    "The goal of the bi-objective knapsack problem is to choose a subset which\n",
    "maximizes both objectives."
   ]
  },
  {
   "cell_type": "markdown",
   "metadata": {},
   "source": [
    "## JuMP formulation"
   ]
  },
  {
   "cell_type": "markdown",
   "metadata": {},
   "source": [
    "Our JuMP formulation is a direct translation of the mathematical formulation:"
   ]
  },
  {
   "cell_type": "code",
   "execution_count": null,
   "metadata": {},
   "outputs": [],
   "source": [
    "model = Model()\n",
    "@variable(model, x[1:N], Bin)\n",
    "@constraint(model, sum(weight[i] * x[i] for i in 1:N) <= capacity)\n",
    "@expression(model, profit_expr, sum(profit[i] * x[i] for i in 1:N))\n",
    "@expression(model, desire_expr, sum(desire[i] * x[i] for i in 1:N))\n",
    "@objective(model, Max, [profit_expr, desire_expr])"
   ]
  },
  {
   "cell_type": "markdown",
   "metadata": {},
   "source": [
    "Note how we form a multi-objective program by passing a vector of scalar\n",
    "objective functions."
   ]
  },
  {
   "cell_type": "markdown",
   "metadata": {},
   "source": [
    "## Solution"
   ]
  },
  {
   "cell_type": "markdown",
   "metadata": {},
   "source": [
    "To solve our model, we need an optimizer which supports multi-objective linear\n",
    "programs. One option is to use the MultiObjectiveAlgorithms.jl\n",
    "package."
   ]
  },
  {
   "cell_type": "code",
   "execution_count": 216,
   "metadata": {},
   "outputs": [],
   "source": [
    "set_optimizer(model, () -> MOA.Optimizer(HiGHS.Optimizer))\n",
    "set_silent(model)"
   ]
  },
  {
   "cell_type": "markdown",
   "metadata": {},
   "source": [
    "MultiObjectiveAlgorithms.jl supports many different algorithms for solving\n",
    "multiobjective optimization problems. One option is the epsilon-constraint\n",
    "method:"
   ]
  },
  {
   "cell_type": "code",
   "execution_count": 217,
   "metadata": {},
   "outputs": [],
   "source": [
    "set_attribute(model, MOA.Algorithm(), MOA.EpsilonConstraint())"
   ]
  },
  {
   "cell_type": "markdown",
   "metadata": {},
   "source": [
    "Let's solve the problem and see the solution"
   ]
  },
  {
   "cell_type": "code",
   "execution_count": null,
   "metadata": {},
   "outputs": [],
   "source": [
    "optimize!(model)\n",
    "@assert termination_status(model) == OPTIMAL\n",
    "solution_summary(model)"
   ]
  },
  {
   "cell_type": "markdown",
   "metadata": {},
   "source": [
    "There are 9 solutions available. We can also use `result_count` to see\n",
    "how many solutions are available:"
   ]
  },
  {
   "cell_type": "code",
   "execution_count": null,
   "metadata": {},
   "outputs": [],
   "source": [
    "result_count(model)"
   ]
  },
  {
   "cell_type": "markdown",
   "metadata": {},
   "source": [
    "## Accessing multiple solutions"
   ]
  },
  {
   "cell_type": "markdown",
   "metadata": {},
   "source": [
    "Access the nine different solutions in the model using the `result` keyword to\n",
    "`solution_summary`, `value`, and `objective_value`:"
   ]
  },
  {
   "cell_type": "code",
   "execution_count": null,
   "metadata": {},
   "outputs": [],
   "source": [
    "solution_summary(model; result = 5)"
   ]
  },
  {
   "cell_type": "code",
   "execution_count": 221,
   "metadata": {},
   "outputs": [],
   "source": [
    "@assert primal_status(model; result = 5) == FEASIBLE_POINT"
   ]
  },
  {
   "cell_type": "code",
   "execution_count": 222,
   "metadata": {},
   "outputs": [],
   "source": [
    "@assert is_solved_and_feasible(model; result = 5)"
   ]
  },
  {
   "cell_type": "code",
   "execution_count": null,
   "metadata": {},
   "outputs": [],
   "source": [
    "objective_value(model; result = 5)"
   ]
  },
  {
   "cell_type": "markdown",
   "metadata": {},
   "source": [
    "Note that because we set a vector of two objective functions, the objective\n",
    "value is a vector with two elements. We can also query the value of each\n",
    "objective separately:"
   ]
  },
  {
   "cell_type": "code",
   "execution_count": null,
   "metadata": {},
   "outputs": [],
   "source": [
    "value(profit_expr; result = 5)"
   ]
  },
  {
   "cell_type": "markdown",
   "metadata": {},
   "source": [
    "## Visualizing objective space"
   ]
  },
  {
   "cell_type": "markdown",
   "metadata": {},
   "source": [
    "Unlike single-objective optimization problems, multi-objective optimization\n",
    "problems do not have a single optimal solution. Instead, the solutions\n",
    "returned represent possible trade-offs that the decision maker can choose\n",
    "between the two objectives. A common way to visualize this is by plotting\n",
    "the objective values of each of the solutions:"
   ]
  },
  {
   "cell_type": "code",
   "execution_count": null,
   "metadata": {},
   "outputs": [],
   "source": [
    "plot = Plots.scatter(\n",
    "    [value(profit_expr; result = i) for i in 1:result_count(model)],\n",
    "    [value(desire_expr; result = i) for i in 1:result_count(model)];\n",
    "    xlabel = \"Profit\",\n",
    "    ylabel = \"Desire\",\n",
    "    title = \"Objective space\",\n",
    "    label = \"\",\n",
    "    xlims = (915, 960),\n",
    ")\n",
    "for i in 1:result_count(model)\n",
    "    y = objective_value(model; result = i)\n",
    "    Plots.annotate!(y[1] - 1, y[2], (i, 10))\n",
    "end\n",
    "ideal_point = objective_bound(model)\n",
    "Plots.scatter!([ideal_point[1]], [ideal_point[2]]; label = \"Ideal point\")"
   ]
  },
  {
   "cell_type": "markdown",
   "metadata": {},
   "source": [
    "Visualizing the objective space lets the decision maker choose a solution that\n",
    "suits their personal preferences. For example, result `#7` is close to the\n",
    "maximum value of profit, but offers significantly higher desirability compared\n",
    "with solutions `#8` and `#9`."
   ]
  },
  {
   "cell_type": "markdown",
   "metadata": {},
   "source": [
    "The set of items that are chosen in solution `#7` are:"
   ]
  },
  {
   "cell_type": "code",
   "execution_count": null,
   "metadata": {},
   "outputs": [],
   "source": [
    "items_chosen = [i for i in 1:N if value(x[i]; result = 7) > 0.9]"
   ]
  },
  {
   "cell_type": "markdown",
   "metadata": {},
   "source": [
    "## Next steps"
   ]
  },
  {
   "cell_type": "markdown",
   "metadata": {},
   "source": [
    "MultiObjectiveAlgorithms.jl implements a number of different\n",
    "algorithms. Try solving the same problem using `MOA.Dichotomy()`. Does it find\n",
    "the same solution?"
   ]
  },
  {
   "cell_type": "markdown",
   "metadata": {},
   "source": [
    "---"
   ]
  },
  {
   "cell_type": "markdown",
   "metadata": {},
   "source": [
    "# Stochastic optimization: two-stage newsvendor"
   ]
  },
  {
   "cell_type": "markdown",
   "metadata": {},
   "source": [
    "The purpose of this tutorial is to demonstrate how to model and solve a\n",
    "two-stage stochastic program."
   ]
  },
  {
   "cell_type": "markdown",
   "metadata": {},
   "source": [
    "It is based on the [Two stage stochastic programs](https://jump.dev/JuMP.jl/dev/tutorials/applications/two_stage_stochastic/)\n",
    "tutorial in JuMP."
   ]
  },
  {
   "cell_type": "markdown",
   "metadata": {},
   "source": [
    "This tutorial uses the following packages"
   ]
  },
  {
   "cell_type": "code",
   "execution_count": null,
   "metadata": {},
   "outputs": [],
   "source": [
    "using JuMP\n",
    "using SDDP\n",
    "import Distributions\n",
    "import ForwardDiff\n",
    "import HiGHS\n",
    "import Plots\n",
    "import StatsPlots\n",
    "import Statistics"
   ]
  },
  {
   "cell_type": "markdown",
   "metadata": {},
   "source": [
    "## Background"
   ]
  },
  {
   "cell_type": "markdown",
   "metadata": {},
   "source": [
    "The data for this problem is:"
   ]
  },
  {
   "cell_type": "code",
   "execution_count": null,
   "metadata": {},
   "outputs": [],
   "source": [
    "Dist = Distributions.TriangularDist(150.0, 250.0, 200.0)\n",
    "N = 100\n",
    "d = sort!(rand(Dist, N));\n",
    "Ω = 1:N\n",
    "P = fill(1 / N, N);\n",
    "StatsPlots.histogram(d; bins = 20, label = \"\", xlabel = \"Demand\")"
   ]
  },
  {
   "cell_type": "markdown",
   "metadata": {},
   "source": [
    "## Kelley's cutting plane algorithm"
   ]
  },
  {
   "cell_type": "markdown",
   "metadata": {},
   "source": [
    "Kelley's cutting plane algorithm is an iterative method for maximizing concave\n",
    "functions. Given a concave function $f(x)$, Kelley's constructs an\n",
    "outer-approximation of the function at the minimum by a set of first-order\n",
    "Taylor series approximations (called **cuts**) constructed at a set of points\n",
    "$k = 1,\\ldots,K$:\n",
    "$$\n",
    "\\begin{aligned}\n",
    "f^K = \\max\\limits_{\\theta \\in \\mathbb{R}, x \\in \\mathbb{R}^N} \\;\\; & \\theta\\\\\n",
    "& \\theta \\le f(x_k) + \\nabla f(x_k)^\\top (x - x_k),\\quad k=1,\\ldots,K\\\\\n",
    "& \\theta \\le M,\n",
    "\\end{aligned}\n",
    "$$\n",
    "where $M$ is a sufficiently large number that is an upper bound for $f$ over\n",
    "the domain of $x$."
   ]
  },
  {
   "cell_type": "markdown",
   "metadata": {},
   "source": [
    "Kelley's cutting plane algorithm is a structured way of choosing points $x_k$\n",
    "to visit, so that as more cuts are added:\n",
    "$$\n",
    "\\lim_{K \\rightarrow \\infty} f^K = \\max\\limits_{x \\in \\mathbb{R}^N} f(x)\n",
    "$$\n",
    "However, before we introduce the algorithm, we need to introduce some bounds."
   ]
  },
  {
   "cell_type": "markdown",
   "metadata": {},
   "source": [
    "### Bounds"
   ]
  },
  {
   "cell_type": "markdown",
   "metadata": {},
   "source": [
    "By convexity, $f(x) \\le f^K$ for all $x$. Thus, if $x^*$ is a maximizer of\n",
    "$f$, then at any point in time we can construct an upper bound for $f(x^*)$ by\n",
    "solving $f^K$."
   ]
  },
  {
   "cell_type": "markdown",
   "metadata": {},
   "source": [
    "Moreover, we can use the primal solutions $x_k^*$ returned by solving $f^k$ to\n",
    "evaluate $f(x_k^*)$ to generate a lower bound."
   ]
  },
  {
   "cell_type": "markdown",
   "metadata": {},
   "source": [
    "Therefore, $\\max\\limits_{k=1,\\ldots,K} f(x_k^*) \\le f(x^*) \\le f^K$."
   ]
  },
  {
   "cell_type": "markdown",
   "metadata": {},
   "source": [
    "When the lower bound is sufficiently close to the upper bound, we can\n",
    "terminate the algorithm and declare that we have found an solution that is\n",
    "close to optimal."
   ]
  },
  {
   "cell_type": "markdown",
   "metadata": {},
   "source": [
    "### Implementation"
   ]
  },
  {
   "cell_type": "markdown",
   "metadata": {},
   "source": [
    "Here is pseudo-code fo the Kelley algorithm:"
   ]
  },
  {
   "cell_type": "markdown",
   "metadata": {},
   "source": [
    "1. Take as input a convex function $f(x)$ and a iteration limit $K_{max}$.\n",
    "   Set $K = 1$, and initialize $f^{K-1}$. Set $lb = -\\infty$ and $ub = \\infty$.\n",
    "2. Solve $f^{K-1}$ to obtain a candidate solution $x_{K}$.\n",
    "3. Update $ub = f^{K-1}$ and $lb = \\max\\{lb, f(x_{K})\\}$.\n",
    "4. Add a cut $\\theta \\ge f(x_{K}) + \\nabla f\\left(x_{K}\\right)^\\top (x - x_{K})$ to form $f^{K}$.\n",
    "5. Increment $K$.\n",
    "6. If $K > K_{max}$ or $|ub - lb| < \\epsilon$, STOP, otherwise, go to step 2."
   ]
  },
  {
   "cell_type": "markdown",
   "metadata": {},
   "source": [
    "And here's a complete implementation:"
   ]
  },
  {
   "cell_type": "code",
   "execution_count": null,
   "metadata": {},
   "outputs": [],
   "source": [
    "function kelleys_cutting_plane(\n",
    "    # The function to be minimized.\n",
    "    f::Function,\n",
    "    # The gradient of `f`. By default, we use automatic differentiation to\n",
    "    # compute the gradient of f so the user doesn't have to!\n",
    "    ∇f::Function = x -> ForwardDiff.gradient(f, x);\n",
    "    # The number of arguments to `f`.\n",
    "    input_dimension::Int,\n",
    "    # An upper bound for the function `f` over its domain.\n",
    "    upper_bound::Float64,\n",
    "    # The number of iterations to run Kelley's algorithm for before stopping.\n",
    "    iteration_limit::Int,\n",
    "    # The absolute tolerance ϵ to use for convergence.\n",
    "    tolerance::Float64 = 1e-6,\n",
    ")\n",
    "    # Step (1):\n",
    "    K = 1\n",
    "    model = JuMP.Model(HiGHS.Optimizer)\n",
    "    JuMP.set_silent(model)\n",
    "    JuMP.@variable(model, θ <= upper_bound)\n",
    "    JuMP.@variable(model, x[1:input_dimension])\n",
    "    JuMP.@objective(model, Max, θ)\n",
    "    x_k = fill(NaN, input_dimension)\n",
    "    lower_bound, upper_bound = -Inf, Inf\n",
    "    while true\n",
    "        # Step (2):\n",
    "        JuMP.optimize!(model)\n",
    "        x_k .= JuMP.value.(x)\n",
    "        # Step (3):\n",
    "        upper_bound = JuMP.objective_value(model)\n",
    "        lower_bound = min(upper_bound, f(x_k))\n",
    "        println(\"K = $K : $(lower_bound) <= f(x*) <= $(upper_bound)\")\n",
    "        # Step (4):\n",
    "        JuMP.@constraint(model, θ <= f(x_k) + ∇f(x_k)' * (x .- x_k))\n",
    "        # Step (5):\n",
    "        K = K + 1\n",
    "        # Step (6):\n",
    "        if K > iteration_limit\n",
    "            println(\"-- Termination status: iteration limit --\")\n",
    "            break\n",
    "        elseif abs(upper_bound - lower_bound) < tolerance\n",
    "            println(\"-- Termination status: converged --\")\n",
    "            break\n",
    "        end\n",
    "    end\n",
    "    println(\"Found solution: x_K = \", x_k)\n",
    "    return\n",
    "end"
   ]
  },
  {
   "cell_type": "markdown",
   "metadata": {},
   "source": [
    "Let's run our algorithm to see what happens:"
   ]
  },
  {
   "cell_type": "code",
   "execution_count": null,
   "metadata": {},
   "outputs": [],
   "source": [
    "kelleys_cutting_plane(;\n",
    "    input_dimension = 2,\n",
    "    upper_bound = 10.0,\n",
    "    iteration_limit = 20,\n",
    ") do x\n",
    "    return -(x[1] - 1)^2 + -(x[2] + 2)^2 + 1.0\n",
    "end"
   ]
  },
  {
   "cell_type": "markdown",
   "metadata": {},
   "source": [
    "## L-Shaped theory"
   ]
  },
  {
   "cell_type": "markdown",
   "metadata": {},
   "source": [
    "The L-Shaped method is a way of solving two-stage stochastic programs by\n",
    "Benders' decomposition. It takes the problem:"
   ]
  },
  {
   "cell_type": "markdown",
   "metadata": {},
   "source": [
    "$$\n",
    "\\begin{aligned}\n",
    "V = \\max\\limits_{x,y_\\omega} \\;\\; & -2x + \\mathbb{E}_\\omega[5y_\\omega - 0.1(x - y_\\omega)] \\\\\n",
    "  & y_\\omega \\le x              & \\quad \\forall \\omega \\in \\Omega \\\\\n",
    "  & 0 \\le y_\\omega \\le d_\\omega & \\quad \\forall \\omega \\in \\Omega \\\\\n",
    "  & x \\ge 0.\n",
    "\\end{aligned}\n",
    "$$"
   ]
  },
  {
   "cell_type": "markdown",
   "metadata": {},
   "source": [
    "and decomposes it into a second-stage problem:"
   ]
  },
  {
   "cell_type": "markdown",
   "metadata": {},
   "source": [
    "$$\n",
    "\\begin{aligned}\n",
    "V_2(\\bar{x}, d_\\omega) = \\max\\limits_{x,x^\\prime,y_\\omega} \\;\\; & 5y_\\omega - x^\\prime \\\\\n",
    "  & y_\\omega \\le x \\\\\n",
    "  & x^\\prime = x - y_\\omega \\\\\n",
    "  & 0 \\le y_\\omega \\le d_\\omega \\\\\n",
    "  & x = \\bar{x} & [\\lambda]\n",
    "\\end{aligned}\n",
    "$$"
   ]
  },
  {
   "cell_type": "markdown",
   "metadata": {},
   "source": [
    "and a first-stage problem:"
   ]
  },
  {
   "cell_type": "markdown",
   "metadata": {},
   "source": [
    "$$\n",
    "\\begin{aligned}\n",
    "V = \\max\\limits_{x,\\theta} \\;\\; & -2x + \\theta \\\\\n",
    "  & \\theta \\le \\mathbb{E}_\\omega[V_2(x, \\omega)] \\\\\n",
    "  & x \\ge 0\n",
    "\\end{aligned}\n",
    "$$"
   ]
  },
  {
   "cell_type": "markdown",
   "metadata": {},
   "source": [
    "Then, because $V_2$ is convex with respect to $\\bar{x}$ for fixed $\\omega$,\n",
    "we can use a set of feasible points $\\{x^k\\}$ construct an outer approximation:\n",
    "$$\n",
    "\\begin{aligned}\n",
    "V^K = \\max\\limits_{x,\\theta} \\;\\; & -2x + \\theta \\\\\n",
    "  & \\theta \\le \\mathbb{E}_\\omega[V_2(x^k, \\omega) + \\nabla V_2(x^k, \\omega)^\\top(x - x^k)] & \\quad k = 1,\\ldots,K\\\\\n",
    "  & x \\ge 0 \\\\\n",
    "  & \\theta \\le M\n",
    "\\end{aligned}\n",
    "$$\n",
    "where $M$ is an upper bound on possible values of $V_2$ so that the problem\n",
    "has a bounded solution."
   ]
  },
  {
   "cell_type": "markdown",
   "metadata": {},
   "source": [
    "It is also useful to see that because $\\bar{x}$ appears only on the right-hand\n",
    "side of a linear program, $\\nabla V_2(x^k, \\omega) = \\lambda^k$."
   ]
  },
  {
   "cell_type": "markdown",
   "metadata": {},
   "source": [
    "Ignoring how we choose $x^k$ for now, we can construct a lower and upper bound\n",
    "on the optimal solution:"
   ]
  },
  {
   "cell_type": "markdown",
   "metadata": {},
   "source": [
    "$$-2x^K + \\mathbb{E}_\\omega[V_2(x^K, \\omega)] = \\underline{V} \\le V \\le \\overline{V} = V^K$$"
   ]
  },
  {
   "cell_type": "markdown",
   "metadata": {},
   "source": [
    "Thus, we need some way of cleverly choosing a sequence of $x^k$ so that the\n",
    "lower bound converges to the upper bound."
   ]
  },
  {
   "cell_type": "markdown",
   "metadata": {},
   "source": [
    "1. Start with $K=1$\n",
    "2. Solve $V^{K-1}$ to get $x^K$\n",
    "3. Set $\\overline{V} = V^k$\n",
    "4. Solve $V_2(x^K, \\omega)$ for all $\\omega$ and store the optimal objective\n",
    "   value and dual solution $\\lambda^K$\n",
    "5. Set $\\underline{V} = -2x^K + \\mathbb{E}_\\omega[V_2(x^k, \\omega)]$\n",
    "6. If $\\underline{V} \\approx \\overline{V}$, STOP\n",
    "7. Add new constraint $\\theta \\le \\mathbb{E}_\\omega[V_2(x^K, \\omega) +\\lambda^K (x - x^K)]$\n",
    "8. Increment $K$, GOTO 2"
   ]
  },
  {
   "cell_type": "markdown",
   "metadata": {},
   "source": [
    "The next section implements this algorithm in Julia."
   ]
  },
  {
   "cell_type": "markdown",
   "metadata": {},
   "source": [
    "## L-Shaped implementation"
   ]
  },
  {
   "cell_type": "markdown",
   "metadata": {},
   "source": [
    "Here's a function to compute the second-stage problem;"
   ]
  },
  {
   "cell_type": "code",
   "execution_count": null,
   "metadata": {},
   "outputs": [],
   "source": [
    "function solve_second_stage(x̅, d_ω)\n",
    "    model = Model(HiGHS.Optimizer)\n",
    "    set_silent(model)\n",
    "    @variable(model, x_in)\n",
    "    @variable(model, x_out >= 0)\n",
    "    fix(x_in, x̅)\n",
    "    @variable(model, 0 <= u_sell <= d_ω)\n",
    "    @constraint(model, x_out == x_in - u_sell)\n",
    "    @constraint(model, u_sell <= x_in)\n",
    "    @objective(model, Max, 5 * u_sell - 0.1 * x_out)\n",
    "    optimize!(model)\n",
    "    return (\n",
    "        V = objective_value(model),\n",
    "        λ = reduced_cost(x_in),\n",
    "        x = value(x_out),\n",
    "        u = value(u_sell),\n",
    "    )\n",
    "end\n",
    "\n",
    "solve_second_stage(200, 170)"
   ]
  },
  {
   "cell_type": "markdown",
   "metadata": {},
   "source": [
    "Here's the first-stage subproblem:"
   ]
  },
  {
   "cell_type": "code",
   "execution_count": null,
   "metadata": {},
   "outputs": [],
   "source": [
    "model = Model(HiGHS.Optimizer)\n",
    "set_silent(model)\n",
    "@variable(model, x_in == 0)\n",
    "@variable(model, x_out >= 0)\n",
    "@variable(model, u_make >= 0)\n",
    "@constraint(model, x_out == x_in + u_make)\n",
    "M = 5 * maximum(d)\n",
    "@variable(model, θ <= M)\n",
    "@objective(model, Max, -2 * u_make + θ)"
   ]
  },
  {
   "cell_type": "markdown",
   "metadata": {},
   "source": [
    "Importantly, to ensure we have a bounded solution, we need to add an upper\n",
    "bound to the variable `θ`."
   ]
  },
  {
   "cell_type": "code",
   "execution_count": null,
   "metadata": {},
   "outputs": [],
   "source": [
    "kIterationLimit = 100\n",
    "for k in 1:kIterationLimit\n",
    "    println(\"Solving iteration k = $k\")\n",
    "    # Step 2\n",
    "    optimize!(model)\n",
    "    xᵏ = value(x_out)\n",
    "    println(\"  xᵏ = $xᵏ\")\n",
    "    # Step 3\n",
    "    ub = objective_value(model)\n",
    "    println(\"  V̅ = $ub\")\n",
    "    # Step 4\n",
    "    ret = [solve_second_stage(xᵏ, d[ω]) for ω in Ω]\n",
    "    # Step 5\n",
    "    lb = value(-2 * u_make) + sum(p * r.V for (p, r) in zip(P, ret))\n",
    "    println(\"  V̲ = $lb\")\n",
    "    # Step 6\n",
    "    if ub - lb < 1e-6\n",
    "        println(\"Terminating with near-optimal solution\")\n",
    "        break\n",
    "    end\n",
    "    # Step 7\n",
    "    c = @constraint(\n",
    "        model,\n",
    "        θ <= sum(p * (r.V + r.λ * (x_out - xᵏ)) for (p, r) in zip(P, ret)),\n",
    "    )\n",
    "    println(\"  Added cut: $c\")\n",
    "end"
   ]
  },
  {
   "cell_type": "markdown",
   "metadata": {},
   "source": [
    "To get the first-stage solution, we do:"
   ]
  },
  {
   "cell_type": "code",
   "execution_count": null,
   "metadata": {},
   "outputs": [],
   "source": [
    "optimize!(model)\n",
    "xᵏ = value(x_out)"
   ]
  },
  {
   "cell_type": "markdown",
   "metadata": {},
   "source": [
    "To compute a second-stage solution, we do:"
   ]
  },
  {
   "cell_type": "code",
   "execution_count": null,
   "metadata": {},
   "outputs": [],
   "source": [
    "solve_second_stage(xᵏ, 170.0)"
   ]
  },
  {
   "cell_type": "markdown",
   "metadata": {},
   "source": [
    "## Policy Graph"
   ]
  },
  {
   "cell_type": "markdown",
   "metadata": {},
   "source": [
    "Now let's see how we can formulate and train a policy for the two-stage\n",
    "newsvendor problem using `SDDP.jl`. Under the hood, `SDDP.jl` implements the\n",
    "exact algorithm that we just wrote by hand."
   ]
  },
  {
   "cell_type": "code",
   "execution_count": null,
   "metadata": {},
   "outputs": [],
   "source": [
    "model = SDDP.LinearPolicyGraph(;\n",
    "    stages = 2,\n",
    "    sense = :Max,\n",
    "    upper_bound = 5 * maximum(d),  # The `M` in θ <= M\n",
    "    optimizer = HiGHS.Optimizer,\n",
    ") do subproblem::JuMP.Model, stage::Int\n",
    "    @variable(subproblem, x >= 0, SDDP.State, initial_value = 0)\n",
    "    if stage == 1\n",
    "        @variable(subproblem, u_make >= 0)\n",
    "        @constraint(subproblem, x.out == x.in + u_make)\n",
    "        @stageobjective(subproblem, -2 * u_make)\n",
    "    else\n",
    "        @variable(subproblem, u_sell >= 0)\n",
    "        @constraint(subproblem, u_sell <= x.in)\n",
    "        @constraint(subproblem, x.out == x.in - u_sell)\n",
    "        SDDP.parameterize(subproblem, d, P) do ω\n",
    "            set_upper_bound(u_sell, ω)\n",
    "            return\n",
    "        end\n",
    "        @stageobjective(subproblem, 5 * u_sell - 0.1 * x.out)\n",
    "    end\n",
    "    return\n",
    "end\n",
    "\n",
    "SDDP.train(model; log_every_iteration = true)"
   ]
  },
  {
   "cell_type": "markdown",
   "metadata": {},
   "source": [
    "One way to query the optimal policy is with `SDDP.DecisionRule`:"
   ]
  },
  {
   "cell_type": "code",
   "execution_count": null,
   "metadata": {},
   "outputs": [],
   "source": [
    "first_stage_rule = SDDP.DecisionRule(model; node = 1)"
   ]
  },
  {
   "cell_type": "code",
   "execution_count": null,
   "metadata": {},
   "outputs": [],
   "source": [
    "solution_1 = SDDP.evaluate(first_stage_rule; incoming_state = Dict(:x => 0.0))"
   ]
  },
  {
   "cell_type": "markdown",
   "metadata": {},
   "source": [
    "Here's the second stage:"
   ]
  },
  {
   "cell_type": "code",
   "execution_count": null,
   "metadata": {},
   "outputs": [],
   "source": [
    "second_stage_rule = SDDP.DecisionRule(model; node = 2)\n",
    "solution = SDDP.evaluate(\n",
    "    second_stage_rule;\n",
    "    incoming_state = Dict(:x => solution_1.outgoing_state[:x]),\n",
    "    noise = 170.0,  # A value of d[ω], can be out-of-sample.\n",
    "    controls_to_record = [:u_sell],\n",
    ")"
   ]
  },
  {
   "cell_type": "markdown",
   "metadata": {},
   "source": [
    "## Simulation"
   ]
  },
  {
   "cell_type": "markdown",
   "metadata": {},
   "source": [
    "Querying the decision rules is tedious. It's often more useful to simulate the\n",
    "policy:"
   ]
  },
  {
   "cell_type": "code",
   "execution_count": 240,
   "metadata": {},
   "outputs": [],
   "source": [
    "simulations = SDDP.simulate(\n",
    "    model,\n",
    "    10,  #= number of replications =#\n",
    "    [:x, :u_sell, :u_make];  #= variables to record =#\n",
    "    skip_undefined_variables = true,\n",
    ");"
   ]
  },
  {
   "cell_type": "markdown",
   "metadata": {},
   "source": [
    "`simulations` is a vector with 10 elements"
   ]
  },
  {
   "cell_type": "code",
   "execution_count": null,
   "metadata": {},
   "outputs": [],
   "source": [
    "length(simulations)"
   ]
  },
  {
   "cell_type": "markdown",
   "metadata": {},
   "source": [
    "and each element is a vector with two elements (one for each stage)"
   ]
  },
  {
   "cell_type": "code",
   "execution_count": null,
   "metadata": {},
   "outputs": [],
   "source": [
    "length(simulations[1])"
   ]
  },
  {
   "cell_type": "markdown",
   "metadata": {},
   "source": [
    "The first stage contains:"
   ]
  },
  {
   "cell_type": "code",
   "execution_count": null,
   "metadata": {},
   "outputs": [],
   "source": [
    "simulations[1][1]"
   ]
  },
  {
   "cell_type": "markdown",
   "metadata": {},
   "source": [
    "The second stage contains:"
   ]
  },
  {
   "cell_type": "code",
   "execution_count": null,
   "metadata": {},
   "outputs": [],
   "source": [
    "simulations[1][2]"
   ]
  },
  {
   "cell_type": "markdown",
   "metadata": {},
   "source": [
    "We can compute aggregated statistics across the simulations:"
   ]
  },
  {
   "cell_type": "code",
   "execution_count": null,
   "metadata": {},
   "outputs": [],
   "source": [
    "objectives = map(simulations) do simulation\n",
    "    return sum(data[:stage_objective] for data in simulation)\n",
    "end\n",
    "μ, t = SDDP.confidence_interval(objectives)\n",
    "println(\"Simulation ci : $μ ± $t\")"
   ]
  },
  {
   "cell_type": "markdown",
   "metadata": {},
   "source": [
    "## Things to try"
   ]
  },
  {
   "cell_type": "markdown",
   "metadata": {},
   "source": [
    "There are a number of things you can try next:"
   ]
  },
  {
   "cell_type": "markdown",
   "metadata": {},
   "source": [
    " * Experiment with different buy and sales prices\n",
    " * Experiment with different distributions of demand\n",
    " * Explore how the optimal policy changes if you use a different risk measure\n",
    " * What happens if you can only buy and sell integer numbers of newspapers?\n",
    "   Try this by adding `Int` to the variable definitions:\n",
    "   `@variable(subproblem, buy >= 0, Int)`\n",
    " * What happens if you use a different upper bound? Try an invalid one like\n",
    "   `-100`, and a very large one like `1e12`."
   ]
  },
  {
   "cell_type": "markdown",
   "metadata": {},
   "source": [
    "---"
   ]
  },
  {
   "cell_type": "markdown",
   "metadata": {},
   "source": [
    "# SDDP.jl - Multi stage stochastic optimization\n",
    "\n",
    "## Applied to energy planning\n",
    "\n",
    "## an application in the Brazilian system"
   ]
  },
  {
   "cell_type": "markdown",
   "metadata": {},
   "source": [
    "The power system data"
   ]
  },
  {
   "cell_type": "markdown",
   "metadata": {},
   "source": [
    "Thermal plant data"
   ]
  },
  {
   "cell_type": "code",
   "execution_count": 246,
   "metadata": {},
   "outputs": [],
   "source": [
    "thermal_ub = Array{Float64, 2}[\n",
    "    [657 1350 36 250 250 28 529 44 255 235 386 386 145 226 131 87 204 923 923 400 100 200 169 386 28 200 272 30 168 440 400 258 258 258 64 340 1058 1058 10 197 175 206 54],\n",
    "    [66 485 485 350 161 72 4 20 100 132 262 363 24 126 320 20 640],\n",
    "    [13 11 32 11 347 152 150 13 15 220 220 13 15 138 347 149 149 15 102 15 168 13 13 103 136 53 66 186 50 156 171 533 323],\n",
    "    [166 166]\n",
    "]\n",
    "thermal_lb = Array{Float64,2}[\n",
    "    [520.0  1080.0  0.0  59.3  27.1  0.0  0.0  0.0  219.78  199.99  0.0  0.0  0.0  0.0  0.0  0.0  0.0  0.0  0.0  399.99  0.0  0.0  0.0  0.0  0.0  0.0  0.0  0.0  0.0  0.0  0.0  0.0  0.0  0.0  0.0  0.0  71.7  28.8  0.0  132.98  0.0  0.0  0.0],\n",
    "    [0.0 0.0 0.0 210.0 0.0 27.0 0.0 9.56 25.0 79.46 147.54 228.02 0.0 49.66 105.0 5.0 0.0],\n",
    "    [0.0 0.0 0.0 0.0 0.7 0.0 0.0 0.0 0.0 0.0 0.0 0.0 0.0 0.0 223.0 0.0 0.0 0.0 0.0 0.0 0.0 0.0 0.0 0.0 0.0 0.0 0.0 0.0 0.0 0.0 0.0 348.8 0.0],\n",
    "    [0 0]\n",
    "]\n",
    "thermal_obj = Array{Float64, 2}[\n",
    "    [21.49 18.96 937.0 194.79 222.22 140.58 6.27 505.92 0.01 112.46 159.97 250.87 550.66 188.89 645.3 150.0 145.68 274.54 253.83 37.8 51.93 90.69 131.68 317.98 152.8 470.34 317.98 523.35 730.54 310.41 730.54 101.33 140.34 292.49 610.33 487.56 122.65 214.48 1047.38 0.01 329.57 197.85 733.54],\n",
    "    [564.57 219.0 219.0 50.47 541.93 154.1 180.51 218.77 189.54 143.04 142.86 116.9 780.0 115.9 115.9 248.31 141.18],\n",
    "    [464.64 464.64 455.13 464.64 834.35 509.86 509.86 464.64 464.64 185.09 492.29 464.64 464.64 188.15 82.34 329.37 329.37 464.64 464.64 464.64 317.19 464.64 464.64 678.03 559.39 611.57 611.56 204.43 325.67 678.03 329.2 70.16 287.83],\n",
    "    [329.56 329.56]\n",
    "]\n",
    "N_THERMAL = [43, 17, 33, 2];"
   ]
  },
  {
   "cell_type": "markdown",
   "metadata": {},
   "source": [
    "Demand data"
   ]
  },
  {
   "cell_type": "code",
   "execution_count": null,
   "metadata": {},
   "outputs": [],
   "source": [
    "deficit_obj = [1142.8, 2465.4, 5152.46, 5845.54]\n",
    "deficit_ub = [0.05, 0.05, 0.1, 0.8]\n",
    "demand =  Array{Float64, 2}[\n",
    "    [45515  11692  10811  6507],\n",
    "    [46611  11933  10683  6564],\n",
    "    [47134  12005  10727  6506],\n",
    "    [46429  11478  10589  6556],\n",
    "    [45622  11145  10389  6645],\n",
    "    [45366  11146  10129  6669],\n",
    "    [45477  11055  10157  6627],\n",
    "    [46149  11051  10372  6772],\n",
    "    [46336  10917  10675  6843],\n",
    "    [46551  11015  10934  6815],\n",
    "    [46035  11156  11004  6871],\n",
    "    [45234  11297  10914  6701]\n",
    "]"
   ]
  },
  {
   "cell_type": "markdown",
   "metadata": {},
   "source": [
    "Interconnection data"
   ]
  },
  {
   "cell_type": "code",
   "execution_count": null,
   "metadata": {},
   "outputs": [],
   "source": [
    "exchange_ub =  Array{Float64, 2}[\n",
    "    [0\t7379\t1000\t0\t4000],\n",
    "    [5625\t0\t0\t0\t0],\n",
    "    [600\t0\t0\t0\t2236],\n",
    "    [0\t0\t0\t0\t99999],\n",
    "    [3154\t0\t3951\t3053\t0]\n",
    "]"
   ]
  },
  {
   "cell_type": "markdown",
   "metadata": {},
   "source": [
    "Hydro plant data"
   ]
  },
  {
   "cell_type": "code",
   "execution_count": 249,
   "metadata": {},
   "outputs": [],
   "source": [
    "hydro_ub = [45414.3, 13081.5, 9900.9, 7629.9]\n",
    "storedEnergy_initial = [59419.3000, 5874.9000, 12859.2000, 5271.5000]\n",
    "storedEnergy_ub = [200717.6, 19617.2, 51806.1, 12744.9]\n",
    "inflow_initial = [39717.564, 6632.5141, 15897.183, 2525.938]\n",
    "scenarios =[\n",
    "    [[56896.8, 56451.95, 65408.16, 46580.39, 54645.97, 36916.81, 63301.09, 53645.87, 57959.52, 54200.71, 48448.49, 45010.7, 81105.82, 35019.44, 41229.43, 80514.3, 51163.61, 53329.75, 50702.92, 42240.62, 55109.13, 33675.91, 25129.81, 29190.4, 36301.34, 37791.77, 58268.57, 39743.58, 62565.51, 49713.71, 72890.69, 45726.42, 66364.28, 37928.66, 62789.08, 73042.18, 66665.7, 52993.58, 31559.83, 56002.39, 30617.05, 40899.73, 54433.46, 62568.66, 51341.31, 40927.71, 73413.29, 69900.43, 66850.87, 76182.63, 72077.01, 84213.88, 64555.38, 72950.98, 53957.75, 53046.27, 47082.36, 58093.71, 80492.3, 47948.51, 60261.41, 47993.66, 64712.19, 52583.97, 55161.47, 92429.3, 43304.33, 58739.64, 55468.74, 40817.11, 63727.25, 60146.67, 47266.3, 67074.83, 46916.31, 95400.9, 38313.51, 54999.69, 71369.67, 76664.21, 73633.5, 46999.32], [86488.31, 61922.34, 51128.33, 37113.35, 72711.15, 29950.27, 43981.97, 45561.95, 57663.45, 75154.55, 38353.62, 51036.28, 73890.02, 47726.22, 71175.26, 62788.22, 61001.38, 57412.95, 72857.05, 65235.58, 67209.56, 50100.68, 26092.14, 44292.32, 27535.59, 25749.92, 62387.31, 57549.88, 50654.11, 59386.44, 77049.72, 60836.23, 59055.5, 61202.37, 78078.5, 78991.29, 71465.94, 47197.58, 37602.63, 57691.13, 20504.58, 58197.41, 54655.96, 45842.69, 48096.68, 47690.98, 71610.48, 47429.75, 89520.11, 92447.91, 47928.35, 71909.26, 47626.61, 70620.4, 50034.14, 59045.22, 57525.75, 61449.32, 41790.65, 65572.44, 86433.67, 68600.8, 51672.08, 83801.3, 41190.08, 73474.32, 53990.6, 50665.03, 67756.3, 40550.35, 70939.21, 61771.53, 71467.42, 59049.86, 49152.53, 91724.84, 63801.6, 66431.93, 59988.07, 50373.33, 49701.05, 56717.86], [88646.94, 50742.1, 40424.25, 35392.72, 61323.17, 53709.93, 39542.99, 40185.12, 34083.82, 68610.98, 35718.51, 62628.01, 69692.0, 51495.85, 62809.69, 70220.74, 93477.21, 59883.76, 53172.92, 56491.72, 65725.0, 77701.54, 32542.38, 29444.29, 29070.61, 37872.92, 63481.8, 47988.85, 52728.54, 63441.32, 78376.69, 60248.39, 41110.96, 37183.08, 83982.68, 72883.91, 61051.15, 52788.25, 33315.79, 58386.71, 25463.7, 52687.47, 48144.5, 63161.07, 36378.46, 48314.32, 39789.9, 54422.3, 57184.51, 62386.9, 43430.01, 85259.92, 39652.55, 71335.51, 47263.74, 47293.6, 62981.06, 54515.96, 43462.15, 68127.72, 55948.83, 56153.76, 61042.16, 52448.52, 54230.46, 57821.91, 55790.78, 59436.74, 62295.26, 38312.37, 49257.88, 48780.76, 62710.63, 57188.43, 59325.77, 51971.26, 64294.7, 47939.56, 54351.96, 86775.98, 37212.98, 49482.34], [64581.71, 35954.27, 34627.46, 27179.93, 54644.39, 37115.42, 35188.12, 30857.44, 28957.8, 38145.67, 33851.76, 45004.41, 41888.5, 32537.77, 61618.73, 45492.33, 57661.37, 40768.91, 36675.8, 39891.03, 46600.38, 41833.13, 35331.16, 24828.12, 28963.44, 26392.81, 57277.26, 40083.16, 39037.46, 40510.26, 49649.42, 35895.16, 28420.51, 27653.31, 52072.86, 47120.75, 42126.42, 31221.08, 23267.58, 33811.21, 21492.44, 37357.77, 49257.71, 56164.65, 34749.3, 38150.11, 44706.32, 35701.34, 40448.63, 52746.17, 40067.9, 62428.88, 42785.49, 52326.19, 32913.93, 41161.01, 44123.86, 36565.93, 35065.17, 68823.2, 50669.57, 47121.6, 43602.65, 47373.13, 36659.8, 45289.32, 45618.72, 34198.26, 38268.72, 28944.83, 31516.06, 42862.66, 48390.75, 37943.12, 50501.94, 35807.24, 52671.46, 49262.74, 46138.46, 55543.29, 32317.51, 51632.89], [43078.74, 27000.91, 24456.72, 19080.88, 34731.77, 24512.01, 27671.57, 25654.34, 24788.09, 29380.5, 18923.09, 30031.07, 26936.13, 22540.12, 34858.01, 30581.26, 34635.02, 24931.13, 27008.57, 27616.21, 28566.65, 25574.69, 21342.69, 30732.45, 17083.18, 29745.45, 34161.48, 32373.28, 25060.83, 30213.42, 39757.11, 26435.75, 20601.37, 21707.83, 45436.42, 34622.49, 28792.77, 22897.49, 17471.04, 24573.34, 18395.36, 23937.22, 31238.07, 34468.55, 23514.07, 29321.19, 29379.36, 28537.54, 34587.4, 35207.58, 27619.03, 39712.36, 35169.64, 37162.41, 31130.86, 39983.01, 35946.54, 28366.52, 29951.98, 40186.78, 50571.36, 32563.19, 32207.74, 34805.16, 26620.61, 32791.29, 35023.07, 26037.19, 25014.17, 22937.9, 28856.74, 27047.64, 37864.66, 31422.07, 29368.14, 29439.74, 36583.08, 31676.46, 29744.25, 34050.76, 30086.86, 29348.76], [32150.18, 25285.24, 19099.7, 14173.57, 26184.86, 17752.6, 23148.61, 20780.68, 20168.94, 21178.59, 16560.55, 29365.82, 23855.04, 17234.34, 26267.7, 26141.76, 26250.48, 22090.39, 21541.84, 20595.83, 23051.97, 22945.63, 17305.82, 23164.67, 18172.0, 32394.56, 25360.63, 28995.24, 20275.84, 24027.02, 27505.81, 22703.44, 17584.25, 16834.37, 30722.54, 25847.39, 26649.2, 18519.69, 18348.12, 20415.98, 19592.53, 19778.88, 25505.35, 29621.4, 18642.25, 33204.9, 25960.33, 27167.15, 26294.99, 28241.02, 25324.0, 39552.75, 24145.72, 28054.54, 22726.21, 34494.79, 32289.77, 23823.56, 23255.09, 29651.66, 34628.41, 31515.82, 28821.56, 25045.89, 21037.21, 39653.57, 26762.9, 24243.85, 21432.57, 20539.73, 20990.06, 22862.46, 33766.52, 28192.96, 23389.44, 24328.4, 28371.8, 25816.19, 23648.83, 28276.29, 38658.88, 38515.33], [25738.04, 19913.2, 16790.67, 11860.9, 19927.38, 14706.5, 16354.45, 18619.35, 16549.77, 16631.69, 15759.09, 23062.33, 18597.07, 14480.2, 24962.54, 26915.97, 22787.45, 17159.91, 17111.7, 17576.81, 19086.23, 17400.83, 13620.22, 15434.43, 15196.4, 21098.2, 28206.5, 22466.48, 16221.58, 20073.41, 21229.3, 17647.23, 14939.49, 15664.9, 27837.17, 21366.45, 21327.28, 15599.11, 13938.13, 19611.86, 17830.94, 21998.19, 23299.17, 23916.43, 18258.67, 26281.64, 20098.85, 24116.7, 22630.54, 26739.58, 19458.87, 38487.54, 20195.47, 23486.83, 19228.76, 24159.73, 21535.23, 21521.31, 24639.11, 24871.76, 26304.24, 23268.23, 24487.15, 23871.07, 18284.17, 28291.17, 20945.59, 22369.94, 19811.22, 17389.8, 18273.11, 19522.99, 27882.67, 21450.9, 20552.6, 23607.35, 21404.13, 28296.36, 20808.6, 24527.67, 26593.14, 31033.18], [20606.05, 16801.72, 14192.07, 9904.96, 19833.32, 13891.48, 13870.17, 16287.23, 13383.61, 13732.02, 15122.03, 16335.75, 15380.33, 12027.54, 16431.03, 18109.8, 19971.19, 16989.68, 14138.87, 13614.16, 15974.7, 14098.04, 11590.2, 11597.36, 11400.63, 23751.08, 25079.71, 16940.29, 15396.49, 17698.38, 17329.15, 15414.73, 13043.51, 13406.36, 21583.89, 17619.21, 16981.52, 15169.28, 11339.97, 14285.46, 13204.94, 19390.34, 18399.97, 18752.41, 14739.07, 25994.83, 15773.26, 18723.76, 21783.59, 21137.32, 17354.26, 26962.54, 20638.69, 19665.77, 22455.74, 18405.64, 17890.93, 25762.9, 22246.87, 19802.24, 22481.12, 20835.04, 19030.91, 16927.84, 16072.49, 21382.07, 22745.14, 15799.05, 18981.85, 14811.25, 16522.04, 15604.83, 19421.44, 17115.78, 17471.55, 19105.94, 22977.11, 24641.57, 16121.9, 24298.46, 17342.35, 19248.41], [22772.16, 15034.4, 13741.74, 11835.56, 18289.43, 17056.12, 12040.76, 14448.98, 12275.62, 12255.37, 17561.96, 16624.51, 14661.5, 10510.08, 14125.62, 14929.4, 24107.77, 13659.7, 12283.03, 11761.84, 13469.6, 14120.36, 12719.73, 10034.25, 11259.79, 16559.39, 31762.07, 20615.73, 12660.14, 13992.03, 15396.42, 16368.64, 11565.03, 10941.74, 17168.12, 17513.5, 16020.86, 13917.48, 9500.66, 19390.18, 12671.12, 18785.94, 18905.01, 16947.82, 12242.09, 29837.37, 18936.32, 19703.51, 27774.12, 22748.74, 14303.81, 22450.11, 22886.6, 18904.29, 17416.04, 18858.4, 15528.36, 26579.42, 26121.59, 17212.57, 28153.06, 23376.16, 15224.49, 15583.27, 21217.4, 20427.43, 23452.75, 16741.52, 30198.36, 15672.8, 17535.92, 15052.75, 15273.23, 19793.78, 18612.71, 13365.51, 16452.14, 32081.91, 13964.53, 16749.78, 14773.73, 17116.17], [23767.55, 22347.14, 17339.43, 12925.78, 34902.46, 14124.93, 21610.55, 18611.16, 13874.47, 14368.61, 21513.16, 18401.39, 23147.1, 11673.81, 17407.93, 19596.07, 25084.21, 15580.89, 14990.72, 17952.25, 15543.08, 16393.5, 18436.23, 11431.06, 11965.3, 14726.15, 22453.76, 21456.65, 14941.06, 16395.21, 14685.41, 25111.82, 13330.21, 17590.17, 30383.6, 23226.29, 15479.99, 17075.9, 18972.43, 21841.24, 18849.04, 42223.31, 26037.88, 20118.15, 22821.5, 30995.92, 18894.75, 18612.61, 25497.0, 21882.33, 26321.83, 32933.12, 21215.67, 18142.29, 15945.98, 21042.48, 20583.84, 20560.02, 26845.0, 26617.84, 34139.15, 29715.86, 16112.45, 25927.78, 22152.14, 25137.8, 33871.69, 13858.76, 18798.82, 22151.35, 13284.47, 15851.55, 21942.79, 23406.24, 26217.27, 13559.07, 21131.23, 37332.1, 22115.41, 25199.08, 15185.71, 24053.0], [25831.89, 25004.76, 18503.66, 13594.84, 26176.69, 18411.58, 35511.48, 22441.18, 24967.68, 29859.02, 27124.93, 25773.5, 31708.34, 21600.95, 29777.43, 22391.65, 24543.99, 22869.29, 21100.25, 30429.5, 16296.95, 24523.57, 22523.1, 15501.59, 18872.23, 22472.39, 28037.37, 24399.38, 22887.14, 26654.33, 22534.09, 26281.36, 20988.75, 24865.56, 34692.72, 35360.85, 27010.2, 20988.36, 38522.5, 24500.92, 25310.61, 43420.75, 35193.52, 21707.73, 31387.95, 40779.06, 28225.77, 30537.62, 33284.42, 27321.85, 47896.08, 38532.69, 22792.1, 24029.92, 17271.2, 29198.04, 26072.51, 27553.75, 24614.4, 22967.04, 46357.71, 21313.7, 23953.59, 25345.95, 36517.51, 33685.87, 28944.96, 20108.6, 29306.63, 26133.38, 22837.29, 21655.14, 26349.73, 29076.36, 29204.23, 23931.0, 26396.78, 37931.62, 29379.11, 27410.53, 23276.7, 22846.94], [38566.5, 48755.6, 36070.84, 33700.23, 32033.65, 34416.72, 53788.68, 40579.16, 37058.66, 34210.67, 40816.63, 41600.78, 39227.88, 27408.38, 59081.29, 28648.63, 44644.33, 48005.17, 34140.7, 43351.87, 25642.92, 28734.88, 33971.28, 23822.86, 35724.0, 44481.07, 41970.5, 30205.39, 27119.48, 42229.06, 26492.55, 52567.64, 16616.9, 38767.96, 53610.53, 42361.49, 41348.52, 38279.56, 39293.9, 24936.41, 45488.06, 47985.13, 44074.47, 36129.72, 44509.73, 59740.8, 50561.77, 46501.2, 43322.51, 53996.58, 63642.28, 60795.26, 44335.09, 32110.3, 41561.28, 48844.35, 32901.12, 63065.14, 25343.75, 35462.89, 54242.97, 35365.63, 36427.0, 34081.72, 46049.51, 50920.23, 39745.84, 31191.19, 45301.54, 40578.93, 35212.74, 33943.97, 40568.42, 56921.92, 56973.22, 30130.6, 38489.84, 62539.4, 44712.54, 44675.39, 27895.03, 40031.75]],\n",
    "    [[7409.65, 5285.8, 3001.83, 4138.99, 3066.59, 10383.66, 5287.43, 8187.34, 3943.3, 10381.68, 6545.04, 4552.72, 2079.84, 6164.98, 1251.1, 8897.66, 6681.96, 5057.3, 2765.38, 5640.01, 6542.95, 3614.85, 5157.45, 9775.0, 3532.37, 7963.4, 4487.86, 4568.18, 5754.32, 2392.87, 5033.56, 4662.57, 5379.87, 3421.47, 3443.25, 10618.72, 7738.41, 4293.84, 9312.11, 5193.9, 21746.41, 4706.82, 10653.16, 8235.54, 6049.5, 12573.63, 10453.06, 4559.98, 3345.05, 7615.64, 13613.82, 4352.26, 6707.33, 3669.72, 2201.57, 10074.15, 4184.64, 10019.61, 17804.81, 3565.4, 5879.48, 5832.71, 4577.42, 25365.49, 12539.04, 10514.99, 15729.86, 5633.35, 5183.68, 13152.25, 7376.78, 7860.47, 8996.77, 5580.37, 4540.66, 6978.33, 7455.89, 5698.04, 16393.73, 12394.23, 6995.32, 9082.73], [3310.83, 8062.89, 3654.84, 9033.31, 2362.85, 3898.48, 4513.4, 13477.36, 4740.13, 7285.45, 12151.87, 10352.82, 3486.56, 3406.67, 2971.79, 20768.1, 9061.81, 8224.11, 1570.63, 5359.67, 12352.37, 3386.15, 6784.36, 6536.57, 4660.27, 8235.06, 8088.39, 3340.72, 7829.11, 4352.61, 4795.93, 5413.19, 11713.01, 4757.09, 4522.48, 20932.73, 9141.88, 3285.2, 10066.11, 4455.28, 11552.65, 12269.5, 10468.36, 9002.04, 5860.44, 7508.74, 12318.39, 3235.6, 2194.14, 5643.44, 11462.12, 6245.81, 6277.39, 8884.32, 4848.83, 9729.31, 5485.64, 14811.7, 10648.59, 3761.5, 7278.83, 9536.28, 13817.35, 13096.53, 17130.25, 22862.44, 24230.34, 8581.54, 7113.62, 20982.56, 6045.08, 9222.95, 4546.8, 2940.42, 3964.14, 7361.53, 5088.3, 5016.72, 15194.28, 21152.87, 5652.86, 7008.55], [3531.16, 8957.82, 3178.5, 5661.19, 3920.46, 3192.74, 7943.57, 4450.77, 9119.71, 4152.1, 7162.92, 8022.63, 2625.92, 6848.3, 3557.74, 14045.21, 6520.86, 6961.17, 3556.14, 8411.78, 11429.84, 2230.74, 3992.71, 7969.13, 4549.48, 3313.02, 4545.53, 8838.47, 4668.06, 3669.42, 15984.43, 6576.64, 10767.53, 3570.63, 4235.19, 13186.42, 10917.71, 2383.55, 7337.93, 4407.09, 11764.32, 9027.47, 6818.93, 9784.05, 5397.65, 8063.08, 8816.87, 3862.52, 3064.56, 9661.19, 4296.19, 4495.0, 5847.07, 6069.88, 4624.77, 3468.4, 4250.2, 7617.02, 6740.4, 2684.69, 8381.6, 8806.7, 7754.79, 7409.02, 13363.84, 9009.28, 19240.02, 5934.64, 8157.78, 11087.25, 4701.61, 8340.18, 3298.56, 2573.23, 3841.08, 9617.28, 4361.84, 4489.77, 9947.14, 12903.63, 4081.37, 12931.71], [2353.66, 22946.34, 1915.96, 7733.04, 2226.69, 2185.88, 6631.63, 6487.54, 5866.0, 8074.36, 7868.09, 10546.97, 1688.78, 3087.12, 1741.49, 5864.41, 3458.65, 7225.75, 6108.43, 3926.93, 3806.83, 1902.29, 3819.01, 6620.64, 9949.45, 11652.24, 4593.81, 3802.02, 7744.68, 3889.71, 9788.63, 3406.09, 6520.22, 6098.12, 3651.4, 5380.46, 4926.98, 2946.66, 12300.54, 3184.24, 12646.55, 7475.65, 5240.93, 4617.32, 3535.66, 5904.84, 7948.66, 1798.65, 3848.84, 4646.03, 4152.64, 2387.97, 6547.01, 10506.71, 8239.95, 9202.59, 5175.82, 7624.21, 12563.21, 2986.48, 7367.14, 5978.42, 6962.84, 4322.28, 11487.66, 3009.02, 31342.11, 8825.75, 4447.53, 9064.37, 4165.87, 4096.91, 3955.58, 6297.93, 2904.26, 8573.7, 5924.05, 1862.2, 20304.29, 11443.51, 4044.25, 7779.19], [17558.02, 17069.88, 2373.08, 6640.39, 1450.68, 5979.91, 3956.49, 14053.4, 11313.75, 8310.5, 17098.26, 11110.55, 3212.31, 1592.55, 1334.46, 5709.2, 4518.4, 11781.72, 4506.92, 5104.84, 2133.69, 1043.65, 3239.48, 18109.4, 14302.91, 12349.19, 4368.35, 2571.06, 8080.39, 3456.32, 6937.35, 4590.22, 3230.86, 6796.7, 14037.3, 3558.01, 2740.89, 2453.37, 6787.76, 7295.93, 15120.17, 3096.41, 12410.99, 4217.96, 2908.24, 7652.33, 3403.23, 1455.04, 15926.21, 6319.06, 3693.18, 2355.48, 11477.68, 7674.08, 7162.96, 28746.46, 19092.13, 12718.81, 13068.09, 2481.35, 25132.34, 12574.9, 11651.35, 2542.44, 3187.46, 3284.15, 22128.38, 4682.77, 4893.5, 12036.91, 9303.87, 4280.55, 8789.31, 14544.79, 1575.72, 19676.18, 9801.09, 2633.78, 23860.08, 6368.47, 5820.42, 5027.03], [16500.03, 14116.42, 2586.88, 5006.4, 4870.91, 24757.16, 3074.31, 18436.3, 8302.23, 5509.57, 12544.69, 8996.38, 11259.67, 2864.72, 2111.65, 9705.3, 8521.81, 6640.67, 8437.52, 4542.81, 2130.2, 7527.64, 5456.18, 20383.85, 19819.54, 7328.12, 6529.82, 7777.59, 7536.23, 6013.21, 8535.54, 4081.35, 2425.2, 5661.62, 5779.88, 8475.7, 5158.0, 2057.6, 14537.4, 13950.47, 18291.51, 13432.11, 14519.14, 10006.67, 5811.61, 14789.01, 6019.69, 1852.84, 5792.17, 4286.76, 3951.48, 11707.22, 19177.84, 4478.51, 8143.01, 16724.45, 14358.65, 3659.4, 31530.31, 10333.43, 29102.87, 11670.46, 16081.5, 5227.65, 7949.58, 10093.94, 8687.4, 10097.05, 5551.01, 11186.02, 11277.68, 7690.47, 8274.21, 17201.4, 2327.87, 7759.36, 9819.79, 3875.86, 10948.84, 8435.22, 14993.31, 18801.11], [13120.24, 10030.45, 2757.54, 3944.6, 9554.59, 9475.58, 4707.66, 20298.31, 7357.27, 6166.76, 8463.41, 8458.0, 7872.45, 2652.39, 6656.49, 16857.63, 6573.95, 7879.54, 4984.1, 4187.22, 2800.89, 8819.05, 4336.61, 20909.6, 24727.53, 6097.58, 19239.09, 4004.02, 5157.97, 3911.69, 6409.4, 4584.93, 2249.59, 6568.88, 14177.95, 9592.74, 6272.61, 3832.52, 9938.38, 16873.78, 16428.84, 11492.41, 18006.83, 7315.45, 4677.58, 8160.76, 8118.81, 6917.4, 7952.26, 10505.13, 3118.92, 23453.1, 14574.31, 5131.47, 4667.29, 13582.0, 5885.88, 8638.57, 14918.85, 7656.1, 21361.03, 19596.13, 19587.39, 12142.76, 14952.77, 12061.01, 14055.5, 20352.48, 11777.6, 14295.29, 7238.2, 7289.36, 12705.6, 9615.78, 3154.55, 12548.16, 6702.12, 12635.41, 11679.29, 22927.29, 10156.43, 16484.93], [5954.69, 7197.01, 4112.05, 5362.07, 13882.01, 15078.02, 6795.61, 6066.34, 4336.22, 8112.59, 16886.68, 7940.07, 12915.68, 1401.03, 4058.39, 6663.63, 8236.75, 17040.28, 5295.01, 8461.83, 1378.5, 3474.52, 3507.61, 6583.59, 10870.33, 10369.29, 35617.04, 9715.58, 6528.27, 13177.69, 3631.91, 3200.75, 5859.37, 10829.09, 20506.31, 9050.58, 9737.41, 1846.95, 4687.78, 6931.81, 12516.57, 22925.03, 20596.57, 5214.97, 11164.21, 17192.65, 16108.22, 6287.81, 8234.75, 18033.61, 2752.96, 10713.65, 28527.49, 6476.5, 6438.9, 10718.83, 2589.99, 10984.03, 14606.87, 7739.52, 17353.14, 6260.07, 7238.28, 6017.42, 10574.14, 18330.91, 25167.3, 4962.26, 6591.8, 8030.21, 12134.87, 3227.84, 4562.76, 7851.69, 5173.4, 6608.72, 9306.11, 18805.57, 9296.72, 31196.1, 8135.09, 18320.07], [15399.44, 13537.18, 5915.66, 5875.27, 17292.78, 12754.63, 8251.08, 5421.77, 10006.75, 4748.17, 9616.28, 6338.66, 10938.71, 2541.8, 4048.12, 5684.05, 16548.61, 5575.83, 7714.25, 6252.89, 1558.46, 10237.83, 13271.92, 21222.47, 10114.31, 11769.31, 34397.62, 16435.26, 10833.0, 13945.63, 20895.3, 9113.18, 7687.65, 12819.22, 20988.93, 17385.88, 17547.31, 3909.91, 6856.03, 7175.87, 6900.44, 28886.9, 23298.33, 8385.69, 17614.78, 10499.01, 6933.26, 9012.05, 8563.81, 17957.71, 6226.46, 6350.63, 12862.26, 7110.82, 8733.01, 7307.65, 8510.56, 29671.54, 20474.89, 2870.43, 12969.48, 12128.0, 4644.39, 7472.78, 13396.85, 8022.32, 26930.49, 5524.87, 26638.17, 9594.72, 15017.66, 2798.56, 8558.21, 27069.78, 5406.34, 8853.16, 8238.13, 30269.06, 7007.25, 25803.98, 4971.36, 17441.16], [7850.88, 13597.18, 11670.8, 6746.6, 36584.84, 13320.9, 12200.64, 4982.65, 5970.78, 7470.02, 9492.8, 7621.29, 8322.11, 2490.22, 4395.21, 10447.3, 13686.5, 7277.16, 6365.73, 19333.71, 15075.85, 16122.96, 17587.37, 25191.28, 6334.09, 6993.78, 13910.82, 12520.11, 7378.23, 11912.55, 21803.41, 11034.76, 21860.9, 7478.8, 18480.25, 16085.96, 7805.79, 3844.28, 7906.84, 9919.52, 7115.0, 18663.96, 14475.25, 4222.06, 20499.18, 7058.89, 11182.55, 4538.99, 25843.05, 11911.52, 7353.82, 19796.33, 12475.44, 4122.11, 8805.84, 13543.51, 6362.98, 12092.85, 24147.39, 8451.31, 7858.68, 22735.78, 11039.65, 15096.44, 18320.99, 36613.28, 25910.59, 13602.81, 24927.54, 26474.92, 19037.43, 5781.32, 14390.44, 29799.22, 5096.17, 10142.32, 22134.3, 25257.81, 6930.86, 11660.59, 7665.46, 13707.82], [4509.3, 5956.02, 4897.74, 2838.94, 9486.05, 7342.55, 12558.93, 4839.55, 14596.27, 4287.32, 12082.84, 3002.53, 5091.7, 4482.89, 2894.87, 6503.62, 5704.0, 8068.35, 3001.24, 7240.1, 11074.37, 9961.52, 14766.35, 6686.95, 3664.62, 3078.75, 10294.27, 11660.97, 3176.76, 11786.36, 18577.84, 5851.82, 19824.45, 4230.01, 11030.46, 11198.74, 5628.01, 8131.1, 12167.7, 3961.64, 2761.54, 11026.96, 9302.85, 6064.25, 9837.97, 11684.02, 10827.06, 8561.39, 19505.89, 11117.88, 7537.4, 33286.07, 12995.34, 4408.2, 10977.37, 6180.76, 4074.81, 5343.94, 17552.87, 7728.69, 8592.9, 6603.4, 12967.45, 5876.19, 11275.98, 34404.9, 7384.03, 5413.47, 8005.45, 7696.49, 17418.65, 7435.18, 12825.12, 12732.29, 7180.77, 14221.95, 19442.64, 14550.37, 5671.42, 7329.35, 4929.09, 6657.47], [5473.68, 8030.47, 2065.5, 5781.15, 10314.59, 4600.83, 5444.76, 3112.05, 20724.22, 6445.54, 9276.67, 2267.17, 2927.15, 3227.27, 3228.81, 8524.09, 7334.81, 2565.18, 2222.52, 5500.38, 6421.41, 4260.7, 6250.58, 4378.49, 3782.47, 2427.42, 6219.46, 11083.22, 2485.47, 5262.05, 8570.68, 3107.63, 9662.31, 3963.08, 15349.18, 11686.32, 7544.01, 5189.81, 5039.03, 10874.26, 2428.01, 10263.97, 5276.74, 5041.23, 18263.71, 11363.74, 7674.83, 5696.37, 13927.11, 16004.66, 10668.29, 16321.75, 8851.65, 1441.7, 10043.25, 3790.37, 2866.44, 3303.62, 7453.19, 9286.47, 5306.86, 11069.76, 7351.33, 4276.83, 8898.83, 13236.04, 5792.31, 4056.85, 6369.16, 8541.41, 16834.87, 17174.26, 5906.74, 4262.22, 7427.78, 7653.82, 5007.68, 12105.22, 16680.07, 3937.77, 4665.31, 6575.95]],\n",
    "    [[14125.25, 11137.33, 14894.38, 17872.77, 12961.77, 8523.07, 13395.37, 17993.41, 15030.43, 9527.25, 14352.85, 13932.39, 18874.34, 18788.32, 18242.14, 20747.54, 11025.3, 18356.93, 22517.23, 13704.31, 12840.93, 9696.21, 11746.48, 13976.56, 7957.88, 15767.78, 18055.11, 11829.15, 10992.18, 10542.52, 16792.82, 10409.15, 16252.85, 12511.3, 15316.82, 12412.16, 14674.8, 16367.04, 10164.23, 19264.71, 5270.05, 15730.58, 13662.67, 13716.82, 12656.45, 6181.17, 15114.16, 16890.29, 18895.19, 18615.94, 17437.31, 21132.97, 19163.62, 18561.38, 18700.06, 9724.1, 16159.27, 11197.38, 28071.03, 10441.34, 15200.44, 18079.55, 15088.78, 8983.27, 13805.93, 17758.16, 10343.59, 9341.51, 13158.72, 10240.83, 16854.34, 12301.54, 9778.86, 11834.89, 12967.66, 16870.53, 5820.28, 15967.6, 10283.08, 13164.8, 17121.77, 5010.98], [13168.57, 13524.3, 16900.66, 14160.46, 16846.85, 8119.92, 16599.45, 13539.99, 17196.18, 14465.81, 14219.37, 14144.77, 26692.87, 15242.93, 20706.68, 30724.15, 14769.21, 13844.6, 27899.16, 13483.77, 12112.76, 13423.51, 5439.56, 8209.26, 12214.02, 7715.27, 21173.92, 15375.77, 11386.96, 17527.71, 22630.29, 15919.25, 19438.28, 24177.46, 14803.55, 17865.17, 13618.77, 14646.72, 12920.5, 19019.59, 4499.9, 8458.2, 11239.43, 10813.58, 12213.21, 6033.53, 18114.37, 16523.37, 29515.57, 30803.18, 15454.45, 23344.96, 9709.56, 24975.85, 22754.39, 7973.19, 10963.66, 7855.45, 12452.22, 15734.95, 29990.87, 13811.95, 14585.28, 8891.07, 7080.73, 14930.59, 9773.42, 5689.05, 15046.76, 5360.91, 14634.41, 13178.36, 14874.53, 14907.54, 6989.04, 21485.49, 11437.34, 14559.93, 5666.86, 9317.22, 15436.98, 10506.04], [18892.59, 9711.88, 10348.39, 8393.24, 17225.48, 12079.7, 13607.31, 11837.59, 15825.48, 20019.52, 14671.43, 15271.09, 25196.88, 14970.56, 23718.32, 13966.86, 18108.0, 16639.52, 37416.18, 10772.55, 13977.74, 17576.12, 7863.3, 9172.11, 6848.06, 13128.2, 23075.09, 11154.34, 10193.16, 27209.32, 19210.99, 13250.44, 11265.62, 17504.06, 15911.49, 19442.08, 12862.74, 20515.12, 13701.14, 15047.35, 5320.4, 9983.59, 10975.01, 12720.26, 8454.26, 6380.8, 7080.38, 20532.21, 46244.73, 32685.37, 14648.6, 22226.8, 8414.51, 22083.72, 15554.44, 8219.33, 13621.68, 9536.48, 9685.37, 14345.67, 39291.98, 12530.75, 14956.85, 9307.98, 6496.76, 13838.83, 9553.73, 11718.1, 13521.75, 5358.91, 10688.91, 8016.64, 20160.58, 14563.16, 10601.5, 20483.03, 13472.67, 10546.41, 7878.51, 11530.87, 6448.73, 5343.64], [20907.16, 6163.4, 8674.78, 5256.22, 13641.79, 8956.44, 9788.14, 7454.47, 6540.44, 14581.88, 14622.26, 10896.27, 16194.83, 11700.7, 22854.0, 16285.17, 23037.78, 12656.67, 23015.1, 11710.85, 14452.49, 20656.51, 11262.13, 7819.65, 7841.24, 8735.76, 24664.21, 9586.62, 8777.09, 21549.12, 11103.77, 10155.95, 5226.49, 8959.51, 18009.44, 14468.29, 13044.23, 16157.84, 8099.24, 7905.27, 5177.73, 8876.0, 13725.6, 18223.25, 7474.21, 5469.9, 6813.44, 12569.93, 23461.89, 13974.78, 18947.49, 20862.27, 12461.96, 22033.14, 7629.89, 9152.12, 10385.72, 6031.19, 6656.15, 15657.14, 13271.14, 7947.66, 15333.26, 8453.53, 5737.34, 13664.62, 4845.96, 7664.07, 11027.82, 4028.13, 6945.32, 7894.69, 15946.22, 12383.54, 13306.08, 7766.22, 14219.46, 13048.96, 8453.34, 15223.69, 6345.52, 8114.03], [14299.76, 4278.01, 5985.75, 5434.2, 12534.47, 6601.81, 7269.49, 5172.17, 4810.39, 6266.04, 9244.21, 7077.85, 8975.18, 7807.51, 26010.03, 11180.11, 14050.63, 6802.52, 10792.26, 8237.76, 8121.21, 10677.56, 6190.88, 4441.4, 4732.86, 5163.96, 18876.18, 7546.74, 4211.97, 7995.22, 7008.97, 6066.53, 4381.04, 5326.07, 9081.09, 7997.79, 8219.65, 7399.67, 5165.49, 6042.38, 3787.57, 5911.37, 6672.67, 10307.27, 6388.42, 3178.9, 6113.13, 8533.1, 11405.85, 10935.35, 8929.89, 12374.54, 6341.99, 9928.68, 5659.95, 5601.08, 6479.9, 4211.82, 4260.96, 7792.5, 8670.26, 5715.38, 6898.31, 5580.48, 4017.54, 7950.56, 3612.55, 3947.06, 5505.24, 2642.28, 3356.73, 4144.77, 8502.69, 6689.04, 7024.81, 4624.0, 5904.69, 7836.14, 3867.45, 5898.12, 3729.67, 4436.83], [7186.5, 3856.12, 4070.03, 3639.9, 6137.82, 4022.12, 4463.72, 4258.5, 3853.22, 4448.53, 5093.69, 4674.39, 6332.34, 5232.47, 13126.14, 7437.61, 7134.21, 5572.06, 7921.04, 5250.03, 5595.19, 5959.66, 3983.24, 3732.44, 3204.75, 4933.04, 8862.73, 5156.53, 3418.01, 5568.97, 5310.42, 4459.51, 3350.92, 3674.86, 5572.53, 5758.04, 4613.34, 5037.79, 3904.56, 4404.93, 2770.17, 3858.8, 4450.36, 5441.74, 3811.42, 3074.65, 4131.36, 6844.59, 8314.34, 7147.15, 6250.82, 8070.47, 4395.27, 6173.65, 4238.15, 3733.33, 3915.13, 3289.74, 3400.48, 4840.57, 5729.91, 4335.35, 4949.45, 4255.12, 3149.33, 5297.94, 2865.3, 2798.98, 3711.39, 2554.99, 2720.15, 3007.94, 4503.35, 4403.79, 3913.8, 3857.52, 3386.59, 4594.35, 3093.06, 3691.22, 3623.01, 3354.04], [5559.36, 3505.1, 3778.06, 3056.73, 4750.92, 3332.63, 3735.09, 3478.98, 3315.28, 3554.91, 4257.73, 3917.13, 5321.92, 4406.87, 7897.38, 6014.22, 5756.65, 4899.18, 6493.34, 4534.69, 4467.55, 4829.82, 3358.52, 2962.96, 2749.41, 4134.87, 6314.96, 4327.64, 3087.86, 4335.62, 4297.52, 3774.59, 2942.73, 3142.18, 4499.19, 4625.8, 3895.94, 4355.52, 3431.25, 3916.6, 2639.92, 3379.99, 3784.12, 4231.58, 3827.21, 2467.09, 3540.98, 4688.85, 6774.18, 6604.68, 5090.57, 6338.98, 3884.21, 4920.06, 3921.22, 3422.94, 3330.7, 3236.79, 3493.62, 3858.48, 4636.19, 3789.54, 4216.57, 3319.8, 2640.65, 4073.01, 2496.6, 2387.7, 2932.12, 2069.87, 2581.31, 2644.28, 3900.74, 3544.59, 3241.01, 3017.42, 2789.99, 3703.97, 2482.62, 3156.08, 2744.39, 2553.22], [4824.29, 2977.42, 3280.58, 2769.4, 3756.76, 2855.07, 3133.63, 3053.68, 3117.6, 3187.34, 3852.29, 3415.31, 4525.84, 3858.99, 6367.19, 5211.33, 4854.33, 4144.19, 5479.03, 3946.36, 3811.89, 3973.15, 2934.7, 2645.4, 2398.16, 3224.14, 5066.13, 4326.79, 2744.92, 3656.36, 3607.0, 3116.68, 2681.35, 2895.38, 3852.57, 4078.28, 3373.9, 3947.14, 3024.92, 3394.71, 2283.0, 3175.88, 3088.95, 3722.67, 2987.75, 2292.13, 2881.11, 4492.51, 5893.95, 5631.81, 4547.79, 5363.23, 3482.66, 4415.55, 3863.15, 2758.94, 3331.28, 3016.34, 3213.13, 3521.15, 4242.84, 3626.55, 3444.77, 2933.05, 2091.91, 3657.59, 2296.35, 2086.7, 3003.8, 1918.41, 2026.03, 2261.85, 3027.27, 2944.82, 3030.66, 2968.11, 2513.33, 2925.71, 2098.29, 2433.83, 2258.57, 2264.21], [4242.98, 2715.01, 2746.51, 3028.44, 3164.24, 2579.08, 2719.55, 2861.11, 2897.99, 2635.62, 3076.89, 3062.19, 3900.65, 3332.13, 5179.72, 4449.05, 4668.06, 3620.54, 4696.48, 3255.88, 3297.43, 3529.72, 2596.76, 2183.56, 2061.05, 2738.3, 4197.26, 3364.12, 2490.01, 3075.44, 3030.66, 2501.17, 2374.8, 2299.04, 3205.28, 3516.09, 2903.91, 3723.44, 2567.93, 3147.29, 2276.15, 2645.12, 2533.68, 3282.41, 2474.97, 2646.84, 2718.44, 3628.7, 5856.33, 5010.0, 4209.51, 4908.46, 4183.75, 4228.58, 3659.84, 2699.23, 3200.37, 2824.73, 3236.01, 3293.14, 4257.96, 3238.62, 3417.46, 2341.2, 2041.27, 3213.83, 2048.56, 2336.91, 2783.2, 2028.78, 1582.95, 2063.77, 2710.17, 2880.92, 2912.3, 2218.75, 2004.71, 3005.14, 2024.28, 2183.95, 1965.18, 1847.74], [4030.32, 2784.09, 3251.36, 3035.99, 3173.36, 2905.28, 2683.63, 2701.98, 3750.94, 2809.41, 3261.16, 3952.17, 4022.67, 2953.09, 5656.38, 4591.93, 4383.56, 3778.97, 4362.42, 3726.37, 3021.81, 3473.24, 3192.62, 1961.51, 1936.32, 2489.8, 4563.05, 4432.06, 2785.5, 2748.06, 2631.61, 3281.46, 2122.57, 2609.32, 4011.19, 3541.54, 2700.06, 3758.43, 2657.26, 4667.84, 3239.04, 3881.6, 3745.82, 3265.1, 2878.74, 4519.87, 3617.98, 4461.3, 6030.3, 5325.62, 5391.92, 5028.0, 4451.2, 5486.39, 3235.86, 3095.87, 3287.97, 3095.21, 3547.57, 4173.54, 5671.84, 3811.89, 2701.62, 2780.45, 2457.62, 3326.58, 2095.74, 1881.73, 2465.35, 2299.61, 2072.96, 1527.4, 2705.88, 2729.08, 3938.35, 1796.5, 2192.38, 4096.74, 2473.2, 2748.47, 1674.08, 2016.68], [5863.03, 5519.61, 5568.33, 3004.45, 3744.12, 4501.9, 6520.07, 4012.34, 3212.78, 5819.06, 4918.94, 6668.63, 6525.95, 5059.36, 9584.5, 6339.71, 9586.15, 4339.8, 8738.34, 6127.19, 2849.24, 4827.53, 4513.54, 2941.21, 5983.21, 4325.68, 4208.66, 5842.71, 4833.37, 3245.77, 3174.55, 5614.32, 2729.49, 7933.09, 7768.94, 5395.73, 4616.41, 5854.28, 6742.1, 9338.47, 7507.03, 5717.24, 9424.97, 5692.63, 6857.94, 6495.77, 4186.79, 6169.46, 9560.0, 6674.42, 12710.18, 5059.0, 5497.27, 6924.5, 3756.12, 4531.74, 5144.7, 5364.5, 4462.48, 6205.07, 12715.29, 4035.73, 3053.11, 5087.73, 5121.75, 3881.08, 5885.8, 4865.02, 5288.73, 3598.98, 2833.41, 2496.36, 3194.49, 4077.99, 8496.46, 1903.73, 2702.64, 7847.06, 5202.23, 3931.52, 4413.1, 2618.38], [6256.49, 10225.14, 9968.78, 5006.69, 6990.38, 7883.92, 13725.98, 8782.96, 5102.14, 12219.55, 7133.7, 16553.03, 16255.56, 12042.24, 17087.28, 11613.97, 13900.61, 15970.6, 9697.68, 12177.77, 4479.88, 11082.14, 9563.26, 10451.75, 10081.6, 11649.13, 12343.92, 5038.37, 7875.39, 11855.63, 4538.32, 8825.42, 4174.36, 12581.63, 12027.99, 7563.53, 12335.86, 13610.76, 15583.87, 8853.22, 18137.54, 12049.79, 13162.29, 7521.34, 8373.87, 13694.39, 8420.08, 11193.72, 9908.45, 13797.4, 18116.56, 5517.01, 11575.38, 11449.64, 5718.81, 10749.18, 8169.43, 20432.63, 5188.9, 9603.91, 16234.51, 5838.32, 9120.64, 9733.66, 10198.24, 9220.61, 9942.07, 10074.89, 11429.73, 6486.19, 5528.8, 4818.89, 5399.51, 13018.05, 12071.65, 4718.52, 7218.15, 7808.31, 9239.02, 10549.87, 6730.56, 8943.03]],\n",
    "    [[11445.26, 9396.12, 9866.75, 12189.83, 12910.68, 9918.07, 8140.01, 12852.12, 9416.01, 10276.83, 11775.03, 11838.64, 24318.78, 13257.7, 18076.42, 15821.04, 7474.73, 11812.83, 15706.01, 5481.26, 7504.73, 6268.96, 7504.95, 9270.37, 6073.61, 8750.38, 21274.59, 9495.46, 12791.41, 7181.52, 10787.91, 5100.68, 10318.63, 10737.62, 7936.66, 8803.48, 7144.38, 7801.97, 9177.17, 10608.92, 3893.13, 6948.11, 8977.61, 9215.05, 8095.57, 5890.96, 9540.81, 16252.52, 13336.07, 11626.36, 15401.03, 15401.59, 8722.29, 9687.94, 20397.1, 6309.53, 9667.89, 10050.76, 23449.63, 8423.32, 7411.93, 10818.92, 11197.63, 9909.79, 10804.87, 10288.03, 7017.45, 8345.5, 15034.49, 9693.82, 19293.15, 7206.01, 8462.7, 6763.02, 10802.53, 6499.8, 5148.48, 8276.41, 12261.51, 10538.96, 14404.6, 7258.67], [14719.19, 13849.17, 13631.43, 12177.59, 18010.69, 13302.4, 11285.29, 12809.84, 13682.94, 18874.24, 12523.57, 16877.66, 29183.48, 14291.3, 22301.65, 14904.42, 12522.31, 11791.37, 18496.37, 6979.2, 9335.08, 5630.56, 5634.78, 10671.55, 9980.95, 7606.14, 20418.43, 14951.7, 18109.33, 14918.77, 16033.19, 9361.22, 12551.23, 19276.9, 10616.44, 15397.32, 9475.47, 10421.28, 12375.16, 14830.72, 5729.91, 9694.81, 8591.43, 14495.29, 14107.25, 9421.06, 19359.53, 16790.61, 26986.54, 25885.9, 16467.1, 22487.03, 9224.35, 20387.94, 18234.79, 7081.11, 11111.52, 11171.72, 15392.37, 11806.74, 22711.09, 12025.7, 14780.7, 14848.03, 9908.41, 13792.5, 9267.26, 8170.04, 16846.34, 10356.98, 18361.69, 11226.45, 23225.67, 13257.7, 10945.27, 15574.3, 10877.03, 11769.67, 12344.86, 14857.49, 17224.47, 13109.1], [23409.86, 14320.59, 13800.87, 14352.06, 18872.78, 18684.74, 12043.11, 14022.72, 11381.14, 25165.1, 14072.94, 22404.0, 24247.65, 15506.72, 20840.05, 13711.15, 17839.09, 14672.99, 17190.76, 10625.12, 8848.47, 12036.61, 7660.54, 11533.4, 9406.32, 12810.21, 27106.69, 15315.78, 17588.25, 19747.19, 16899.92, 11651.63, 12923.34, 17983.13, 14205.58, 16566.74, 13403.69, 22020.86, 14903.32, 19264.25, 7919.34, 12988.93, 13260.07, 20701.67, 14087.36, 12284.1, 16537.32, 26009.72, 24878.24, 33744.51, 14323.11, 20752.06, 10967.29, 19469.53, 19750.87, 12976.51, 16995.69, 14878.09, 18871.69, 14217.14, 16007.4, 13807.3, 20760.56, 15339.25, 12648.75, 19883.1, 12384.08, 13129.38, 21388.35, 13455.08, 15207.25, 14793.07, 24848.95, 19422.42, 13908.63, 17542.63, 15782.29, 14348.74, 12614.13, 20733.48, 16491.96, 13076.6], [23382.44, 10803.52, 14378.16, 13302.03, 23222.27, 16695.74, 13679.45, 13661.28, 11570.96, 20886.36, 15476.03, 16023.03, 22236.36, 14684.2, 21771.01, 13644.9, 22076.88, 15190.72, 14203.75, 12299.45, 11778.42, 12531.76, 9742.09, 12032.59, 10269.89, 11948.84, 32208.85, 17459.51, 16242.32, 17948.04, 13136.18, 11190.44, 9589.65, 15077.5, 18706.86, 14964.66, 15336.68, 17290.63, 12763.49, 14413.57, 11501.47, 12579.98, 16496.02, 23865.77, 17203.76, 12391.8, 15316.56, 20308.84, 19682.45, 23440.95, 18467.55, 19582.51, 16025.97, 22575.64, 17154.81, 13862.35, 17273.57, 17677.34, 15127.73, 18684.02, 15585.12, 12263.42, 18852.01, 18143.6, 14127.53, 25099.68, 8662.66, 10795.11, 18684.5, 14296.08, 15049.98, 16718.21, 22490.42, 16585.21, 21470.46, 14135.71, 18498.96, 17130.17, 16346.0, 20241.75, 11604.09, 15534.4], [10800.89, 6621.21, 9859.45, 10134.26, 15783.48, 11661.46, 9992.31, 8961.21, 7986.12, 11334.04, 9131.23, 10651.59, 14228.5, 8808.92, 16857.09, 8870.4, 11910.68, 8514.6, 9619.73, 9681.85, 8443.5, 9467.84, 6687.98, 8468.58, 7309.2, 8900.26, 17395.4, 12816.24, 10267.79, 10570.91, 8501.5, 7170.24, 7787.29, 10002.72, 13115.21, 9260.14, 10312.36, 11077.2, 7877.86, 9884.11, 7971.67, 6841.12, 11086.58, 20710.83, 13844.01, 8233.47, 15152.03, 15167.49, 12115.32, 11980.41, 10605.6, 12706.9, 11463.02, 16391.48, 11352.5, 7530.3, 12389.59, 13869.15, 8958.14, 14252.5, 9379.34, 7939.86, 10767.56, 16137.54, 10364.88, 17667.15, 5264.44, 8816.28, 13189.92, 7687.12, 8032.19, 9773.84, 12707.06, 11950.38, 17618.47, 7989.54, 13400.39, 20147.11, 7757.33, 14585.71, 6459.52, 11058.98], [6555.49, 4734.66, 5247.05, 5947.45, 8962.09, 6010.18, 5440.07, 5081.99, 4501.39, 6801.83, 5226.83, 6365.3, 7598.31, 5250.53, 10536.52, 6555.77, 6246.19, 4899.69, 5633.05, 4891.45, 5350.89, 4886.0, 3277.94, 4925.69, 4402.2, 5504.85, 9848.68, 7103.36, 5711.0, 6070.02, 5043.51, 3942.8, 4319.38, 6253.7, 6492.65, 5492.23, 5300.07, 5895.92, 4993.92, 4607.68, 4412.15, 3593.96, 5439.76, 10133.62, 6659.7, 4774.84, 7164.48, 7671.45, 5967.57, 6109.85, 5434.13, 6613.64, 4878.95, 7327.03, 5807.04, 3670.12, 5707.73, 6380.39, 4824.95, 6986.96, 4372.81, 3783.99, 5624.07, 8726.5, 5313.22, 7426.47, 3018.46, 4258.51, 5419.19, 4594.29, 4266.15, 4677.71, 5240.86, 5011.05, 7106.89, 3965.1, 5733.27, 9562.59, 3914.1, 5838.83, 3788.82, 4911.18], [4487.15, 3104.44, 3383.62, 3729.34, 5208.33, 3881.61, 3463.18, 3290.67, 3369.41, 4651.93, 3479.82, 4221.03, 5235.62, 3515.58, 5546.02, 3862.32, 3930.2, 3368.78, 3177.84, 3626.84, 2925.88, 2795.03, 2124.77, 3061.72, 2569.27, 3383.25, 5544.76, 3833.81, 3729.67, 3712.59, 2907.87, 2438.05, 3027.46, 3437.19, 3690.67, 3647.12, 3195.82, 3452.42, 3003.94, 2881.15, 2726.49, 2462.67, 3294.29, 5132.12, 4024.76, 3108.09, 3943.35, 4264.99, 3750.04, 4023.09, 3578.9, 3816.03, 2941.25, 3871.37, 3569.3, 2414.46, 3439.66, 3907.25, 3275.13, 3601.49, 2690.43, 2539.41, 3566.59, 4102.3, 3538.63, 4258.75, 2307.56, 2686.07, 3695.43, 2997.3, 2456.86, 2741.39, 3206.27, 2934.6, 3571.18, 2511.94, 3151.33, 4193.71, 2552.29, 3496.43, 2571.52, 2992.5], [3223.12, 2097.61, 2428.81, 2481.26, 3864.63, 2750.74, 2248.83, 2383.53, 2544.88, 3457.4, 2498.48, 2892.26, 3933.36, 2533.84, 3913.94, 2706.4, 3189.74, 2270.44, 2219.1, 2274.31, 2016.42, 1844.62, 1675.86, 1847.77, 1878.96, 2543.73, 3986.44, 2627.67, 2458.92, 2409.33, 2173.83, 1851.57, 2227.47, 2291.89, 2421.13, 2416.32, 2169.87, 2450.68, 2240.0, 2044.5, 2008.9, 1893.48, 2451.84, 3353.12, 2812.2, 2131.62, 2585.51, 3128.53, 2858.7, 2996.48, 2672.92, 2786.17, 2192.46, 2689.98, 2454.78, 1892.1, 2382.88, 2713.41, 2321.69, 2742.05, 2096.39, 1974.47, 2493.21, 2698.44, 2535.42, 2866.68, 1455.42, 1933.88, 2626.68, 2105.46, 1687.18, 1945.97, 2323.11, 1852.09, 2256.41, 1800.01, 2057.27, 2410.69, 1954.7, 2247.75, 1624.93, 2038.15], [2494.37, 1673.39, 1773.43, 1469.26, 2816.89, 2031.24, 1294.99, 1508.18, 1766.44, 2642.22, 1752.41, 2234.46, 2603.72, 1883.99, 2977.59, 1844.4, 2671.99, 1759.64, 1529.58, 1757.09, 1453.12, 1458.55, 1322.78, 1282.01, 1454.08, 1953.53, 3151.81, 1931.59, 1818.74, 1790.47, 1707.78, 1558.49, 1652.87, 1641.09, 1976.34, 1813.03, 1775.23, 1898.44, 1666.93, 1725.64, 1687.07, 1587.76, 1845.2, 2652.05, 2177.2, 1739.65, 2001.38, 2381.83, 2737.01, 2514.38, 2222.0, 2380.01, 2087.48, 2040.06, 2100.17, 1569.05, 1945.04, 2235.13, 2189.02, 2126.45, 1966.64, 1788.03, 1986.06, 1934.88, 1813.6, 2244.8, 1379.33, 1617.21, 2151.83, 1638.84, 1403.71, 1467.3, 1752.64, 1403.8, 1743.75, 1372.98, 1525.33, 1901.29, 1450.41, 1584.78, 1358.73, 1587.3], [2569.03, 2055.48, 1617.7, 1797.54, 2790.11, 2043.46, 1744.23, 1645.6, 2671.58, 2805.1, 2394.35, 3813.06, 3328.2, 1522.49, 4070.01, 1502.57, 2541.82, 1827.88, 1446.88, 1840.4, 1308.22, 1297.46, 1847.49, 1032.16, 1335.97, 1750.43, 3148.26, 2085.0, 1707.8, 1664.12, 1370.17, 1553.64, 1347.18, 2328.25, 2167.17, 1927.51, 1663.67, 1833.17, 1597.64, 2030.33, 1809.08, 1648.65, 2451.68, 2662.66, 2054.17, 2434.34, 2498.06, 2411.0, 2779.41, 2546.27, 2238.57, 2597.04, 1968.24, 2664.05, 2885.94, 1706.86, 1995.04, 2282.39, 2214.75, 2052.59, 2075.18, 2014.74, 1956.24, 1890.09, 2117.0, 2157.46, 1412.17, 1740.39, 2129.67, 1939.98, 1513.77, 1394.59, 1758.18, 1423.39, 2058.37, 1328.2, 1447.78, 2262.28, 1565.23, 2068.41, 1367.27, 1631.66], [4641.31, 3710.95, 4108.02, 2322.72, 4112.86, 3153.28, 4222.0, 2542.08, 4080.89, 4914.35, 5165.37, 5489.32, 5723.93, 3490.48, 7381.2, 2472.47, 5539.85, 2249.05, 2883.83, 2664.6, 1379.94, 1649.83, 2664.51, 1628.63, 2582.64, 5612.11, 2663.5, 2699.65, 2574.08, 2505.57, 1646.98, 2305.66, 1756.6, 3672.71, 3286.51, 2637.35, 2619.93, 2800.22, 2382.41, 3808.99, 3676.19, 2221.59, 4269.7, 3598.29, 3048.27, 3589.7, 3096.36, 2748.5, 3936.11, 3511.24, 4884.22, 2809.73, 2626.34, 4343.58, 3367.0, 2404.99, 3245.45, 4372.99, 2617.4, 2689.32, 3563.42, 2529.25, 2224.52, 3126.24, 3312.67, 2504.25, 2625.43, 3150.3, 3508.86, 3096.43, 2205.32, 2489.92, 2449.98, 1943.37, 3975.66, 1543.29, 2017.76, 4233.35, 2737.69, 4005.33, 2550.47, 2751.41], [5928.45, 6305.46, 7741.12, 5572.98, 7840.01, 5346.7, 9205.84, 5416.25, 5406.82, 8514.67, 8016.43, 12143.41, 11659.05, 7332.98, 11905.46, 4191.0, 7976.14, 11071.46, 4555.71, 4642.37, 3020.24, 4752.09, 4916.23, 5745.9, 4904.85, 12820.8, 5408.88, 3604.63, 3839.0, 5809.85, 2569.89, 4389.23, 2294.61, 6809.31, 6372.19, 4289.17, 4488.89, 10455.43, 5260.2, 3870.7, 6460.74, 4295.49, 7860.2, 5420.29, 4285.41, 6845.68, 5365.47, 5121.61, 4586.69, 8258.6, 7749.0, 3059.53, 3430.87, 8868.47, 4088.58, 6015.28, 7597.69, 13886.42, 3714.79, 4607.97, 8787.99, 4320.83, 5278.15, 6865.86, 4430.27, 4400.78, 5310.74, 7716.41, 8462.67, 6883.02, 3169.26, 3573.36, 3969.63, 6448.48, 4885.67, 3215.82, 6065.36, 6634.84, 5209.91, 7425.64, 5240.02, 5944.41]]\n",
    "];"
   ]
  },
  {
   "cell_type": "markdown",
   "metadata": {},
   "source": [
    "Write the decision model that includes:\n",
    "- thermal and hydro plants to meet demand\n",
    "- energy reservoirs from where the hydro energy is obtained\n",
    "- inflows that fill energy reservoirs\n",
    "- a network through which the energy flows"
   ]
  },
  {
   "cell_type": "code",
   "execution_count": null,
   "metadata": {},
   "outputs": [],
   "source": [
    "model = SDDP.LinearPolicyGraph(\n",
    "    stages = 36,\n",
    "    lower_bound = 0.0,\n",
    "    optimizer = () -> HiGHS.Optimizer(),\n",
    ") do sp, t\n",
    "    set_optimizer_attribute(sp, \"OutputFlag\", 0)\n",
    "    month = t % 12 == 0 ? 12 : t % 12  # Year to month conversion.\n",
    "    # storage state variable (time-coupling variables)\n",
    "    @variable(sp,\n",
    "        0 <= storedEnergy[i = 1:4] <= storedEnergy_ub[i],\n",
    "        SDDP.State, initial_value = storedEnergy_initial[i])\n",
    "    # other control variables\n",
    "    @variables(sp, begin\n",
    "        0 <= spillEnergy[i = 1:4]\n",
    "        0 <= hydroGeneration[i = 1:4] <= hydro_ub[i]\n",
    "        thermal_lb[i][j] <= thermal[i = 1:4, j = 1:N_THERMAL[i]] <= thermal_ub[i][j]\n",
    "        0 <= exchange[i = 1:5, j = 1:5] <= exchange_ub[i][j]\n",
    "        0 <= deficit[i = 1:4, j = 1:4] <= demand[month][i] * deficit_ub[j]\n",
    "    end)\n",
    "    # inflow random variable\n",
    "    @variable(sp,\n",
    "        inflow[i = 1:4] == inflow_initial[i])\n",
    "    @stageobjective(sp,\n",
    "        sum(deficit_obj[i] * sum(deficit[i, :]) for i in 1:4) +\n",
    "        sum(thermal_obj[i][j] * thermal[i, j] for i in 1:4 for j in 1:N_THERMAL[i]))\n",
    "    @constraints(sp, begin\n",
    "        [i = 1:4], sum(deficit[i, :]) + hydroGeneration[i] +\n",
    "            sum(thermal[i, j] for j in 1:N_THERMAL[i]) +\n",
    "            sum(exchange[:, i]) - sum(exchange[i, :]) == demand[month][i]\n",
    "        [i = 1:4], storedEnergy[i].out + spillEnergy[i] +\n",
    "            hydroGeneration[i] - storedEnergy[i].in == inflow[i]\n",
    "        sum(exchange[:, 5]) == sum(exchange[5, :])\n",
    "    end)\n",
    "    # update rule for the random variables\n",
    "    if t != 1  # t=1 is handled in the @variable constructor.\n",
    "        r = (t - 1) % 12 == 0 ? 12 : (t - 1) % 12\n",
    "        SDDP.parameterize(sp, 1:length(scenarios[1][r])) do ω\n",
    "            for i in 1:4\n",
    "                JuMP.fix(inflow[i], scenarios[i][r][ω])\n",
    "            end\n",
    "        end\n",
    "    end\n",
    "end"
   ]
  },
  {
   "cell_type": "markdown",
   "metadata": {},
   "source": [
    "Solve the multistage problem"
   ]
  },
  {
   "cell_type": "code",
   "execution_count": null,
   "metadata": {},
   "outputs": [],
   "source": [
    "SDDP.train(model, time_limit = 60)"
   ]
  },
  {
   "cell_type": "markdown",
   "metadata": {},
   "source": [
    "Simulate sample solutions"
   ]
  },
  {
   "cell_type": "code",
   "execution_count": 252,
   "metadata": {},
   "outputs": [],
   "source": [
    "simulations =\n",
    "    SDDP.simulate(model, 100, [:hydroGeneration, :thermal, :storedEnergy, :inflow]);"
   ]
  },
  {
   "cell_type": "code",
   "execution_count": null,
   "metadata": {},
   "outputs": [],
   "source": [
    "plot = SDDP.SpaghettiPlot(simulations)\n",
    "SDDP.add_spaghetti(plot; title = \"Storage\") do sim\n",
    "    return sum(val.out for val in sim[:storedEnergy])\n",
    "end\n",
    "SDDP.add_spaghetti(plot; title = \"Hydro\") do sim\n",
    "    return sum(sim[:hydroGeneration])\n",
    "end\n",
    "SDDP.add_spaghetti(plot; title = \"Inflow\") do sim\n",
    "    return sum(sim[:inflow])\n",
    "end\n",
    "SDDP.plot(plot, \"spaghetti_plot.html\", open = false)\n",
    "plot"
   ]
  },
  {
   "cell_type": "code",
   "execution_count": 254,
   "metadata": {},
   "outputs": [],
   "source": [
    "# SDDP.plot(plot, \"spaghetti_plot.html\")"
   ]
  },
  {
   "cell_type": "markdown",
   "metadata": {},
   "source": [
    "```@raw html\n",
    "<iframe src=\"../spaghetti_plot.html\" style=\"width:100%;height:500px;\"></iframe>\n",
    "```\n",
    "\n",
    "**Info**\n",
    "    If you have trouble viewing the plot, you can\n",
    "    [open it in a new window](spaghetti_plot.html). You must be in a browser and not in VSCode."
   ]
  },
  {
   "cell_type": "markdown",
   "metadata": {},
   "source": [
    "## Next steps"
   ]
  },
  {
   "cell_type": "markdown",
   "metadata": {},
   "source": [
    "Our model is very basic. There are many aspects that we could improve:\n",
    "\n",
    "* Can you add a second reservoir to make a river chain?\n",
    "\n",
    "* Can you modify the problem and data to use proper units, including a\n",
    "  conversion between the volume of water flowing through the turbine and the\n",
    "  electrical power output?"
   ]
  },
  {
   "cell_type": "markdown",
   "metadata": {},
   "source": [
    "---"
   ]
  },
  {
   "cell_type": "markdown",
   "metadata": {},
   "source": [
    "# BilevelJuMP.jl - Dual variables of the lower level"
   ]
  },
  {
   "cell_type": "markdown",
   "metadata": {},
   "source": [
    "This is a quick introduction to modeling and solving bilevel optimization\n",
    "with BilevelJuMP."
   ]
  },
  {
   "cell_type": "markdown",
   "metadata": {},
   "source": [
    "We model the strategic offer of a price maker agent in a energy market.\n",
    "\n",
    "The agent maximizes their spot revenue (the product between generation and spot price).\n",
    "The main decision to maximize the revenue is the energy quantity offer (the amount of energy the agent will make available in the market - here ate price zero).\n",
    "\n",
    "This is a bilevel problem because the dispatched generation and the system spot price come from an optimizaiton problem that has the agent energy offer as input. So the agent anticipates the market outcomes to to select the offer tha maximizes the revenue. See [Fanzeres et al. (2019)](https://doi.org/10.1016/j.ejor.2018.07.027) for more information.\n",
    "\n",
    "A small and simplified example of the modeled\n",
    "problem would be the model:"
   ]
  },
  {
   "cell_type": "markdown",
   "metadata": {},
   "source": [
    "$$\n",
    "\\begin{align}\n",
    "    &\\max_{\\lambda, q_S} \\quad \\lambda \\cdot g_S \\\\\n",
    "    &\\textit{s.t.} \\quad 0 \\leq q_S \\leq 100\\\\\n",
    "    &\\hspace{28pt} (g_S, \\lambda) \\in \\arg\\min_{g_S, g_{1}, g_{2}, g_D} 50 g_{R1} + 100  g_{R2} + 1000 g_{D}\\\\\n",
    "            & \\hspace{70pt} \\textit{s.t.} \\quad g_S \\leq q_S \\\\\n",
    "            & \\hspace{88pt} \\quad  0 \\leq g_S \\leq 100 \\\\\n",
    "            & \\hspace{88pt}\\quad  0 \\leq g_{1} \\leq 40 \\\\\n",
    "            & \\hspace{88pt}\\quad  0 \\leq g_{2} \\leq 40 \\\\\n",
    "            & \\hspace{88pt}\\quad  0 \\leq g_{D} \\leq 100 \\\\\n",
    "    & \\hspace{88pt}\\quad  g_S + g_{1} + g_{2} + g_D = 100 \\quad  : \\quad \\lambda\n",
    "\\end{align}\n",
    "$$"
   ]
  },
  {
   "cell_type": "markdown",
   "metadata": {},
   "source": [
    "Where $\\lambda$ is the dual of the load balance constraint\n",
    "(last constraint in the lower part),\n",
    "$g_S$, $g_{1}$, $g_2$ represent the generation of\n",
    "the strategic bidder and from two other (non-strategic) plants.\n",
    "$g_D$ represents the deficit in generation.\n",
    "Finally, $q_S$ is the quantity bid optimized by the strategic generator."
   ]
  },
  {
   "cell_type": "markdown",
   "metadata": {},
   "source": [
    "load packages"
   ]
  },
  {
   "cell_type": "code",
   "execution_count": 255,
   "metadata": {},
   "outputs": [],
   "source": [
    "using BilevelJuMP\n",
    "using Ipopt\n",
    "using QuadraticToBinary\n",
    "using HiGHS"
   ]
  },
  {
   "cell_type": "markdown",
   "metadata": {},
   "source": [
    "BilevelJuMP.jl allows users to implement similar models using the\n",
    "function `DualOf` that binds a new variable in the upper level\n",
    "to an existing constraint in the lower level.\n",
    "The model can be written as:"
   ]
  },
  {
   "cell_type": "code",
   "execution_count": null,
   "metadata": {},
   "outputs": [],
   "source": [
    "model = BilevelModel()\n",
    "@variable(Upper(model), 0 <= qS <= 100)\n",
    "@variable(Lower(model), 0 <= gS <= 100)\n",
    "@variable(Lower(model), 0 <= gR1 <= 40)\n",
    "@variable(Lower(model), 0 <= gR2 <= 40)\n",
    "@variable(Lower(model), 0 <= gD <= 100)\n",
    "@objective(Lower(model), Min, 50gR1 + 100gR2 + 1000gD)\n",
    "@constraint(Lower(model), gS <= qS)\n",
    "@constraint(Lower(model), demand_equilibrium, gS + gR1 + gR2 + gD == 100)\n",
    "@variable(Upper(model), lambda, DualOf(demand_equilibrium))\n",
    "@objective(Upper(model), Max, lambda*gS)"
   ]
  },
  {
   "cell_type": "markdown",
   "metadata": {},
   "source": [
    "## NLP solution"
   ]
  },
  {
   "cell_type": "markdown",
   "metadata": {},
   "source": [
    "This model, can be solved by selecting a reformulation and a solver.\n",
    "Here we select Strong-Duality reformulation, the Ipopt solver and call\n",
    "optimizes to perform the reformulation and solve it."
   ]
  },
  {
   "cell_type": "code",
   "execution_count": null,
   "metadata": {},
   "outputs": [],
   "source": [
    "BilevelJuMP.set_mode(model, BilevelJuMP.StrongDualityMode())\n",
    "set_optimizer(model, Ipopt.Optimizer)\n",
    "optimize!(model)"
   ]
  },
  {
   "cell_type": "markdown",
   "metadata": {},
   "source": [
    "## MIP solution"
   ]
  },
  {
   "cell_type": "markdown",
   "metadata": {},
   "source": [
    "It is also possible to solve such problem by using a MIP formulation.\n",
    "The main issue is the product of variable in the upper level objective.\n",
    "However, this can be easily handled by using the package\n",
    "`QuadraticToBinary.jl` for automatic binary expansions.\n",
    "Because binary expansions require bounds on variables,\n",
    "we add the following lines:"
   ]
  },
  {
   "cell_type": "code",
   "execution_count": 258,
   "metadata": {},
   "outputs": [],
   "source": [
    "set_lower_bound(lambda, 0.0)\n",
    "set_upper_bound(lambda, 1000.0)"
   ]
  },
  {
   "cell_type": "markdown",
   "metadata": {},
   "source": [
    "Then, as before, we set a solver\n",
    "(now HiGHS with the `QuadraticToBinary.jl` wrapper) and a solution method\n",
    "(now Fortuny-Amat and McCarl):"
   ]
  },
  {
   "cell_type": "code",
   "execution_count": null,
   "metadata": {},
   "outputs": [],
   "source": [
    "set_optimizer(model,\n",
    "    ()->QuadraticToBinary.Optimizer{Float64}(HiGHS.Optimizer()))\n",
    "BilevelJuMP.set_mode(model,\n",
    "    BilevelJuMP.FortunyAmatMcCarlMode(dual_big_M = 100))\n",
    "optimize!(model)"
   ]
  },
  {
   "cell_type": "markdown",
   "metadata": {},
   "source": [
    "---"
   ]
  },
  {
   "cell_type": "markdown",
   "metadata": {},
   "source": [
    "# MathOptAI"
   ]
  },
  {
   "cell_type": "markdown",
   "metadata": {},
   "source": [
    "## Adversarial machine learning with Lux.jl"
   ]
  },
  {
   "cell_type": "markdown",
   "metadata": {},
   "source": [
    "The purpose of this tutorial is to explain how to embed a neural network model\n",
    "from [Flux.jl](https://github.com/FluxML/Flux.jl) into JuMP."
   ]
  },
  {
   "cell_type": "markdown",
   "metadata": {},
   "source": [
    "## Required packages"
   ]
  },
  {
   "cell_type": "markdown",
   "metadata": {},
   "source": [
    "This tutorial requires the following packages"
   ]
  },
  {
   "cell_type": "code",
   "execution_count": 260,
   "metadata": {},
   "outputs": [],
   "source": [
    "using JuMP\n",
    "import Flux\n",
    "import Ipopt\n",
    "import MathOptAI\n",
    "import MLDatasets\n",
    "import Plots"
   ]
  },
  {
   "cell_type": "markdown",
   "metadata": {},
   "source": [
    "## Data"
   ]
  },
  {
   "cell_type": "markdown",
   "metadata": {},
   "source": [
    "This tutorial uses images from the MNIST dataset."
   ]
  },
  {
   "cell_type": "code",
   "execution_count": 261,
   "metadata": {},
   "outputs": [],
   "source": [
    "mnist_links = [\n",
    "    \"https://ossci-datasets.s3.amazonaws.com/mnist/train-images-idx3-ubyte.gz\",\n",
    "    \"https://ossci-datasets.s3.amazonaws.com/mnist/train-labels-idx1-ubyte.gz\",\n",
    "    \"https://ossci-datasets.s3.amazonaws.com/mnist/t10k-images-idx3-ubyte.gz\",\n",
    "    \"https://ossci-datasets.s3.amazonaws.com/mnist/t10k-labels-idx1-ubyte.gz\",\n",
    "]\n",
    "cd(@__DIR__)\n",
    "rm(\"MNIST\"; force = true, recursive = true)\n",
    "mkdir(\"MNIST\")\n",
    "import Downloads\n",
    "for link in mnist_links\n",
    "    Downloads.download(link, \"MNIST/$(basename(link))\")\n",
    "end"
   ]
  },
  {
   "cell_type": "markdown",
   "metadata": {},
   "source": [
    "We load the predefined train and test splits:"
   ]
  },
  {
   "cell_type": "code",
   "execution_count": null,
   "metadata": {},
   "outputs": [],
   "source": [
    "train_data = MLDatasets.MNIST(; split = :train, dir = \"./MNIST\")"
   ]
  },
  {
   "cell_type": "code",
   "execution_count": null,
   "metadata": {},
   "outputs": [],
   "source": [
    "test_data = MLDatasets.MNIST(; split = :test, dir = \"./MNIST\")"
   ]
  },
  {
   "cell_type": "markdown",
   "metadata": {},
   "source": [
    "Since the data are images, it is helpful to plot them. (This requires a\n",
    "transpose and reversing the rows to get the orientation correct.)"
   ]
  },
  {
   "cell_type": "code",
   "execution_count": null,
   "metadata": {},
   "outputs": [],
   "source": [
    "function plot_image(x::Matrix; kwargs...)\n",
    "    return Plots.heatmap(\n",
    "        x'[size(x, 1):-1:1, :];\n",
    "        xlims = (1, size(x, 2)),\n",
    "        ylims = (1, size(x, 1)),\n",
    "        aspect_ratio = true,\n",
    "        legend = false,\n",
    "        xaxis = false,\n",
    "        yaxis = false,\n",
    "        kwargs...,\n",
    "    )\n",
    "end\n",
    "\n",
    "function plot_image(instance::NamedTuple)\n",
    "    return plot_image(instance.features; title = \"Label = $(instance.targets)\")\n",
    "end\n",
    "\n",
    "Plots.plot([plot_image(train_data[i]) for i in 1:6]...; layout = (2, 3))"
   ]
  },
  {
   "cell_type": "markdown",
   "metadata": {},
   "source": [
    "## Training"
   ]
  },
  {
   "cell_type": "markdown",
   "metadata": {},
   "source": [
    "We use a simple neural network with one hidden layer and a sigmoid activation\n",
    "function. (There are better performing networks; try experimenting.)"
   ]
  },
  {
   "cell_type": "code",
   "execution_count": null,
   "metadata": {},
   "outputs": [],
   "source": [
    "predictor = Flux.Chain(\n",
    "    Flux.Dense(28^2 => 32, Flux.sigmoid),\n",
    "    Flux.Dense(32 => 10),\n",
    "    Flux.softmax,\n",
    ")"
   ]
  },
  {
   "cell_type": "markdown",
   "metadata": {},
   "source": [
    "Here is a function to load our data into the format that `predictor` expects:"
   ]
  },
  {
   "cell_type": "code",
   "execution_count": null,
   "metadata": {},
   "outputs": [],
   "source": [
    "function data_loader(data; batchsize, shuffle = false)\n",
    "    x = reshape(data.features, 28^2, :)\n",
    "    y = Flux.onehotbatch(data.targets, 0:9)\n",
    "    return Flux.DataLoader((x, y); batchsize, shuffle)\n",
    "end"
   ]
  },
  {
   "cell_type": "markdown",
   "metadata": {},
   "source": [
    "and here is a function to score the percentage of correct labels, where we\n",
    "assign a label by choosing the label of the highest `softmax` in the final\n",
    "layer."
   ]
  },
  {
   "cell_type": "code",
   "execution_count": null,
   "metadata": {},
   "outputs": [],
   "source": [
    "function score_model(predictor, data)\n",
    "    x, y = only(data_loader(data; batchsize = length(data)))\n",
    "    y_hat = predictor(x)\n",
    "    is_correct = Flux.onecold(y) .== Flux.onecold(y_hat)\n",
    "    p = round(100 * sum(is_correct) / length(is_correct); digits = 2)\n",
    "    println(\"Accuracy = $p %\")\n",
    "    return\n",
    "end"
   ]
  },
  {
   "cell_type": "markdown",
   "metadata": {},
   "source": [
    "The accuracy of our model is only around 10% before training:"
   ]
  },
  {
   "cell_type": "code",
   "execution_count": null,
   "metadata": {},
   "outputs": [],
   "source": [
    "score_model(predictor, train_data)\n",
    "score_model(predictor, test_data)"
   ]
  },
  {
   "cell_type": "markdown",
   "metadata": {},
   "source": [
    "Let's improve that by training our model."
   ]
  },
  {
   "cell_type": "markdown",
   "metadata": {},
   "source": [
    "**Note**\n",
    "It is not the purpose of this tutorial to explain how Flux works; see the documentation at https://fluxml.ai for more details. Changing the number of epochs or the learning rate can improve the loss."
   ]
  },
  {
   "cell_type": "code",
   "execution_count": null,
   "metadata": {},
   "outputs": [],
   "source": [
    "begin\n",
    "    train_loader = data_loader(train_data; batchsize = 256, shuffle = true)\n",
    "    optimizer_state = Flux.setup(Flux.Adam(3e-4), predictor)\n",
    "    for epoch in 1:30\n",
    "        loss = 0.0\n",
    "        for (x, y) in train_loader\n",
    "            loss_batch, _gradient = Flux.withgradient(predictor) do model\n",
    "                return Flux.crossentropy(model(x), y)\n",
    "            end\n",
    "            Flux.update!(optimizer_state, predictor, only(_gradient))\n",
    "            loss += loss_batch\n",
    "        end\n",
    "        loss = round(loss / length(train_loader); digits = 4)\n",
    "        print(\"Epoch $epoch: loss = $loss\\t\")\n",
    "        score_model(predictor, test_data)\n",
    "    end\n",
    "end"
   ]
  },
  {
   "cell_type": "markdown",
   "metadata": {},
   "source": [
    "Here are the first eight predictions of the test data:"
   ]
  },
  {
   "cell_type": "code",
   "execution_count": null,
   "metadata": {},
   "outputs": [],
   "source": [
    "function plot_image(predictor, x::Matrix)\n",
    "    score, index = findmax(predictor(vec(x)))\n",
    "    title = \"Predicted: $(index - 1) ($(round(Int, 100 * score))%)\"\n",
    "    return plot_image(x; title)\n",
    "end\n",
    "\n",
    "plots = [plot_image(predictor, test_data[i].features) for i in 1:8]\n",
    "Plots.plot(plots...; size = (1200, 600), layout = (2, 4))"
   ]
  },
  {
   "cell_type": "markdown",
   "metadata": {},
   "source": [
    "We can also look at the best and worst four predictions:"
   ]
  },
  {
   "cell_type": "code",
   "execution_count": null,
   "metadata": {},
   "outputs": [],
   "source": [
    "x, y = only(data_loader(test_data; batchsize = length(test_data)))\n",
    "losses = Flux.crossentropy(predictor(x), y; agg = identity)\n",
    "indices = sortperm(losses; dims = 2)[[1:4; end-3:end]]\n",
    "plots = [plot_image(predictor, test_data[i].features) for i in indices]\n",
    "Plots.plot(plots...; size = (1200, 600), layout = (2, 4))"
   ]
  },
  {
   "cell_type": "markdown",
   "metadata": {},
   "source": [
    "There are still some fairly bad mistakes. Can you change the model or training\n",
    "parameters improve to improve things?"
   ]
  },
  {
   "cell_type": "markdown",
   "metadata": {},
   "source": [
    "## JuMP"
   ]
  },
  {
   "cell_type": "markdown",
   "metadata": {},
   "source": [
    "Now that we have a trained machine learning model, we can embed it in a JuMP\n",
    "model."
   ]
  },
  {
   "cell_type": "markdown",
   "metadata": {},
   "source": [
    "Here's a function which takes a test case and returns an example that\n",
    "maximizes the probability of the adversarial example."
   ]
  },
  {
   "cell_type": "code",
   "execution_count": null,
   "metadata": {},
   "outputs": [],
   "source": [
    "function find_adversarial_image(test_case; adversary_label, δ = 0.05)\n",
    "    model = Model(Ipopt.Optimizer)\n",
    "    set_silent(model)\n",
    "    @variable(model, 0 <= x[1:28, 1:28] <= 1)\n",
    "    @constraint(model, -δ .<= x .- test_case.features .<= δ)\n",
    "    # Note: we need to use `vec` here because `x` is a 28-by-28 Matrix, but our\n",
    "    # neural network expects a 28^2 length vector.\n",
    "    y, _ = MathOptAI.add_predictor(model, predictor, vec(x))\n",
    "    @objective(model, Max, y[adversary_label+1] - y[test_case.targets+1])\n",
    "    optimize!(model)\n",
    "    @assert is_solved_and_feasible(model)\n",
    "    return value.(x)\n",
    "end"
   ]
  },
  {
   "cell_type": "markdown",
   "metadata": {},
   "source": [
    "Let's try finding an adversarial example to the third test image. The image on\n",
    "the left is our input image. The network thinks this is a `1` with probability\n",
    "99%. The image on the right is the adversarial image. The network thinks this\n",
    "is a `7`, although it is less confident."
   ]
  },
  {
   "cell_type": "code",
   "execution_count": null,
   "metadata": {},
   "outputs": [],
   "source": [
    "x_adversary = find_adversarial_image(test_data[3]; adversary_label = 7);\n",
    "Plots.plot(\n",
    "    plot_image(predictor, test_data[3].features),\n",
    "    plot_image(predictor, Float32.(x_adversary)),\n",
    ")"
   ]
  },
  {
   "cell_type": "markdown",
   "metadata": {},
   "source": [
    "---"
   ]
  },
  {
   "cell_type": "markdown",
   "metadata": {},
   "source": [
    "# DiffOpt.jl\n",
    "## Differentiate you favorite optimization problems"
   ]
  },
  {
   "cell_type": "code",
   "execution_count": 287,
   "metadata": {},
   "outputs": [],
   "source": [
    "using JuMP, DiffOpt, HiGHS"
   ]
  },
  {
   "cell_type": "markdown",
   "metadata": {},
   "source": [
    "Create a model using the wrapper"
   ]
  },
  {
   "cell_type": "code",
   "execution_count": null,
   "metadata": {},
   "outputs": [],
   "source": [
    "model = Model(() -> DiffOpt.diff_optimizer(HiGHS.Optimizer))"
   ]
  },
  {
   "cell_type": "markdown",
   "metadata": {},
   "source": [
    "Define your model and solve it"
   ]
  },
  {
   "cell_type": "code",
   "execution_count": null,
   "metadata": {},
   "outputs": [],
   "source": [
    "@variable(model, x)\n",
    "p1 = 2\n",
    "p2 = 5\n",
    "@constraint(model, con, p1 * x >= 3 *p2)\n",
    "@objective(model, Min, 2x)\n",
    "optimize!(model)"
   ]
  },
  {
   "cell_type": "markdown",
   "metadata": {},
   "source": [
    "Choose the problem parameters to differentiate with respect to, and set their perturbations."
   ]
  },
  {
   "cell_type": "code",
   "execution_count": 290,
   "metadata": {},
   "outputs": [],
   "source": [
    "MOI.set(model, DiffOpt.ForwardConstraintFunction(), con, 1 * x + 0)"
   ]
  },
  {
   "cell_type": "markdown",
   "metadata": {},
   "source": [
    "Differentiate the model"
   ]
  },
  {
   "cell_type": "code",
   "execution_count": 291,
   "metadata": {},
   "outputs": [],
   "source": [
    "DiffOpt.forward_differentiate!(model)"
   ]
  },
  {
   "cell_type": "markdown",
   "metadata": {},
   "source": [
    "fetch the gradients"
   ]
  },
  {
   "cell_type": "code",
   "execution_count": null,
   "metadata": {},
   "outputs": [],
   "source": [
    "MOI.get(model, DiffOpt.ForwardVariablePrimal(), x)"
   ]
  },
  {
   "cell_type": "markdown",
   "metadata": {},
   "source": [
    "x(p1, p2) = 3p2 / p1, hence dx/dp1 = - 3 * p2 / (p1 ^ 2)"
   ]
  },
  {
   "cell_type": "code",
   "execution_count": null,
   "metadata": {},
   "outputs": [],
   "source": [
    "- 3 * p2 / (p1 ^ 2)"
   ]
  },
  {
   "cell_type": "markdown",
   "metadata": {},
   "source": [
    "---"
   ]
  },
  {
   "cell_type": "markdown",
   "metadata": {},
   "source": [
    "# Callbacks"
   ]
  },
  {
   "cell_type": "markdown",
   "metadata": {},
   "source": [
    "References:\n",
    "- https://jump.dev/JuMP.jl/stable/tutorials/linear/callbacks/\n",
    "- https://jump.dev/JuMP.jl/stable/tutorials/algorithms/benders_decomposition/"
   ]
  },
  {
   "cell_type": "code",
   "execution_count": null,
   "metadata": {},
   "outputs": [],
   "source": [
    "using JuMP\n",
    "import GLPK\n",
    "\n",
    "function example_lazy_constraint()\n",
    "    model = Model(GLPK.Optimizer)\n",
    "    @variable(model, 0 <= x <= 2.5, Int)\n",
    "    @variable(model, 0 <= y <= 2.5, Int)\n",
    "    @objective(model, Max, y)\n",
    "    lazy_called = false\n",
    "    function my_callback_function(cb_data)\n",
    "        lazy_called = true\n",
    "        x_val = callback_value(cb_data, x)\n",
    "        y_val = callback_value(cb_data, y)\n",
    "        println(\"Called from (x, y) = ($x_val, $y_val)\")\n",
    "        status = callback_node_status(cb_data, model)\n",
    "        if status == MOI.CALLBACK_NODE_STATUS_FRACTIONAL\n",
    "            println(\" - Solution is integer infeasible!\")\n",
    "        elseif status == MOI.CALLBACK_NODE_STATUS_INTEGER\n",
    "            println(\" - Solution is integer feasible!\")\n",
    "        else\n",
    "            @assert status == MOI.CALLBACK_NODE_STATUS_UNKNOWN\n",
    "            println(\" - I don't know if the solution is integer feasible :(\")\n",
    "        end\n",
    "        if y_val - x_val > 1 + 1e-6\n",
    "            con = @build_constraint(y - x <= 1)\n",
    "            println(\"Adding $(con)\")\n",
    "            MOI.submit(model, MOI.LazyConstraint(cb_data), con)\n",
    "        elseif y_val + x_val > 3 + 1e-6\n",
    "            con = @build_constraint(y + x <= 3)\n",
    "            println(\"Adding $(con)\")\n",
    "            MOI.submit(model, MOI.LazyConstraint(cb_data), con)\n",
    "        end\n",
    "    end\n",
    "    set_attribute(model, MOI.LazyConstraintCallback(), my_callback_function)\n",
    "    optimize!(model)\n",
    "    Test.@test is_solved_and_feasible(model)\n",
    "    Test.@test lazy_called\n",
    "    Test.@test value(x) == 1\n",
    "    Test.@test value(y) == 2\n",
    "    println(\"Optimal solution (x, y) = ($(value(x)), $(value(y)))\")\n",
    "    return\n",
    "end\n",
    "\n",
    "example_lazy_constraint()"
   ]
  },
  {
   "cell_type": "markdown",
   "metadata": {},
   "source": [
    "---"
   ]
  },
  {
   "cell_type": "markdown",
   "metadata": {},
   "source": [
    "# The End"
   ]
  }
 ],
 "metadata": {
  "kernelspec": {
   "display_name": "Julia 1.10.5",
   "language": "julia",
   "name": "julia-1.10"
  },
  "language_info": {
   "file_extension": ".jl",
   "mimetype": "application/julia",
   "name": "julia",
   "version": "1.10.5"
  }
 },
 "nbformat": 4,
 "nbformat_minor": 3
}
